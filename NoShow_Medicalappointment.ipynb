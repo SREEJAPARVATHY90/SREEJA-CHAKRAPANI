{
 "cells": [
  {
   "cell_type": "markdown",
   "metadata": {},
   "source": [
    "# No-show Appoiments: Analysis and Prediction."
   ]
  },
  {
   "cell_type": "markdown",
   "metadata": {},
   "source": [
    "I am a beginner in Data Analysis and very passionte about it.I have chosen No-show appointment dataset for the analysis.\n",
    "This is my first Data Analysis project."
   ]
  },
  {
   "cell_type": "markdown",
   "metadata": {},
   "source": [
    "# Question Phase."
   ]
  },
  {
   "cell_type": "markdown",
   "metadata": {},
   "source": [
    "I would like to pose two questions based on this data:\n",
    "\n",
    "1.Is their any gender-based differences in doctor visits and why?\n",
    "\n",
    "2.What are the factors that a patient will show up or no-show up for their scheduled appointment?"
   ]
  },
  {
   "cell_type": "markdown",
   "metadata": {},
   "source": [
    "Before answering this question,first we have to acquire the data and then clean it for the analysis. "
   ]
  },
  {
   "cell_type": "markdown",
   "metadata": {},
   "source": [
    "# Data Acquistition."
   ]
  },
  {
   "cell_type": "code",
   "execution_count": 242,
   "metadata": {},
   "outputs": [
    {
     "name": "stdout",
     "output_type": "stream",
     "text": [
      "      PatientId  AppointmentID Gender          ScheduledDay  \\\n",
      "0  2.987250e+13        5642903      F  2016-04-29T18:38:08Z   \n",
      "1  5.589978e+14        5642503      M  2016-04-29T16:08:27Z   \n",
      "2  4.262962e+12        5642549      F  2016-04-29T16:19:04Z   \n",
      "3  8.679512e+11        5642828      F  2016-04-29T17:29:31Z   \n",
      "4  8.841186e+12        5642494      F  2016-04-29T16:07:23Z   \n",
      "\n",
      "         AppointmentDay  Age      Neighbourhood  Scholarship  Hipertension  \\\n",
      "0  2016-04-29T00:00:00Z   62    JARDIM DA PENHA            0             1   \n",
      "1  2016-04-29T00:00:00Z   56    JARDIM DA PENHA            0             0   \n",
      "2  2016-04-29T00:00:00Z   62      MATA DA PRAIA            0             0   \n",
      "3  2016-04-29T00:00:00Z    8  PONTAL DE CAMBURI            0             0   \n",
      "4  2016-04-29T00:00:00Z   56    JARDIM DA PENHA            0             1   \n",
      "\n",
      "   Diabetes  Alcoholism  Handcap  SMS_received No-show  \n",
      "0         0           0        0             0      No  \n",
      "1         0           0        0             0      No  \n",
      "2         0           0        0             0      No  \n",
      "3         0           0        0             0      No  \n",
      "4         1           0        0             0      No  \n"
     ]
    }
   ],
   "source": [
    "# We are loading all the required libraries. Libraries for reading CSV File, Data Exploration, Visualization and Data Modeling \n",
    "# are all loaded in the cell.\n",
    "import numpy as np\n",
    "import pandas as pd\n",
    "import matplotlib.pyplot as plt\n",
    "%matplotlib inline\n",
    "import matplotlib.pyplot as plt \n",
    "import seaborn as sns\n",
    "from datetime import datetime\n",
    "import sklearn\n",
    "from sklearn.model_selection import train_test_split\n",
    "from sklearn.linear_model import LogisticRegression\n",
    "noshow_appointments = pd.read_csv(\"https://d17h27t6h515a5.cloudfront.net/topher/2017/October/59dd2e9a_noshowappointments-kagglev2-may-2016/noshowappointments-kagglev2-may-2016.csv\")\n",
    "print (noshow_appointments.head())"
   ]
  },
  {
   "cell_type": "code",
   "execution_count": 243,
   "metadata": {},
   "outputs": [
    {
     "data": {
      "text/html": [
       "<div>\n",
       "<style scoped>\n",
       "    .dataframe tbody tr th:only-of-type {\n",
       "        vertical-align: middle;\n",
       "    }\n",
       "\n",
       "    .dataframe tbody tr th {\n",
       "        vertical-align: top;\n",
       "    }\n",
       "\n",
       "    .dataframe thead th {\n",
       "        text-align: right;\n",
       "    }\n",
       "</style>\n",
       "<table border=\"1\" class=\"dataframe\">\n",
       "  <thead>\n",
       "    <tr style=\"text-align: right;\">\n",
       "      <th></th>\n",
       "      <th>PatientId</th>\n",
       "      <th>AppointmentID</th>\n",
       "      <th>Gender</th>\n",
       "      <th>ScheduledDay</th>\n",
       "      <th>AppointmentDay</th>\n",
       "      <th>Age</th>\n",
       "      <th>Neighbourhood</th>\n",
       "      <th>Scholarship</th>\n",
       "      <th>Hipertension</th>\n",
       "      <th>Diabetes</th>\n",
       "      <th>Alcoholism</th>\n",
       "      <th>Handcap</th>\n",
       "      <th>SMS_received</th>\n",
       "      <th>No-show</th>\n",
       "    </tr>\n",
       "  </thead>\n",
       "  <tbody>\n",
       "    <tr>\n",
       "      <th>0</th>\n",
       "      <td>2.987250e+13</td>\n",
       "      <td>5642903</td>\n",
       "      <td>F</td>\n",
       "      <td>2016-04-29T18:38:08Z</td>\n",
       "      <td>2016-04-29T00:00:00Z</td>\n",
       "      <td>62</td>\n",
       "      <td>JARDIM DA PENHA</td>\n",
       "      <td>0</td>\n",
       "      <td>1</td>\n",
       "      <td>0</td>\n",
       "      <td>0</td>\n",
       "      <td>0</td>\n",
       "      <td>0</td>\n",
       "      <td>No</td>\n",
       "    </tr>\n",
       "    <tr>\n",
       "      <th>1</th>\n",
       "      <td>5.589978e+14</td>\n",
       "      <td>5642503</td>\n",
       "      <td>M</td>\n",
       "      <td>2016-04-29T16:08:27Z</td>\n",
       "      <td>2016-04-29T00:00:00Z</td>\n",
       "      <td>56</td>\n",
       "      <td>JARDIM DA PENHA</td>\n",
       "      <td>0</td>\n",
       "      <td>0</td>\n",
       "      <td>0</td>\n",
       "      <td>0</td>\n",
       "      <td>0</td>\n",
       "      <td>0</td>\n",
       "      <td>No</td>\n",
       "    </tr>\n",
       "    <tr>\n",
       "      <th>2</th>\n",
       "      <td>4.262962e+12</td>\n",
       "      <td>5642549</td>\n",
       "      <td>F</td>\n",
       "      <td>2016-04-29T16:19:04Z</td>\n",
       "      <td>2016-04-29T00:00:00Z</td>\n",
       "      <td>62</td>\n",
       "      <td>MATA DA PRAIA</td>\n",
       "      <td>0</td>\n",
       "      <td>0</td>\n",
       "      <td>0</td>\n",
       "      <td>0</td>\n",
       "      <td>0</td>\n",
       "      <td>0</td>\n",
       "      <td>No</td>\n",
       "    </tr>\n",
       "    <tr>\n",
       "      <th>3</th>\n",
       "      <td>8.679512e+11</td>\n",
       "      <td>5642828</td>\n",
       "      <td>F</td>\n",
       "      <td>2016-04-29T17:29:31Z</td>\n",
       "      <td>2016-04-29T00:00:00Z</td>\n",
       "      <td>8</td>\n",
       "      <td>PONTAL DE CAMBURI</td>\n",
       "      <td>0</td>\n",
       "      <td>0</td>\n",
       "      <td>0</td>\n",
       "      <td>0</td>\n",
       "      <td>0</td>\n",
       "      <td>0</td>\n",
       "      <td>No</td>\n",
       "    </tr>\n",
       "    <tr>\n",
       "      <th>4</th>\n",
       "      <td>8.841186e+12</td>\n",
       "      <td>5642494</td>\n",
       "      <td>F</td>\n",
       "      <td>2016-04-29T16:07:23Z</td>\n",
       "      <td>2016-04-29T00:00:00Z</td>\n",
       "      <td>56</td>\n",
       "      <td>JARDIM DA PENHA</td>\n",
       "      <td>0</td>\n",
       "      <td>1</td>\n",
       "      <td>1</td>\n",
       "      <td>0</td>\n",
       "      <td>0</td>\n",
       "      <td>0</td>\n",
       "      <td>No</td>\n",
       "    </tr>\n",
       "    <tr>\n",
       "      <th>5</th>\n",
       "      <td>9.598513e+13</td>\n",
       "      <td>5626772</td>\n",
       "      <td>F</td>\n",
       "      <td>2016-04-27T08:36:51Z</td>\n",
       "      <td>2016-04-29T00:00:00Z</td>\n",
       "      <td>76</td>\n",
       "      <td>REPÚBLICA</td>\n",
       "      <td>0</td>\n",
       "      <td>1</td>\n",
       "      <td>0</td>\n",
       "      <td>0</td>\n",
       "      <td>0</td>\n",
       "      <td>0</td>\n",
       "      <td>No</td>\n",
       "    </tr>\n",
       "    <tr>\n",
       "      <th>6</th>\n",
       "      <td>7.336882e+14</td>\n",
       "      <td>5630279</td>\n",
       "      <td>F</td>\n",
       "      <td>2016-04-27T15:05:12Z</td>\n",
       "      <td>2016-04-29T00:00:00Z</td>\n",
       "      <td>23</td>\n",
       "      <td>GOIABEIRAS</td>\n",
       "      <td>0</td>\n",
       "      <td>0</td>\n",
       "      <td>0</td>\n",
       "      <td>0</td>\n",
       "      <td>0</td>\n",
       "      <td>0</td>\n",
       "      <td>Yes</td>\n",
       "    </tr>\n",
       "    <tr>\n",
       "      <th>7</th>\n",
       "      <td>3.449833e+12</td>\n",
       "      <td>5630575</td>\n",
       "      <td>F</td>\n",
       "      <td>2016-04-27T15:39:58Z</td>\n",
       "      <td>2016-04-29T00:00:00Z</td>\n",
       "      <td>39</td>\n",
       "      <td>GOIABEIRAS</td>\n",
       "      <td>0</td>\n",
       "      <td>0</td>\n",
       "      <td>0</td>\n",
       "      <td>0</td>\n",
       "      <td>0</td>\n",
       "      <td>0</td>\n",
       "      <td>Yes</td>\n",
       "    </tr>\n",
       "    <tr>\n",
       "      <th>8</th>\n",
       "      <td>5.639473e+13</td>\n",
       "      <td>5638447</td>\n",
       "      <td>F</td>\n",
       "      <td>2016-04-29T08:02:16Z</td>\n",
       "      <td>2016-04-29T00:00:00Z</td>\n",
       "      <td>21</td>\n",
       "      <td>ANDORINHAS</td>\n",
       "      <td>0</td>\n",
       "      <td>0</td>\n",
       "      <td>0</td>\n",
       "      <td>0</td>\n",
       "      <td>0</td>\n",
       "      <td>0</td>\n",
       "      <td>No</td>\n",
       "    </tr>\n",
       "    <tr>\n",
       "      <th>9</th>\n",
       "      <td>7.812456e+13</td>\n",
       "      <td>5629123</td>\n",
       "      <td>F</td>\n",
       "      <td>2016-04-27T12:48:25Z</td>\n",
       "      <td>2016-04-29T00:00:00Z</td>\n",
       "      <td>19</td>\n",
       "      <td>CONQUISTA</td>\n",
       "      <td>0</td>\n",
       "      <td>0</td>\n",
       "      <td>0</td>\n",
       "      <td>0</td>\n",
       "      <td>0</td>\n",
       "      <td>0</td>\n",
       "      <td>No</td>\n",
       "    </tr>\n",
       "  </tbody>\n",
       "</table>\n",
       "</div>"
      ],
      "text/plain": [
       "      PatientId  AppointmentID Gender          ScheduledDay  \\\n",
       "0  2.987250e+13        5642903      F  2016-04-29T18:38:08Z   \n",
       "1  5.589978e+14        5642503      M  2016-04-29T16:08:27Z   \n",
       "2  4.262962e+12        5642549      F  2016-04-29T16:19:04Z   \n",
       "3  8.679512e+11        5642828      F  2016-04-29T17:29:31Z   \n",
       "4  8.841186e+12        5642494      F  2016-04-29T16:07:23Z   \n",
       "5  9.598513e+13        5626772      F  2016-04-27T08:36:51Z   \n",
       "6  7.336882e+14        5630279      F  2016-04-27T15:05:12Z   \n",
       "7  3.449833e+12        5630575      F  2016-04-27T15:39:58Z   \n",
       "8  5.639473e+13        5638447      F  2016-04-29T08:02:16Z   \n",
       "9  7.812456e+13        5629123      F  2016-04-27T12:48:25Z   \n",
       "\n",
       "         AppointmentDay  Age      Neighbourhood  Scholarship  Hipertension  \\\n",
       "0  2016-04-29T00:00:00Z   62    JARDIM DA PENHA            0             1   \n",
       "1  2016-04-29T00:00:00Z   56    JARDIM DA PENHA            0             0   \n",
       "2  2016-04-29T00:00:00Z   62      MATA DA PRAIA            0             0   \n",
       "3  2016-04-29T00:00:00Z    8  PONTAL DE CAMBURI            0             0   \n",
       "4  2016-04-29T00:00:00Z   56    JARDIM DA PENHA            0             1   \n",
       "5  2016-04-29T00:00:00Z   76          REPÚBLICA            0             1   \n",
       "6  2016-04-29T00:00:00Z   23         GOIABEIRAS            0             0   \n",
       "7  2016-04-29T00:00:00Z   39         GOIABEIRAS            0             0   \n",
       "8  2016-04-29T00:00:00Z   21         ANDORINHAS            0             0   \n",
       "9  2016-04-29T00:00:00Z   19          CONQUISTA            0             0   \n",
       "\n",
       "   Diabetes  Alcoholism  Handcap  SMS_received No-show  \n",
       "0         0           0        0             0      No  \n",
       "1         0           0        0             0      No  \n",
       "2         0           0        0             0      No  \n",
       "3         0           0        0             0      No  \n",
       "4         1           0        0             0      No  \n",
       "5         0           0        0             0      No  \n",
       "6         0           0        0             0     Yes  \n",
       "7         0           0        0             0     Yes  \n",
       "8         0           0        0             0      No  \n",
       "9         0           0        0             0      No  "
      ]
     },
     "execution_count": 243,
     "metadata": {},
     "output_type": "execute_result"
    }
   ],
   "source": [
    "# Assign the dataset to a variable and take a sample of the set.\n",
    "df = pd.DataFrame(noshow_appointments)\n",
    "df.head(10)"
   ]
  },
  {
   "cell_type": "code",
   "execution_count": 244,
   "metadata": {},
   "outputs": [],
   "source": [
    "# Displays some necessary features.\n",
    "# df.describe()"
   ]
  },
  {
   "cell_type": "markdown",
   "metadata": {},
   "source": [
    "# Data Cleaning."
   ]
  },
  {
   "cell_type": "markdown",
   "metadata": {},
   "source": [
    "There are columns which have typos.So,we have to first clear them,so that their is no confusion later on."
   ]
  },
  {
   "cell_type": "code",
   "execution_count": 245,
   "metadata": {},
   "outputs": [
    {
     "name": "stdout",
     "output_type": "stream",
     "text": [
      "Index(['PatientId', 'AppointmentID', 'Gender', 'ScheduledDay',\n",
      "       'AppointmentDay', 'Age', 'Neighbourhood', 'Scholarship', 'Hypertension',\n",
      "       'Diabetes', 'Alcoholism', 'Handicap', 'SMS_received', 'Noshow'],\n",
      "      dtype='object')\n"
     ]
    },
    {
     "data": {
      "text/plain": [
       "<bound method NDFrame.head of            PatientId  AppointmentID Gender          ScheduledDay  \\\n",
       "0       2.987250e+13        5642903      F  2016-04-29T18:38:08Z   \n",
       "1       5.589978e+14        5642503      M  2016-04-29T16:08:27Z   \n",
       "2       4.262962e+12        5642549      F  2016-04-29T16:19:04Z   \n",
       "3       8.679512e+11        5642828      F  2016-04-29T17:29:31Z   \n",
       "4       8.841186e+12        5642494      F  2016-04-29T16:07:23Z   \n",
       "5       9.598513e+13        5626772      F  2016-04-27T08:36:51Z   \n",
       "6       7.336882e+14        5630279      F  2016-04-27T15:05:12Z   \n",
       "7       3.449833e+12        5630575      F  2016-04-27T15:39:58Z   \n",
       "8       5.639473e+13        5638447      F  2016-04-29T08:02:16Z   \n",
       "9       7.812456e+13        5629123      F  2016-04-27T12:48:25Z   \n",
       "10      7.345362e+14        5630213      F  2016-04-27T14:58:11Z   \n",
       "11      7.542951e+12        5620163      M  2016-04-26T08:44:12Z   \n",
       "12      5.666548e+14        5634718      F  2016-04-28T11:33:51Z   \n",
       "13      9.113946e+14        5636249      M  2016-04-28T14:52:07Z   \n",
       "14      9.988472e+13        5633951      F  2016-04-28T10:06:24Z   \n",
       "15      9.994839e+10        5620206      F  2016-04-26T08:47:27Z   \n",
       "16      8.457439e+13        5633121      M  2016-04-28T08:51:47Z   \n",
       "17      1.479497e+13        5633460      F  2016-04-28T09:28:57Z   \n",
       "18      1.713538e+13        5621836      F  2016-04-26T10:54:18Z   \n",
       "19      7.223289e+12        5640433      F  2016-04-29T10:43:14Z   \n",
       "20      6.222575e+14        5626083      F  2016-04-27T07:51:14Z   \n",
       "21      1.215484e+13        5628338      F  2016-04-27T10:50:45Z   \n",
       "22      8.632298e+14        5616091      M  2016-04-25T13:29:16Z   \n",
       "23      2.137540e+14        5634142      F  2016-04-28T10:27:05Z   \n",
       "24      8.734858e+12        5641780      F  2016-04-29T14:19:19Z   \n",
       "25      5.819370e+12        5624020      M  2016-04-26T15:04:17Z   \n",
       "26      2.578785e+10        5641781      F  2016-04-29T14:19:42Z   \n",
       "27      1.215484e+13        5628345      F  2016-04-27T10:51:45Z   \n",
       "28      5.926172e+12        5642400      M  2016-04-29T15:48:02Z   \n",
       "29      1.225776e+12        5642186      F  2016-04-29T15:16:29Z   \n",
       "...              ...            ...    ...                   ...   \n",
       "110497  7.935892e+14        5757745      M  2016-06-01T09:46:33Z   \n",
       "110498  9.433654e+13        5787655      F  2016-06-08T10:21:14Z   \n",
       "110499  8.219692e+14        5757697      F  2016-06-01T09:42:56Z   \n",
       "110500  4.434384e+14        5787233      F  2016-06-08T09:35:13Z   \n",
       "110501  4.544252e+11        5758133      M  2016-06-01T10:19:12Z   \n",
       "110502  7.316229e+14        5787937      F  2016-06-08T10:50:42Z   \n",
       "110503  2.362182e+13        5759473      F  2016-06-01T13:00:36Z   \n",
       "110504  9.947983e+12        5788052      F  2016-06-08T11:06:21Z   \n",
       "110505  5.667344e+13        5758455      F  2016-06-01T10:45:50Z   \n",
       "110506  8.973883e+11        5758779      M  2016-06-01T11:09:20Z   \n",
       "110507  4.769462e+14        5786918      F  2016-06-08T09:04:18Z   \n",
       "110508  9.433654e+13        5757656      F  2016-06-01T09:41:00Z   \n",
       "110509  4.952968e+14        5786750      M  2016-06-08T08:50:51Z   \n",
       "110510  2.362182e+13        5757587      F  2016-06-01T09:35:48Z   \n",
       "110511  8.235996e+11        5786742      F  2016-06-08T08:50:20Z   \n",
       "110512  9.876246e+13        5786368      F  2016-06-08T08:20:01Z   \n",
       "110513  8.674778e+13        5785964      M  2016-06-08T07:52:55Z   \n",
       "110514  2.695685e+12        5786567      F  2016-06-08T08:35:31Z   \n",
       "110515  6.456342e+14        5778621      M  2016-06-06T15:58:05Z   \n",
       "110516  6.923772e+13        5780205      F  2016-06-07T07:45:16Z   \n",
       "110517  5.574942e+12        5780122      F  2016-06-07T07:38:34Z   \n",
       "110518  7.263315e+13        5630375      F  2016-04-27T15:15:06Z   \n",
       "110519  6.542388e+13        5630447      F  2016-04-27T15:23:14Z   \n",
       "110520  9.969977e+14        5650534      F  2016-05-03T07:51:47Z   \n",
       "110521  3.635534e+13        5651072      F  2016-05-03T08:23:40Z   \n",
       "110522  2.572134e+12        5651768      F  2016-05-03T09:15:35Z   \n",
       "110523  3.596266e+12        5650093      F  2016-05-03T07:27:33Z   \n",
       "110524  1.557663e+13        5630692      F  2016-04-27T16:03:52Z   \n",
       "110525  9.213493e+13        5630323      F  2016-04-27T15:09:23Z   \n",
       "110526  3.775115e+14        5629448      F  2016-04-27T13:30:56Z   \n",
       "\n",
       "              AppointmentDay  Age      Neighbourhood  Scholarship  \\\n",
       "0       2016-04-29T00:00:00Z   62    JARDIM DA PENHA            0   \n",
       "1       2016-04-29T00:00:00Z   56    JARDIM DA PENHA            0   \n",
       "2       2016-04-29T00:00:00Z   62      MATA DA PRAIA            0   \n",
       "3       2016-04-29T00:00:00Z    8  PONTAL DE CAMBURI            0   \n",
       "4       2016-04-29T00:00:00Z   56    JARDIM DA PENHA            0   \n",
       "5       2016-04-29T00:00:00Z   76          REPÚBLICA            0   \n",
       "6       2016-04-29T00:00:00Z   23         GOIABEIRAS            0   \n",
       "7       2016-04-29T00:00:00Z   39         GOIABEIRAS            0   \n",
       "8       2016-04-29T00:00:00Z   21         ANDORINHAS            0   \n",
       "9       2016-04-29T00:00:00Z   19          CONQUISTA            0   \n",
       "10      2016-04-29T00:00:00Z   30     NOVA PALESTINA            0   \n",
       "11      2016-04-29T00:00:00Z   29     NOVA PALESTINA            0   \n",
       "12      2016-04-29T00:00:00Z   22     NOVA PALESTINA            1   \n",
       "13      2016-04-29T00:00:00Z   28     NOVA PALESTINA            0   \n",
       "14      2016-04-29T00:00:00Z   54     NOVA PALESTINA            0   \n",
       "15      2016-04-29T00:00:00Z   15     NOVA PALESTINA            0   \n",
       "16      2016-04-29T00:00:00Z   50     NOVA PALESTINA            0   \n",
       "17      2016-04-29T00:00:00Z   40          CONQUISTA            1   \n",
       "18      2016-04-29T00:00:00Z   30     NOVA PALESTINA            1   \n",
       "19      2016-04-29T00:00:00Z   46           DA PENHA            0   \n",
       "20      2016-04-29T00:00:00Z   30     NOVA PALESTINA            0   \n",
       "21      2016-04-29T00:00:00Z    4          CONQUISTA            0   \n",
       "22      2016-04-29T00:00:00Z   13          CONQUISTA            0   \n",
       "23      2016-04-29T00:00:00Z   46          CONQUISTA            0   \n",
       "24      2016-04-29T00:00:00Z   65         TABUAZEIRO            0   \n",
       "25      2016-04-29T00:00:00Z   46          CONQUISTA            0   \n",
       "26      2016-04-29T00:00:00Z   45     BENTO FERREIRA            0   \n",
       "27      2016-04-29T00:00:00Z    4          CONQUISTA            0   \n",
       "28      2016-04-29T00:00:00Z   51          SÃO PEDRO            0   \n",
       "29      2016-04-29T00:00:00Z   32       SANTA MARTHA            0   \n",
       "...                      ...  ...                ...          ...   \n",
       "110497  2016-06-01T00:00:00Z   76        MARIA ORTIZ            0   \n",
       "110498  2016-06-08T00:00:00Z   59        MARIA ORTIZ            0   \n",
       "110499  2016-06-01T00:00:00Z   66        MARIA ORTIZ            0   \n",
       "110500  2016-06-08T00:00:00Z   59        MARIA ORTIZ            0   \n",
       "110501  2016-06-01T00:00:00Z   44        MARIA ORTIZ            0   \n",
       "110502  2016-06-08T00:00:00Z   22         GOIABEIRAS            0   \n",
       "110503  2016-06-01T00:00:00Z   64       SOLON BORGES            0   \n",
       "110504  2016-06-08T00:00:00Z    4        MARIA ORTIZ            0   \n",
       "110505  2016-06-01T00:00:00Z   55        MARIA ORTIZ            0   \n",
       "110506  2016-06-01T00:00:00Z    5        MARIA ORTIZ            0   \n",
       "110507  2016-06-08T00:00:00Z    0        MARIA ORTIZ            0   \n",
       "110508  2016-06-01T00:00:00Z   59        MARIA ORTIZ            0   \n",
       "110509  2016-06-08T00:00:00Z   33        MARIA ORTIZ            0   \n",
       "110510  2016-06-01T00:00:00Z   64       SOLON BORGES            0   \n",
       "110511  2016-06-08T00:00:00Z   14        MARIA ORTIZ            0   \n",
       "110512  2016-06-08T00:00:00Z   41        MARIA ORTIZ            0   \n",
       "110513  2016-06-08T00:00:00Z    2    ANTÔNIO HONÓRIO            0   \n",
       "110514  2016-06-08T00:00:00Z   58        MARIA ORTIZ            0   \n",
       "110515  2016-06-08T00:00:00Z   33        MARIA ORTIZ            0   \n",
       "110516  2016-06-08T00:00:00Z   37        MARIA ORTIZ            0   \n",
       "110517  2016-06-07T00:00:00Z   19        MARIA ORTIZ            0   \n",
       "110518  2016-06-07T00:00:00Z   50        MARIA ORTIZ            0   \n",
       "110519  2016-06-07T00:00:00Z   22        MARIA ORTIZ            0   \n",
       "110520  2016-06-07T00:00:00Z   42        MARIA ORTIZ            0   \n",
       "110521  2016-06-07T00:00:00Z   53        MARIA ORTIZ            0   \n",
       "110522  2016-06-07T00:00:00Z   56        MARIA ORTIZ            0   \n",
       "110523  2016-06-07T00:00:00Z   51        MARIA ORTIZ            0   \n",
       "110524  2016-06-07T00:00:00Z   21        MARIA ORTIZ            0   \n",
       "110525  2016-06-07T00:00:00Z   38        MARIA ORTIZ            0   \n",
       "110526  2016-06-07T00:00:00Z   54        MARIA ORTIZ            0   \n",
       "\n",
       "        Hypertension  Diabetes  Alcoholism  Handicap  SMS_received Noshow  \n",
       "0                  1         0           0         0             0     No  \n",
       "1                  0         0           0         0             0     No  \n",
       "2                  0         0           0         0             0     No  \n",
       "3                  0         0           0         0             0     No  \n",
       "4                  1         1           0         0             0     No  \n",
       "5                  1         0           0         0             0     No  \n",
       "6                  0         0           0         0             0    Yes  \n",
       "7                  0         0           0         0             0    Yes  \n",
       "8                  0         0           0         0             0     No  \n",
       "9                  0         0           0         0             0     No  \n",
       "10                 0         0           0         0             0     No  \n",
       "11                 0         0           0         0             1    Yes  \n",
       "12                 0         0           0         0             0     No  \n",
       "13                 0         0           0         0             0     No  \n",
       "14                 0         0           0         0             0     No  \n",
       "15                 0         0           0         0             1     No  \n",
       "16                 0         0           0         0             0     No  \n",
       "17                 0         0           0         0             0    Yes  \n",
       "18                 0         0           0         0             1     No  \n",
       "19                 0         0           0         0             0     No  \n",
       "20                 0         0           0         0             0    Yes  \n",
       "21                 0         0           0         0             0    Yes  \n",
       "22                 0         0           0         0             1    Yes  \n",
       "23                 0         0           0         0             0     No  \n",
       "24                 0         0           0         0             0     No  \n",
       "25                 1         0           0         0             1     No  \n",
       "26                 1         0           0         0             0     No  \n",
       "27                 0         0           0         0             0     No  \n",
       "28                 0         0           0         0             0     No  \n",
       "29                 0         0           0         0             0     No  \n",
       "...              ...       ...         ...       ...           ...    ...  \n",
       "110497             0         0           0         0             0     No  \n",
       "110498             0         0           0         0             0     No  \n",
       "110499             1         1           0         0             0     No  \n",
       "110500             0         0           0         0             0     No  \n",
       "110501             0         0           0         0             0     No  \n",
       "110502             0         0           0         0             0     No  \n",
       "110503             0         0           0         0             0     No  \n",
       "110504             0         0           0         0             0     No  \n",
       "110505             0         0           0         0             0     No  \n",
       "110506             0         0           0         0             0     No  \n",
       "110507             0         0           0         0             0     No  \n",
       "110508             0         0           0         0             0     No  \n",
       "110509             0         0           0         0             0     No  \n",
       "110510             0         0           0         0             0     No  \n",
       "110511             0         0           0         0             0     No  \n",
       "110512             0         0           0         0             0     No  \n",
       "110513             0         0           0         0             0     No  \n",
       "110514             0         0           0         0             0     No  \n",
       "110515             1         0           0         0             0    Yes  \n",
       "110516             0         0           0         0             0    Yes  \n",
       "110517             0         0           0         0             0     No  \n",
       "110518             0         0           0         0             1     No  \n",
       "110519             0         0           0         0             1     No  \n",
       "110520             0         0           0         0             1     No  \n",
       "110521             0         0           0         0             1     No  \n",
       "110522             0         0           0         0             1     No  \n",
       "110523             0         0           0         0             1     No  \n",
       "110524             0         0           0         0             1     No  \n",
       "110525             0         0           0         0             1     No  \n",
       "110526             0         0           0         0             1     No  \n",
       "\n",
       "[110527 rows x 14 columns]>"
      ]
     },
     "execution_count": 245,
     "metadata": {},
     "output_type": "execute_result"
    }
   ],
   "source": [
    "# Rename the columns with typos.\n",
    "noshow_appointments.rename(columns = {'Hipertension':'Hypertension',\n",
    "                                      'Handcap':'Handicap','No-show':'Noshow'},inplace=True)\n",
    "print (noshow_appointments.columns)\n",
    "noshow_appointments.head"
   ]
  },
  {
   "cell_type": "code",
   "execution_count": 246,
   "metadata": {},
   "outputs": [],
   "source": [
    "df = pd.DataFrame(noshow_appointments)\n",
    "#df.describe()"
   ]
  },
  {
   "cell_type": "markdown",
   "metadata": {},
   "source": [
    "We have to check for any error values and NaNs in data before prediction.For that,"
   ]
  },
  {
   "cell_type": "code",
   "execution_count": 247,
   "metadata": {},
   "outputs": [
    {
     "name": "stdout",
     "output_type": "stream",
     "text": [
      "<class 'pandas.core.frame.DataFrame'>\n",
      "RangeIndex: 110527 entries, 0 to 110526\n",
      "Data columns (total 14 columns):\n",
      "PatientId         110527 non-null float64\n",
      "AppointmentID     110527 non-null int64\n",
      "Gender            110527 non-null object\n",
      "ScheduledDay      110527 non-null object\n",
      "AppointmentDay    110527 non-null object\n",
      "Age               110527 non-null int64\n",
      "Neighbourhood     110527 non-null object\n",
      "Scholarship       110527 non-null int64\n",
      "Hypertension      110527 non-null int64\n",
      "Diabetes          110527 non-null int64\n",
      "Alcoholism        110527 non-null int64\n",
      "Handicap          110527 non-null int64\n",
      "SMS_received      110527 non-null int64\n",
      "Noshow            110527 non-null object\n",
      "dtypes: float64(1), int64(8), object(5)\n",
      "memory usage: 11.8+ MB\n"
     ]
    }
   ],
   "source": [
    "df.info()"
   ]
  },
  {
   "cell_type": "markdown",
   "metadata": {},
   "source": [
    "From the above info,it is clear that we have no NANs and missing values. "
   ]
  },
  {
   "cell_type": "markdown",
   "metadata": {},
   "source": [
    "First, we are going to convert the data type of AppointmentDay and ScheduledDay to DateTime format."
   ]
  },
  {
   "cell_type": "code",
   "execution_count": 248,
   "metadata": {},
   "outputs": [],
   "source": [
    "# Converting AppointmentDay and ScheduledDay from object type to datetime64[ns].\n",
    "df.AppointmentDay = df.AppointmentDay.apply(np.datetime64)\n",
    "df['WeekDay'] = df['AppointmentDay'].dt.day\n",
    "df.ScheduledDay = df.ScheduledDay.apply(np.datetime64)\n",
    "df['DayScheduled'] = df['ScheduledDay'].dt.day"
   ]
  },
  {
   "cell_type": "markdown",
   "metadata": {},
   "source": [
    "Next, we are going to drop PatientId and AppointmentID as they are of no use for the prediction and also the object type columns Noshow and Gender are changing into integers."
   ]
  },
  {
   "cell_type": "code",
   "execution_count": 249,
   "metadata": {},
   "outputs": [],
   "source": [
    "# Dropping 'PatientId' and 'AppointmentID' as they are just some system generated numbers which are not at all important \n",
    "# in our analysis.\n",
    "df.drop(['PatientId', 'AppointmentID'], axis=1, inplace=True)\n",
    "# Converting 'Gender' and 'Noshow' from object format to integer format.\n",
    "df.Gender = df.Gender.apply(lambda x: 1 if x == 'M' else 0)\n",
    "df['Noshow'] = df['Noshow'].replace('Yes',1)\n",
    "df['Noshow'] = df['Noshow'].replace('No',0)"
   ]
  },
  {
   "cell_type": "code",
   "execution_count": 250,
   "metadata": {},
   "outputs": [
    {
     "data": {
      "text/html": [
       "<div>\n",
       "<style scoped>\n",
       "    .dataframe tbody tr th:only-of-type {\n",
       "        vertical-align: middle;\n",
       "    }\n",
       "\n",
       "    .dataframe tbody tr th {\n",
       "        vertical-align: top;\n",
       "    }\n",
       "\n",
       "    .dataframe thead th {\n",
       "        text-align: right;\n",
       "    }\n",
       "</style>\n",
       "<table border=\"1\" class=\"dataframe\">\n",
       "  <thead>\n",
       "    <tr style=\"text-align: right;\">\n",
       "      <th></th>\n",
       "      <th>Gender</th>\n",
       "      <th>ScheduledDay</th>\n",
       "      <th>AppointmentDay</th>\n",
       "      <th>Age</th>\n",
       "      <th>Neighbourhood</th>\n",
       "      <th>Scholarship</th>\n",
       "      <th>Hypertension</th>\n",
       "      <th>Diabetes</th>\n",
       "      <th>Alcoholism</th>\n",
       "      <th>Handicap</th>\n",
       "      <th>SMS_received</th>\n",
       "      <th>Noshow</th>\n",
       "      <th>WeekDay</th>\n",
       "      <th>DayScheduled</th>\n",
       "    </tr>\n",
       "  </thead>\n",
       "  <tbody>\n",
       "    <tr>\n",
       "      <th>0</th>\n",
       "      <td>0</td>\n",
       "      <td>2016-04-29 18:38:08</td>\n",
       "      <td>2016-04-29</td>\n",
       "      <td>62</td>\n",
       "      <td>JARDIM DA PENHA</td>\n",
       "      <td>0</td>\n",
       "      <td>1</td>\n",
       "      <td>0</td>\n",
       "      <td>0</td>\n",
       "      <td>0</td>\n",
       "      <td>0</td>\n",
       "      <td>0</td>\n",
       "      <td>29</td>\n",
       "      <td>29</td>\n",
       "    </tr>\n",
       "    <tr>\n",
       "      <th>1</th>\n",
       "      <td>1</td>\n",
       "      <td>2016-04-29 16:08:27</td>\n",
       "      <td>2016-04-29</td>\n",
       "      <td>56</td>\n",
       "      <td>JARDIM DA PENHA</td>\n",
       "      <td>0</td>\n",
       "      <td>0</td>\n",
       "      <td>0</td>\n",
       "      <td>0</td>\n",
       "      <td>0</td>\n",
       "      <td>0</td>\n",
       "      <td>0</td>\n",
       "      <td>29</td>\n",
       "      <td>29</td>\n",
       "    </tr>\n",
       "    <tr>\n",
       "      <th>2</th>\n",
       "      <td>0</td>\n",
       "      <td>2016-04-29 16:19:04</td>\n",
       "      <td>2016-04-29</td>\n",
       "      <td>62</td>\n",
       "      <td>MATA DA PRAIA</td>\n",
       "      <td>0</td>\n",
       "      <td>0</td>\n",
       "      <td>0</td>\n",
       "      <td>0</td>\n",
       "      <td>0</td>\n",
       "      <td>0</td>\n",
       "      <td>0</td>\n",
       "      <td>29</td>\n",
       "      <td>29</td>\n",
       "    </tr>\n",
       "    <tr>\n",
       "      <th>3</th>\n",
       "      <td>0</td>\n",
       "      <td>2016-04-29 17:29:31</td>\n",
       "      <td>2016-04-29</td>\n",
       "      <td>8</td>\n",
       "      <td>PONTAL DE CAMBURI</td>\n",
       "      <td>0</td>\n",
       "      <td>0</td>\n",
       "      <td>0</td>\n",
       "      <td>0</td>\n",
       "      <td>0</td>\n",
       "      <td>0</td>\n",
       "      <td>0</td>\n",
       "      <td>29</td>\n",
       "      <td>29</td>\n",
       "    </tr>\n",
       "    <tr>\n",
       "      <th>4</th>\n",
       "      <td>0</td>\n",
       "      <td>2016-04-29 16:07:23</td>\n",
       "      <td>2016-04-29</td>\n",
       "      <td>56</td>\n",
       "      <td>JARDIM DA PENHA</td>\n",
       "      <td>0</td>\n",
       "      <td>1</td>\n",
       "      <td>1</td>\n",
       "      <td>0</td>\n",
       "      <td>0</td>\n",
       "      <td>0</td>\n",
       "      <td>0</td>\n",
       "      <td>29</td>\n",
       "      <td>29</td>\n",
       "    </tr>\n",
       "  </tbody>\n",
       "</table>\n",
       "</div>"
      ],
      "text/plain": [
       "   Gender        ScheduledDay AppointmentDay  Age      Neighbourhood  \\\n",
       "0       0 2016-04-29 18:38:08     2016-04-29   62    JARDIM DA PENHA   \n",
       "1       1 2016-04-29 16:08:27     2016-04-29   56    JARDIM DA PENHA   \n",
       "2       0 2016-04-29 16:19:04     2016-04-29   62      MATA DA PRAIA   \n",
       "3       0 2016-04-29 17:29:31     2016-04-29    8  PONTAL DE CAMBURI   \n",
       "4       0 2016-04-29 16:07:23     2016-04-29   56    JARDIM DA PENHA   \n",
       "\n",
       "   Scholarship  Hypertension  Diabetes  Alcoholism  Handicap  SMS_received  \\\n",
       "0            0             1         0           0         0             0   \n",
       "1            0             0         0           0         0             0   \n",
       "2            0             0         0           0         0             0   \n",
       "3            0             0         0           0         0             0   \n",
       "4            0             1         1           0         0             0   \n",
       "\n",
       "   Noshow  WeekDay  DayScheduled  \n",
       "0       0       29            29  \n",
       "1       0       29            29  \n",
       "2       0       29            29  \n",
       "3       0       29            29  \n",
       "4       0       29            29  "
      ]
     },
     "execution_count": 250,
     "metadata": {},
     "output_type": "execute_result"
    }
   ],
   "source": [
    "# Trying a sample dataset.\n",
    "df.head(5)"
   ]
  },
  {
   "cell_type": "code",
   "execution_count": 251,
   "metadata": {},
   "outputs": [],
   "source": [
    "#df.info()"
   ]
  },
  {
   "cell_type": "markdown",
   "metadata": {},
   "source": [
    "Let us check the unique values of some factors in the dataset."
   ]
  },
  {
   "cell_type": "code",
   "execution_count": 252,
   "metadata": {},
   "outputs": [
    {
     "name": "stdout",
     "output_type": "stream",
     "text": [
      "Unique Values in 'Gender' => [0 1]\n",
      "Unique Values in 'Age' => [ 62  56   8  76  23  39  21  19  30  29  22  28  54  15  50  40  46   4\n",
      "  13  65  45  51  32  12  61  38  79  18  63  64  85  59  55  71  49  78\n",
      "  31  58  27   6   2  11   7   0   3   1  69  68  60  67  36  10  35  20\n",
      "  26  34  33  16  42   5  47  17  41  44  37  24  66  77  81  70  53  75\n",
      "  73  52  74  43  89  57  14   9  48  83  72  25  80  87  88  84  82  90\n",
      "  94  86  91  98  92  96  93  95  97 102 115 100  99  -1]\n",
      "Unique Values in 'Scholarship' => [0 1]\n",
      "Unique Values in 'Neighbourhood' => ['JARDIM DA PENHA' 'MATA DA PRAIA' 'PONTAL DE CAMBURI' 'REPÚBLICA'\n",
      " 'GOIABEIRAS' 'ANDORINHAS' 'CONQUISTA' 'NOVA PALESTINA' 'DA PENHA'\n",
      " 'TABUAZEIRO' 'BENTO FERREIRA' 'SÃO PEDRO' 'SANTA MARTHA' 'SÃO CRISTÓVÃO'\n",
      " 'MARUÍPE' 'GRANDE VITÓRIA' 'SÃO BENEDITO' 'ILHA DAS CAIEIRAS'\n",
      " 'SANTO ANDRÉ' 'SOLON BORGES' 'BONFIM' 'JARDIM CAMBURI' 'MARIA ORTIZ'\n",
      " 'JABOUR' 'ANTÔNIO HONÓRIO' 'RESISTÊNCIA' 'ILHA DE SANTA MARIA'\n",
      " 'JUCUTUQUARA' 'MONTE BELO' 'MÁRIO CYPRESTE' 'SANTO ANTÔNIO' 'BELA VISTA'\n",
      " 'PRAIA DO SUÁ' 'SANTA HELENA' 'ITARARÉ' 'INHANGUETÁ' 'UNIVERSITÁRIO'\n",
      " 'SÃO JOSÉ' 'REDENÇÃO' 'SANTA CLARA' 'CENTRO' 'PARQUE MOSCOSO' 'DO MOSCOSO'\n",
      " 'SANTOS DUMONT' 'CARATOÍRA' 'ARIOVALDO FAVALESSA' 'ILHA DO FRADE'\n",
      " 'GURIGICA' 'JOANA D´ARC' 'CONSOLAÇÃO' 'PRAIA DO CANTO' 'BOA VISTA'\n",
      " 'MORADA DE CAMBURI' 'SANTA LUÍZA' 'SANTA LÚCIA' 'BARRO VERMELHO'\n",
      " 'ESTRELINHA' 'FORTE SÃO JOÃO' 'FONTE GRANDE' 'ENSEADA DO SUÁ'\n",
      " 'SANTOS REIS' 'PIEDADE' 'JESUS DE NAZARETH' 'SANTA TEREZA' 'CRUZAMENTO'\n",
      " 'ILHA DO PRÍNCIPE' 'ROMÃO' 'COMDUSA' 'SANTA CECÍLIA' 'VILA RUBIM'\n",
      " 'DE LOURDES' 'DO QUADRO' 'DO CABRAL' 'HORTO' 'SEGURANÇA DO LAR'\n",
      " 'ILHA DO BOI' 'FRADINHOS' 'NAZARETH' 'AEROPORTO'\n",
      " 'ILHAS OCEÂNICAS DE TRINDADE' 'PARQUE INDUSTRIAL']\n",
      "Unique Values in 'Hypertension' => [1 0]\n",
      "Unique Values in 'Diabetes' => [0 1]\n",
      "Unique Values in 'Alcoholism' => [0 1]\n",
      "Unique Values in 'Handicap' => [0 1 2 3 4]\n",
      "Unique Values in 'SMS_received' => [0 1]\n",
      "Unique Values in 'WeekDay' => [29  3 10 17 24 31  2 30 16  4 19 12  6 20  5 13  9 25 11 18 14  7  1  8]\n",
      "Unique Values in 'DayScheduled' => [29 27 26 28 25 20 31 19  6 18 11 12 15  1  5  8 14 13  7 17 30  4 21 23 22\n",
      " 16 10 24  2  3  9]\n",
      "Unique Values in 'Noshow' => [0 1]\n"
     ]
    }
   ],
   "source": [
    "# Print Unique Values\n",
    "print(\"Unique Values in 'Gender' => {}\".format(df.Gender.unique()))\n",
    "print(\"Unique Values in 'Age' => {}\".format(df.Age.unique()))\n",
    "print(\"Unique Values in 'Scholarship' => {}\".format(df.Scholarship.unique()))\n",
    "print(\"Unique Values in 'Neighbourhood' => {}\".format(df.Neighbourhood.unique()))\n",
    "print(\"Unique Values in 'Hypertension' => {}\".format(df.Hypertension.unique()))\n",
    "print(\"Unique Values in 'Diabetes' => {}\".format(df.Diabetes.unique()))\n",
    "print(\"Unique Values in 'Alcoholism' => {}\".format(df.Alcoholism.unique()))\n",
    "print(\"Unique Values in 'Handicap' => {}\".format(df.Handicap.unique()))\n",
    "print(\"Unique Values in 'SMS_received' => {}\".format(df.SMS_received.unique()))\n",
    "print(\"Unique Values in 'WeekDay' => {}\".format(df.WeekDay.unique()))\n",
    "print(\"Unique Values in 'DayScheduled' => {}\".format(df.DayScheduled.unique()))\n",
    "print(\"Unique Values in 'Noshow' => {}\".format(df.Noshow.unique()))"
   ]
  },
  {
   "cell_type": "markdown",
   "metadata": {},
   "source": [
    "In Age factor,we can see that there is a negative value and there are some strange values like ages above 100.So,what we are \n",
    "going to do is that we are considering only values between 0 and 95.Eventhough there are possibilities to live after 100 years,\n",
    "here I will treat the ages greater than 95 as outliers.\n",
    "Once I have made my assumptions, it is time to remove the impossible and the absurd from the data."
   ]
  },
  {
   "cell_type": "code",
   "execution_count": 253,
   "metadata": {},
   "outputs": [],
   "source": [
    "# Considering ages between 0 and 95 including both and drop the rest by considering them as outliers.\n",
    "df.drop(df[(df.Age < 0) & (df.Age > 95)].index, inplace = True)"
   ]
  },
  {
   "cell_type": "code",
   "execution_count": 254,
   "metadata": {},
   "outputs": [
    {
     "name": "stdout",
     "output_type": "stream",
     "text": [
      "<class 'pandas.core.frame.DataFrame'>\n",
      "Int64Index: 110527 entries, 0 to 110526\n",
      "Data columns (total 14 columns):\n",
      "Gender            110527 non-null int64\n",
      "ScheduledDay      110527 non-null datetime64[ns]\n",
      "AppointmentDay    110527 non-null datetime64[ns]\n",
      "Age               110527 non-null int64\n",
      "Neighbourhood     110527 non-null object\n",
      "Scholarship       110527 non-null int64\n",
      "Hypertension      110527 non-null int64\n",
      "Diabetes          110527 non-null int64\n",
      "Alcoholism        110527 non-null int64\n",
      "Handicap          110527 non-null int64\n",
      "SMS_received      110527 non-null int64\n",
      "Noshow            110527 non-null int64\n",
      "WeekDay           110527 non-null int64\n",
      "DayScheduled      110527 non-null int64\n",
      "dtypes: datetime64[ns](2), int64(11), object(1)\n",
      "memory usage: 12.6+ MB\n"
     ]
    }
   ],
   "source": [
    "df.info()"
   ]
  },
  {
   "cell_type": "markdown",
   "metadata": {},
   "source": [
    "Now,our dataset is almost cleaned and we are stepping into the Exploitary Data Analysis(EDA) phase."
   ]
  },
  {
   "cell_type": "markdown",
   "metadata": {},
   "source": [
    "# Data Exploration"
   ]
  },
  {
   "cell_type": "markdown",
   "metadata": {},
   "source": [
    "I am going to start exploring the data."
   ]
  },
  {
   "cell_type": "markdown",
   "metadata": {},
   "source": [
    "# Analyzing the probability of showing up with respect to different features."
   ]
  },
  {
   "cell_type": "markdown",
   "metadata": {},
   "source": [
    "# 1.Age and Gender."
   ]
  },
  {
   "cell_type": "markdown",
   "metadata": {},
   "source": [
    "First I have to analyse whether their is any gender-based difference and the age of patients are affect in visiting the doctor?If yes,why? "
   ]
  },
  {
   "cell_type": "markdown",
   "metadata": {},
   "source": [
    "Analysing the age distibution using Histogram."
   ]
  },
  {
   "cell_type": "code",
   "execution_count": 255,
   "metadata": {},
   "outputs": [
    {
     "data": {
      "image/png": "[encoded data removed]",
      "text/plain": [
       "<matplotlib.figure.Figure at 0x2b69ad1bcc0>"
      ]
     },
     "metadata": {},
     "output_type": "display_data"
    }
   ],
   "source": [
    "# Age Distribution\n",
    "df.plot(kind = \"hist\",y = \"Age\",bins = 100,range = (0,95)) \n",
    "plt.title('Age Distribution')\n",
    "plt.xlabel('Age')\n",
    "plt.show() "
   ]
  },
  {
   "cell_type": "markdown",
   "metadata": {},
   "source": [
    "From the histogram above,people who are in age group of 20 to 60 years are most likely into showing up. "
   ]
  },
  {
   "cell_type": "code",
   "execution_count": 256,
   "metadata": {
    "scrolled": true
   },
   "outputs": [
    {
     "data": {
      "text/plain": [
       "Text(0.5,1,'Gender based difference')"
      ]
     },
     "execution_count": 256,
     "metadata": {},
     "output_type": "execute_result"
    },
    {
     "data": {
      "image/png": "[encoded data removed]",
      "text/plain": [
       "<matplotlib.figure.Figure at 0x2b699f3e080>"
      ]
     },
     "metadata": {},
     "output_type": "display_data"
    }
   ],
   "source": [
    "# Analysing the distribution among genders with their age.\n",
    "range_df = pd.DataFrame()\n",
    "range_df['Age'] = range(95)\n",
    "men = range_df.Age.apply(lambda x:len(df[(df.Age == x) & (df.Gender == 1)]))\n",
    "women = range_df.Age.apply(lambda x:len(df[(df.Age == x) & (df.Gender == 0)]))\n",
    "plt.plot(range(95), men, color = 'b')\n",
    "plt.plot(range(95), women, color = 'r')\n",
    "plt.legend([1,0])\n",
    "plt.xlabel('Age')\n",
    "plt.ylabel('Frequency')\n",
    "plt.title('Gender based difference')"
   ]
  },
  {
   "cell_type": "markdown",
   "metadata": {},
   "source": [
    "# Women are most likely to visit the doctor more than men."
   ]
  },
  {
   "cell_type": "markdown",
   "metadata": {},
   "source": [
    "From the above graph,it is clear that women are almost twice as likely to visit the doctor. But it is effective in a certain age group.\n",
    "\n",
    "Starting from around the age of 20,women are more often visits the doctor till around the age 60 than men. The reason may be in both genders,women requires more visits due to their health issues than men like gynac related problems,other high risk problems like breast cancer and normal aged problem like weight gain/loss,thyroid,etc.We can't predict the reason exactly but can try to explain with the given medical conditions in the dataset."
   ]
  },
  {
   "cell_type": "markdown",
   "metadata": {},
   "source": [
    "# 2.Medical Conditions."
   ]
  },
  {
   "cell_type": "code",
   "execution_count": 257,
   "metadata": {},
   "outputs": [
    {
     "data": {
      "text/plain": [
       "Text(0,0.5,'Frequency')"
      ]
     },
     "execution_count": 257,
     "metadata": {},
     "output_type": "execute_result"
    },
    {
     "data": {
      "image/png": "[encoded data removed]",
      "text/plain": [
       "<matplotlib.figure.Figure at 0x2b6953f8a20>"
      ]
     },
     "metadata": {},
     "output_type": "display_data"
    }
   ],
   "source": [
    "# Analysing and plotting the distribution among different medical conditions of both Genders with their age.\n",
    "men_Hypertension = range_df[range_df.columns[0]].apply(lambda x: len(df[(df.Age == x) & (df.Gender == 1) & (df.Hypertension == 1)]))\n",
    "women_Hypertension = range_df[range_df.columns[0]].apply(lambda x: len(df[(df.Age == x) & (df.Gender == 0) & (df.Hypertension == 1)]))\n",
    "\n",
    "men_Diabetes = range_df[range_df.columns[0]].apply(lambda x: len(df[(df.Age == x) & (df.Gender == 1) & (df.Diabetes == 1)]))\n",
    "women_Diabetes = range_df[range_df.columns[0]].apply(lambda x: len(df[(df.Age == x) & (df.Gender == 0) & (df.Diabetes == 1)]))\n",
    "\n",
    "men_Alcoholism = range_df[range_df.columns[0]].apply(lambda x: len(df[(df.Age == x) & (df.Gender == 1) & (df.Alcoholism == 1)]))\n",
    "women_Alcoholism = range_df[range_df.columns[0]].apply(lambda x: len(df[(df.Age == x) & (df.Gender == 0) & (df.Alcoholism == 1)]))\n",
    "\n",
    "men_Handicap = range_df[range_df.columns[0]].apply(lambda x: len(df[(df.Age == x) & (df.Gender == 1) & (df.Handicap == 1)]))\n",
    "women_Handicap = range_df[range_df.columns[0]].apply(lambda x: len(df[(df.Age == x) & (df.Gender == 0) & (df.Handicap == 1)]))\n",
    "\n",
    "plt.figure(figsize = (10,10))\n",
    "plt.subplot(2,2,1)\n",
    "plt.plot(range(95),men_Hypertension/men)\n",
    "plt.plot(range(95),women_Hypertension/women, color = 'r')\n",
    "plt.title('Hypertension')\n",
    "plt.legend([1,0], loc = 2)\n",
    "plt.xlabel('Age')\n",
    "plt.ylabel('Frequency')\n",
    "\n",
    "plt.subplot(2,2,2)\n",
    "plt.plot(range(95),men_Diabetes/men)\n",
    "plt.plot(range(95),women_Diabetes/women, color = 'r')\n",
    "plt.title('Diabetes')\n",
    "plt.legend([1,0], loc = 2)\n",
    "plt.xlabel('Age')\n",
    "plt.ylabel('Frequency')\n",
    "\n",
    "\n",
    "plt.subplot(2,2,3)\n",
    "plt.plot(range(95),men_Alcoholism/men)\n",
    "plt.plot(range(95),women_Alcoholism/women, color = 'r')\n",
    "plt.title('Alcoholism')\n",
    "plt.legend([1,0], loc = 2)\n",
    "plt.xlabel('Age')\n",
    "plt.ylabel('Frequency')\n",
    "\n",
    "\n",
    "plt.subplot(2,2,4)\n",
    "plt.plot(range(95),men_Handicap/men)\n",
    "plt.plot(range(95),women_Handicap/women, color = 'r')\n",
    "plt.title('Handicap')\n",
    "plt.legend([1,0], loc = 2)\n",
    "plt.xlabel('Age')\n",
    "plt.ylabel('Frequency')\n",
    "\n",
    "\n"
   ]
  },
  {
   "cell_type": "markdown",
   "metadata": {},
   "source": [
    "# There are some specific conditions for doctors visit in both Genders."
   ]
  },
  {
   "cell_type": "markdown",
   "metadata": {},
   "source": [
    "From the graph,the two conditions Hypertension and Handicapness are seen in almost both Genders in which it is more after 60 years to Hypertension and after 80 years to Handicapness.In women who are between 60 and 80 years of age,Diabetes are common whereas Alcoholism is more common in men than women."
   ]
  },
  {
   "cell_type": "markdown",
   "metadata": {},
   "source": [
    "# 3.AppointmentDay"
   ]
  },
  {
   "cell_type": "markdown",
   "metadata": {},
   "source": [
    "Does the AppointmentDay plays any role for show-up or No-show? So,for that I try to plot a graph \n",
    "from which I can gather some information. "
   ]
  },
  {
   "cell_type": "code",
   "execution_count": 258,
   "metadata": {},
   "outputs": [
    {
     "data": {
      "image/png": "[encoded data removed]",
      "text/plain": [
       "<matplotlib.figure.Figure at 0x2b69ed5be48>"
      ]
     },
     "metadata": {},
     "output_type": "display_data"
    }
   ],
   "source": [
    "app_day = sns.countplot(x = 'WeekDay', hue = 'Noshow', data = df)\n",
    "app_day.set_title('AppointmentDay')\n",
    "plt.show()"
   ]
  },
  {
   "cell_type": "markdown",
   "metadata": {},
   "source": [
    "From the above graph distribution,we can say that most of the appointments are made on weekdays and not on the weekends.\n",
    "The most popular appointment days are in the middle of the week,that is,Tuesdays,Wednesdays and Thursdays;\n",
    "whereas Mondays and Fridays are the least popular days for appointments."
   ]
  },
  {
   "cell_type": "markdown",
   "metadata": {},
   "source": [
    "# 4.SMS_received."
   ]
  },
  {
   "cell_type": "markdown",
   "metadata": {},
   "source": [
    "Now,we are going to check whether the SMS-received to the patients play any role in show-up or No-show."
   ]
  },
  {
   "cell_type": "code",
   "execution_count": 259,
   "metadata": {},
   "outputs": [
    {
     "data": {
      "text/plain": [
       "Text(0.5,1,'SMS_received')"
      ]
     },
     "execution_count": 259,
     "metadata": {},
     "output_type": "execute_result"
    },
    {
     "data": {
      "image/png": "[encoded data removed]",
      "text/plain": [
       "<matplotlib.figure.Figure at 0x2b69d7113c8>"
      ]
     },
     "metadata": {},
     "output_type": "display_data"
    }
   ],
   "source": [
    "# Plotting SMS_received.\n",
    "sms = sns.countplot(x = 'SMS_received',hue = 'Noshow',data = df)\n",
    "sms.set_title('SMS_received')"
   ]
  },
  {
   "cell_type": "markdown",
   "metadata": {},
   "source": [
    "As expected, patients who receive an SMS reminder are more likely to show up for their appointment."
   ]
  },
  {
   "cell_type": "markdown",
   "metadata": {},
   "source": [
    "# 5.Scholarship."
   ]
  },
  {
   "cell_type": "markdown",
   "metadata": {},
   "source": [
    "Next we find whether the scholarship granted to some patients will affect the show-up."
   ]
  },
  {
   "cell_type": "code",
   "execution_count": 260,
   "metadata": {},
   "outputs": [
    {
     "data": {
      "text/plain": [
       "Text(0.5,1,'Scholarship received')"
      ]
     },
     "execution_count": 260,
     "metadata": {},
     "output_type": "execute_result"
    },
    {
     "data": {
      "image/png": "[encoded data removed]",
      "text/plain": [
       "<matplotlib.figure.Figure at 0x2b6a1232978>"
      ]
     },
     "metadata": {},
     "output_type": "display_data"
    }
   ],
   "source": [
    "# Plotting Scholarship received with people who are showing up or not.\n",
    "schrsp = sns.countplot(x = 'Scholarship',hue = 'Noshow',data = df)\n",
    "schrsp.set_title('Scholarship received')"
   ]
  },
  {
   "cell_type": "markdown",
   "metadata": {},
   "source": [
    "There are only fewer people received scholarships,but it is evident that people who have scholarships \n",
    "are more likely to not show up to appointments than people who don't have scholarships."
   ]
  },
  {
   "cell_type": "markdown",
   "metadata": {},
   "source": [
    "# 6.Neighbourhood."
   ]
  },
  {
   "cell_type": "code",
   "execution_count": 261,
   "metadata": {},
   "outputs": [
    {
     "data": {
      "image/png": "[encoded data removed]",
      "text/plain": [
       "<matplotlib.figure.Figure at 0x2b69bf210b8>"
      ]
     },
     "metadata": {},
     "output_type": "display_data"
    }
   ],
   "source": [
    "# Plotting the distribution of Neighbourhood with pie-chart.\n",
    "plt.subplots(figsize=(8,4))\n",
    "df['Neighbourhood'].value_counts()[:10].plot(kind='pie',autopct='%1.1f%%',shadow=True,explode=[0.1,0,0,0,0,0,0,0,0,0])\n",
    "plt.title('Distribution Of Top Neighbourhood')\n",
    "plt.show()"
   ]
  },
  {
   "cell_type": "markdown",
   "metadata": {},
   "source": [
    "As most of the Neighbourhood have 80% show rate,this feature may not add much value while building a model to help us \n",
    "determine which segment of patients are turning up for a visit the most.So,we are dropping this factor in our analysis."
   ]
  },
  {
   "cell_type": "markdown",
   "metadata": {},
   "source": [
    "# 7.ScheduledDay"
   ]
  },
  {
   "cell_type": "markdown",
   "metadata": {},
   "source": [
    "Now,we are finding whether ScheduledDay has some role in Noshow or showing up."
   ]
  },
  {
   "cell_type": "code",
   "execution_count": 262,
   "metadata": {},
   "outputs": [
    {
     "data": {
      "text/plain": [
       "Text(0.5,1,'ScheduledDay')"
      ]
     },
     "execution_count": 262,
     "metadata": {},
     "output_type": "execute_result"
    },
    {
     "data": {
      "image/png": "[encoded data removed]",
      "text/plain": [
       "<matplotlib.figure.Figure at 0x2b690456cc0>"
      ]
     },
     "metadata": {},
     "output_type": "display_data"
    }
   ],
   "source": [
    "# plotting ScheduledDay\n",
    "datescheduled = sns.countplot(x = 'DayScheduled', hue = 'Noshow', data = df)\n",
    "datescheduled.set_title('ScheduledDay')"
   ]
  },
  {
   "cell_type": "markdown",
   "metadata": {},
   "source": [
    "From the graph distribution,most of the patients are showing up on their scheduled day."
   ]
  },
  {
   "cell_type": "code",
   "execution_count": 263,
   "metadata": {},
   "outputs": [
    {
     "data": {
      "image/png": "[encoded data removed]",
      "text/plain": [
       "<matplotlib.figure.Figure at 0x2b69a018198>"
      ]
     },
     "metadata": {},
     "output_type": "display_data"
    }
   ],
   "source": [
    "df['Month Number'] = df['ScheduledDay'].dt.month\n",
    "monthly_showup = sns.countplot(x = \"Month Number\", hue = \"Noshow\", data = df)\n",
    "monthly_showup.set_title(\"Monthly Noshow Count\")\n",
    "plt.show()"
   ]
  },
  {
   "cell_type": "markdown",
   "metadata": {},
   "source": [
    "From the graph,it is clear that middle months are such that people are showing up for their appointments in a year."
   ]
  },
  {
   "cell_type": "markdown",
   "metadata": {},
   "source": [
    "# Prediction."
   ]
  },
  {
   "cell_type": "code",
   "execution_count": 264,
   "metadata": {},
   "outputs": [
    {
     "data": {
      "text/html": [
       "<div>\n",
       "<style scoped>\n",
       "    .dataframe tbody tr th:only-of-type {\n",
       "        vertical-align: middle;\n",
       "    }\n",
       "\n",
       "    .dataframe tbody tr th {\n",
       "        vertical-align: top;\n",
       "    }\n",
       "\n",
       "    .dataframe thead th {\n",
       "        text-align: right;\n",
       "    }\n",
       "</style>\n",
       "<table border=\"1\" class=\"dataframe\">\n",
       "  <thead>\n",
       "    <tr style=\"text-align: right;\">\n",
       "      <th></th>\n",
       "      <th>Gender</th>\n",
       "      <th>ScheduledDay</th>\n",
       "      <th>AppointmentDay</th>\n",
       "      <th>Age</th>\n",
       "      <th>Neighbourhood</th>\n",
       "      <th>Scholarship</th>\n",
       "      <th>Hypertension</th>\n",
       "      <th>Diabetes</th>\n",
       "      <th>Alcoholism</th>\n",
       "      <th>Handicap</th>\n",
       "      <th>SMS_received</th>\n",
       "      <th>Noshow</th>\n",
       "      <th>WeekDay</th>\n",
       "      <th>DayScheduled</th>\n",
       "      <th>Month Number</th>\n",
       "    </tr>\n",
       "  </thead>\n",
       "  <tbody>\n",
       "    <tr>\n",
       "      <th>0</th>\n",
       "      <td>0</td>\n",
       "      <td>2016-04-29 18:38:08</td>\n",
       "      <td>2016-04-29</td>\n",
       "      <td>62</td>\n",
       "      <td>JARDIM DA PENHA</td>\n",
       "      <td>0</td>\n",
       "      <td>1</td>\n",
       "      <td>0</td>\n",
       "      <td>0</td>\n",
       "      <td>0</td>\n",
       "      <td>0</td>\n",
       "      <td>0</td>\n",
       "      <td>29</td>\n",
       "      <td>29</td>\n",
       "      <td>4</td>\n",
       "    </tr>\n",
       "    <tr>\n",
       "      <th>1</th>\n",
       "      <td>1</td>\n",
       "      <td>2016-04-29 16:08:27</td>\n",
       "      <td>2016-04-29</td>\n",
       "      <td>56</td>\n",
       "      <td>JARDIM DA PENHA</td>\n",
       "      <td>0</td>\n",
       "      <td>0</td>\n",
       "      <td>0</td>\n",
       "      <td>0</td>\n",
       "      <td>0</td>\n",
       "      <td>0</td>\n",
       "      <td>0</td>\n",
       "      <td>29</td>\n",
       "      <td>29</td>\n",
       "      <td>4</td>\n",
       "    </tr>\n",
       "    <tr>\n",
       "      <th>2</th>\n",
       "      <td>0</td>\n",
       "      <td>2016-04-29 16:19:04</td>\n",
       "      <td>2016-04-29</td>\n",
       "      <td>62</td>\n",
       "      <td>MATA DA PRAIA</td>\n",
       "      <td>0</td>\n",
       "      <td>0</td>\n",
       "      <td>0</td>\n",
       "      <td>0</td>\n",
       "      <td>0</td>\n",
       "      <td>0</td>\n",
       "      <td>0</td>\n",
       "      <td>29</td>\n",
       "      <td>29</td>\n",
       "      <td>4</td>\n",
       "    </tr>\n",
       "    <tr>\n",
       "      <th>3</th>\n",
       "      <td>0</td>\n",
       "      <td>2016-04-29 17:29:31</td>\n",
       "      <td>2016-04-29</td>\n",
       "      <td>8</td>\n",
       "      <td>PONTAL DE CAMBURI</td>\n",
       "      <td>0</td>\n",
       "      <td>0</td>\n",
       "      <td>0</td>\n",
       "      <td>0</td>\n",
       "      <td>0</td>\n",
       "      <td>0</td>\n",
       "      <td>0</td>\n",
       "      <td>29</td>\n",
       "      <td>29</td>\n",
       "      <td>4</td>\n",
       "    </tr>\n",
       "    <tr>\n",
       "      <th>4</th>\n",
       "      <td>0</td>\n",
       "      <td>2016-04-29 16:07:23</td>\n",
       "      <td>2016-04-29</td>\n",
       "      <td>56</td>\n",
       "      <td>JARDIM DA PENHA</td>\n",
       "      <td>0</td>\n",
       "      <td>1</td>\n",
       "      <td>1</td>\n",
       "      <td>0</td>\n",
       "      <td>0</td>\n",
       "      <td>0</td>\n",
       "      <td>0</td>\n",
       "      <td>29</td>\n",
       "      <td>29</td>\n",
       "      <td>4</td>\n",
       "    </tr>\n",
       "  </tbody>\n",
       "</table>\n",
       "</div>"
      ],
      "text/plain": [
       "   Gender        ScheduledDay AppointmentDay  Age      Neighbourhood  \\\n",
       "0       0 2016-04-29 18:38:08     2016-04-29   62    JARDIM DA PENHA   \n",
       "1       1 2016-04-29 16:08:27     2016-04-29   56    JARDIM DA PENHA   \n",
       "2       0 2016-04-29 16:19:04     2016-04-29   62      MATA DA PRAIA   \n",
       "3       0 2016-04-29 17:29:31     2016-04-29    8  PONTAL DE CAMBURI   \n",
       "4       0 2016-04-29 16:07:23     2016-04-29   56    JARDIM DA PENHA   \n",
       "\n",
       "   Scholarship  Hypertension  Diabetes  Alcoholism  Handicap  SMS_received  \\\n",
       "0            0             1         0           0         0             0   \n",
       "1            0             0         0           0         0             0   \n",
       "2            0             0         0           0         0             0   \n",
       "3            0             0         0           0         0             0   \n",
       "4            0             1         1           0         0             0   \n",
       "\n",
       "   Noshow  WeekDay  DayScheduled  Month Number  \n",
       "0       0       29            29             4  \n",
       "1       0       29            29             4  \n",
       "2       0       29            29             4  \n",
       "3       0       29            29             4  \n",
       "4       0       29            29             4  "
      ]
     },
     "execution_count": 264,
     "metadata": {},
     "output_type": "execute_result"
    }
   ],
   "source": [
    "#df.info()\n",
    "df.head()"
   ]
  },
  {
   "cell_type": "markdown",
   "metadata": {},
   "source": [
    "We know that there are 14 columns in total.Of these there is 1 dependent variable and 13 independent variables.\n",
    "Among those 13 independent variables, we are ignoring Neighbourhood as it has not much to do in the prediction.\n",
    "Also,ScheduledDay and AppointmentDay are formating already,so we are removing those 2 columns too."
   ]
  },
  {
   "cell_type": "markdown",
   "metadata": {},
   "source": [
    "Now, we are going to split the data into training and testing data;such that the training set has 60% of the data and \n",
    "the testing set has 40%. Here, we are using sklearn Logistic Regression function to train and attempt to predict\n",
    "the noshow status of the testing data."
   ]
  },
  {
   "cell_type": "code",
   "execution_count": 265,
   "metadata": {},
   "outputs": [
    {
     "data": {
      "text/plain": [
       "79.530000000000001"
      ]
     },
     "execution_count": 265,
     "metadata": {},
     "output_type": "execute_result"
    }
   ],
   "source": [
    "# Using sklearn Logistic Regression funtion to predict the accuracy of the No-show status.\n",
    "# Get the Dependent and Independent Features.\n",
    "x = df.drop(['Noshow','Neighbourhood','ScheduledDay','AppointmentDay'], axis=1)\n",
    "y = df['Noshow']\n",
    "x_train, x_test, y_train, y_test = train_test_split(x, y, test_size=0.4, random_state=42)\n",
    "logreg = LogisticRegression()\n",
    "logreg.fit(x_train, y_train)\n",
    "y_pred = logreg.predict(x_test)\n",
    "acc_log = round(logreg.score(x_train, y_train) * 100, 2)\n",
    "acc_log"
   ]
  },
  {
   "cell_type": "markdown",
   "metadata": {},
   "source": [
    "# Limitations."
   ]
  },
  {
   "cell_type": "code",
   "execution_count": 266,
   "metadata": {},
   "outputs": [],
   "source": [
    "#Limitations."
   ]
  },
  {
   "cell_type": "markdown",
   "metadata": {},
   "source": [
    "Though there are no missing values in the data, making exact predictions and analysis on a snapshot data is difficult and the \n",
    "analysis might not make a representation of the whole data.\n",
    "\n",
    "Another important thing that is not in the data is the exact waiting period for the Appointment,eventhough we can extract it \n",
    "from the given data,the exact time must be needed for an exact prediction.\n",
    "\n",
    "In the age factor,we found a negative age and some strange ages like greater than 100.These are possibilities but we here\n",
    "treated them as outliers for the easiness of the prediction.\n"
   ]
  },
  {
   "cell_type": "markdown",
   "metadata": {},
   "source": [
    "# Conclusion."
   ]
  },
  {
   "cell_type": "code",
   "execution_count": 267,
   "metadata": {},
   "outputs": [],
   "source": [
    "# Conclusion according to the prediction."
   ]
  },
  {
   "cell_type": "markdown",
   "metadata": {},
   "source": [
    "1.This model can predict whether or not patients are going to show up to their appointments with approximately around 80% \n",
    "  accuracy by using the above factors.\n",
    "\n",
    "2.To encourage people to commit to their appointments, hospitals should send them SMS reminders which may help those people \n",
    "  who have forgotten about their appointments.\n",
    "\n",
    "3.There must be some reason for people who have hypertension and handicapness which hospitals itsef can help them in some way. \n",
    "  But for alcoholics, they themselves or whomsoever concerned should take some steps for this.\n",
    " \n",
    "4.It is very surprising when found that people with scholarships were less likely to show up to their appointments. This may be \n",
    "  because these patients don't have to pay interest for their appointments, as they are not spending money as people who have \n",
    "  to pay to see the doctor.Nonetheless, we should consider how to get patients with scholarships to make the most of their by \n",
    "  showing up to the appointments they signed up for."
   ]
  },
  {
   "cell_type": "markdown",
   "metadata": {},
   "source": [
    "# References."
   ]
  },
  {
   "cell_type": "markdown",
   "metadata": {},
   "source": [
    "Udacity lectures,Kaggle.com,simplilearn online tutorial."
   ]
  }
 ],
 "metadata": {
  "kernelspec": {
   "display_name": "Python 3",
   "language": "python",
   "name": "python3"
  },
  "language_info": {
   "codemirror_mode": {
    "name": "ipython",
    "version": 3
   },
   "file_extension": ".py",
   "mimetype": "text/x-python",
   "name": "python",
   "nbconvert_exporter": "python",
   "pygments_lexer": "ipython3",
   "version": "3.6.3"
  }
 },
 "nbformat": 4,
 "nbformat_minor": 2
}
