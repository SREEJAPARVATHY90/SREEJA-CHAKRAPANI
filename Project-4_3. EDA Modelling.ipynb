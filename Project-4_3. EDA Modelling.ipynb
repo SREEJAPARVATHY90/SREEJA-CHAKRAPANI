{
 "cells": [
  {
   "cell_type": "markdown",
   "metadata": {},
   "source": [
    "# Project 4 - Part 3: Exploratory data analysis and modelling mean salary"
   ]
  },
  {
   "cell_type": "markdown",
   "metadata": {},
   "source": [
    "# 3.1 Import packages"
   ]
  },
  {
   "cell_type": "code",
   "execution_count": 108,
   "metadata": {},
   "outputs": [],
   "source": [
    "import pandas as pd\n",
    "import numpy as np\n",
    "\n",
    "import seaborn as sns\n",
    "import matplotlib.pyplot as plt\n",
    "%matplotlib inline\n",
    "\n",
    "from sklearn.preprocessing import StandardScaler\n",
    "from sklearn.model_selection import train_test_split, GridSearchCV\n",
    "from sklearn.feature_selection import RFECV, RFE, SelectKBest, f_regression\n",
    "from sklearn.linear_model import LinearRegression, RidgeCV, Ridge, LassoCV, Lasso, ElasticNetCV, ElasticNet\n",
    "from sklearn.metrics import accuracy_score, r2_score, confusion_matrix, classification_report, precision_score, recall_score, f1_score\n",
    "from sklearn.neighbors import KNeighborsClassifier\n",
    "from sklearn.svm import SVC\n",
    "from sklearn.tree import DecisionTreeClassifier\n",
    "from sklearn.ensemble import BaggingClassifier, RandomForestClassifier"
   ]
  },
  {
   "cell_type": "markdown",
   "metadata": {},
   "source": [
    "# 3.2 Load data"
   ]
  },
  {
   "cell_type": "code",
   "execution_count": 109,
   "metadata": {},
   "outputs": [],
   "source": [
    "file = 'jobs_clean.csv'\n",
    "jobs = pd.read_csv(file, index_col=0)"
   ]
  },
  {
   "cell_type": "code",
   "execution_count": 110,
   "metadata": {
    "scrolled": true
   },
   "outputs": [
    {
     "data": {
      "text/html": [
       "<div>\n",
       "<style scoped>\n",
       "    .dataframe tbody tr th:only-of-type {\n",
       "        vertical-align: middle;\n",
       "    }\n",
       "\n",
       "    .dataframe tbody tr th {\n",
       "        vertical-align: top;\n",
       "    }\n",
       "\n",
       "    .dataframe thead th {\n",
       "        text-align: right;\n",
       "    }\n",
       "</style>\n",
       "<table border=\"1\" class=\"dataframe\">\n",
       "  <thead>\n",
       "    <tr style=\"text-align: right;\">\n",
       "      <th></th>\n",
       "      <th>index</th>\n",
       "      <th>company</th>\n",
       "      <th>title</th>\n",
       "      <th>salary_low</th>\n",
       "      <th>salary_high</th>\n",
       "      <th>salary_mean</th>\n",
       "      <th>title_data</th>\n",
       "      <th>title_analyst</th>\n",
       "      <th>title_scientist</th>\n",
       "      <th>title_senior</th>\n",
       "      <th>...</th>\n",
       "      <th>skill_python</th>\n",
       "      <th>skill_spark</th>\n",
       "      <th>skill_hadoop</th>\n",
       "      <th>skill_tableau</th>\n",
       "      <th>skill_r</th>\n",
       "      <th>skill_excel</th>\n",
       "      <th>skill_sas</th>\n",
       "      <th>skill_spss</th>\n",
       "      <th>skill_aws</th>\n",
       "      <th>skill_kafka</th>\n",
       "    </tr>\n",
       "  </thead>\n",
       "  <tbody>\n",
       "    <tr>\n",
       "      <th>0</th>\n",
       "      <td>0</td>\n",
       "      <td>Allianz</td>\n",
       "      <td>DATA SCIENTIST</td>\n",
       "      <td>NaN</td>\n",
       "      <td>NaN</td>\n",
       "      <td>NaN</td>\n",
       "      <td>0.601265</td>\n",
       "      <td>0.0</td>\n",
       "      <td>0.799049</td>\n",
       "      <td>0.0</td>\n",
       "      <td>...</td>\n",
       "      <td>1</td>\n",
       "      <td>0</td>\n",
       "      <td>0</td>\n",
       "      <td>0</td>\n",
       "      <td>1</td>\n",
       "      <td>0</td>\n",
       "      <td>1</td>\n",
       "      <td>0</td>\n",
       "      <td>0</td>\n",
       "      <td>0</td>\n",
       "    </tr>\n",
       "    <tr>\n",
       "      <th>1</th>\n",
       "      <td>1</td>\n",
       "      <td>Teradata</td>\n",
       "      <td>Data Scientist</td>\n",
       "      <td>NaN</td>\n",
       "      <td>NaN</td>\n",
       "      <td>NaN</td>\n",
       "      <td>0.601265</td>\n",
       "      <td>0.0</td>\n",
       "      <td>0.799049</td>\n",
       "      <td>0.0</td>\n",
       "      <td>...</td>\n",
       "      <td>1</td>\n",
       "      <td>1</td>\n",
       "      <td>1</td>\n",
       "      <td>0</td>\n",
       "      <td>1</td>\n",
       "      <td>1</td>\n",
       "      <td>0</td>\n",
       "      <td>0</td>\n",
       "      <td>0</td>\n",
       "      <td>0</td>\n",
       "    </tr>\n",
       "  </tbody>\n",
       "</table>\n",
       "<p>2 rows × 5056 columns</p>\n",
       "</div>"
      ],
      "text/plain": [
       "   index   company           title  salary_low  salary_high  salary_mean  \\\n",
       "0      0   Allianz  DATA SCIENTIST         NaN          NaN          NaN   \n",
       "1      1  Teradata  Data Scientist         NaN          NaN          NaN   \n",
       "\n",
       "   title_data  title_analyst  title_scientist  title_senior     ...       \\\n",
       "0    0.601265            0.0         0.799049           0.0     ...        \n",
       "1    0.601265            0.0         0.799049           0.0     ...        \n",
       "\n",
       "   skill_python  skill_spark  skill_hadoop  skill_tableau  skill_r  \\\n",
       "0             1            0             0              0        1   \n",
       "1             1            1             1              0        1   \n",
       "\n",
       "   skill_excel  skill_sas  skill_spss  skill_aws  skill_kafka  \n",
       "0            0          1           0          0            0  \n",
       "1            1          0           0          0            0  \n",
       "\n",
       "[2 rows x 5056 columns]"
      ]
     },
     "execution_count": 110,
     "metadata": {},
     "output_type": "execute_result"
    }
   ],
   "source": [
    "jobs.head(2)"
   ]
  },
  {
   "cell_type": "markdown",
   "metadata": {},
   "source": [
    "# 3.3 Exploratory Data Analysis"
   ]
  },
  {
   "cell_type": "markdown",
   "metadata": {},
   "source": [
    "# 3.3.1 Summary statistics"
   ]
  },
  {
   "cell_type": "code",
   "execution_count": 111,
   "metadata": {},
   "outputs": [
    {
     "data": {
      "text/html": [
       "<div>\n",
       "<style scoped>\n",
       "    .dataframe tbody tr th:only-of-type {\n",
       "        vertical-align: middle;\n",
       "    }\n",
       "\n",
       "    .dataframe tbody tr th {\n",
       "        vertical-align: top;\n",
       "    }\n",
       "\n",
       "    .dataframe thead th {\n",
       "        text-align: right;\n",
       "    }\n",
       "</style>\n",
       "<table border=\"1\" class=\"dataframe\">\n",
       "  <thead>\n",
       "    <tr style=\"text-align: right;\">\n",
       "      <th></th>\n",
       "      <th>index</th>\n",
       "      <th>salary_low</th>\n",
       "      <th>salary_high</th>\n",
       "      <th>salary_mean</th>\n",
       "      <th>title_data</th>\n",
       "      <th>title_analyst</th>\n",
       "      <th>title_scientist</th>\n",
       "      <th>title_senior</th>\n",
       "      <th>title_engineer</th>\n",
       "      <th>title_business</th>\n",
       "      <th>...</th>\n",
       "      <th>skill_python</th>\n",
       "      <th>skill_spark</th>\n",
       "      <th>skill_hadoop</th>\n",
       "      <th>skill_tableau</th>\n",
       "      <th>skill_r</th>\n",
       "      <th>skill_excel</th>\n",
       "      <th>skill_sas</th>\n",
       "      <th>skill_spss</th>\n",
       "      <th>skill_aws</th>\n",
       "      <th>skill_kafka</th>\n",
       "    </tr>\n",
       "  </thead>\n",
       "  <tbody>\n",
       "    <tr>\n",
       "      <th>count</th>\n",
       "      <td>478.000000</td>\n",
       "      <td>98.000000</td>\n",
       "      <td>98.000000</td>\n",
       "      <td>98.000000</td>\n",
       "      <td>478.000000</td>\n",
       "      <td>478.000000</td>\n",
       "      <td>478.000000</td>\n",
       "      <td>478.000000</td>\n",
       "      <td>478.000000</td>\n",
       "      <td>478.000000</td>\n",
       "      <td>...</td>\n",
       "      <td>478.000000</td>\n",
       "      <td>478.000000</td>\n",
       "      <td>478.000000</td>\n",
       "      <td>478.000000</td>\n",
       "      <td>478.0</td>\n",
       "      <td>478.000000</td>\n",
       "      <td>478.000000</td>\n",
       "      <td>478.000000</td>\n",
       "      <td>478.000000</td>\n",
       "      <td>478.000000</td>\n",
       "    </tr>\n",
       "    <tr>\n",
       "      <th>mean</th>\n",
       "      <td>389.163180</td>\n",
       "      <td>101316.530612</td>\n",
       "      <td>118908.704082</td>\n",
       "      <td>110112.617347</td>\n",
       "      <td>0.153416</td>\n",
       "      <td>0.147104</td>\n",
       "      <td>0.102653</td>\n",
       "      <td>0.056888</td>\n",
       "      <td>0.045828</td>\n",
       "      <td>0.040662</td>\n",
       "      <td>...</td>\n",
       "      <td>0.309623</td>\n",
       "      <td>0.098326</td>\n",
       "      <td>0.077406</td>\n",
       "      <td>0.102510</td>\n",
       "      <td>1.0</td>\n",
       "      <td>0.497908</td>\n",
       "      <td>0.154812</td>\n",
       "      <td>0.027197</td>\n",
       "      <td>0.056485</td>\n",
       "      <td>0.033473</td>\n",
       "    </tr>\n",
       "    <tr>\n",
       "      <th>std</th>\n",
       "      <td>232.441987</td>\n",
       "      <td>36850.461484</td>\n",
       "      <td>39782.587953</td>\n",
       "      <td>37320.319603</td>\n",
       "      <td>0.225103</td>\n",
       "      <td>0.191373</td>\n",
       "      <td>0.227025</td>\n",
       "      <td>0.156744</td>\n",
       "      <td>0.146152</td>\n",
       "      <td>0.165214</td>\n",
       "      <td>...</td>\n",
       "      <td>0.462823</td>\n",
       "      <td>0.298067</td>\n",
       "      <td>0.267514</td>\n",
       "      <td>0.303636</td>\n",
       "      <td>0.0</td>\n",
       "      <td>0.500519</td>\n",
       "      <td>0.362104</td>\n",
       "      <td>0.162826</td>\n",
       "      <td>0.231098</td>\n",
       "      <td>0.180056</td>\n",
       "    </tr>\n",
       "    <tr>\n",
       "      <th>min</th>\n",
       "      <td>0.000000</td>\n",
       "      <td>30680.000000</td>\n",
       "      <td>30680.000000</td>\n",
       "      <td>30680.000000</td>\n",
       "      <td>0.000000</td>\n",
       "      <td>0.000000</td>\n",
       "      <td>0.000000</td>\n",
       "      <td>0.000000</td>\n",
       "      <td>0.000000</td>\n",
       "      <td>0.000000</td>\n",
       "      <td>...</td>\n",
       "      <td>0.000000</td>\n",
       "      <td>0.000000</td>\n",
       "      <td>0.000000</td>\n",
       "      <td>0.000000</td>\n",
       "      <td>1.0</td>\n",
       "      <td>0.000000</td>\n",
       "      <td>0.000000</td>\n",
       "      <td>0.000000</td>\n",
       "      <td>0.000000</td>\n",
       "      <td>0.000000</td>\n",
       "    </tr>\n",
       "    <tr>\n",
       "      <th>25%</th>\n",
       "      <td>195.250000</td>\n",
       "      <td>76471.500000</td>\n",
       "      <td>90000.000000</td>\n",
       "      <td>83495.875000</td>\n",
       "      <td>0.000000</td>\n",
       "      <td>0.000000</td>\n",
       "      <td>0.000000</td>\n",
       "      <td>0.000000</td>\n",
       "      <td>0.000000</td>\n",
       "      <td>0.000000</td>\n",
       "      <td>...</td>\n",
       "      <td>0.000000</td>\n",
       "      <td>0.000000</td>\n",
       "      <td>0.000000</td>\n",
       "      <td>0.000000</td>\n",
       "      <td>1.0</td>\n",
       "      <td>0.000000</td>\n",
       "      <td>0.000000</td>\n",
       "      <td>0.000000</td>\n",
       "      <td>0.000000</td>\n",
       "      <td>0.000000</td>\n",
       "    </tr>\n",
       "    <tr>\n",
       "      <th>50%</th>\n",
       "      <td>366.500000</td>\n",
       "      <td>94300.500000</td>\n",
       "      <td>116138.000000</td>\n",
       "      <td>105000.000000</td>\n",
       "      <td>0.000000</td>\n",
       "      <td>0.113161</td>\n",
       "      <td>0.000000</td>\n",
       "      <td>0.000000</td>\n",
       "      <td>0.000000</td>\n",
       "      <td>0.000000</td>\n",
       "      <td>...</td>\n",
       "      <td>0.000000</td>\n",
       "      <td>0.000000</td>\n",
       "      <td>0.000000</td>\n",
       "      <td>0.000000</td>\n",
       "      <td>1.0</td>\n",
       "      <td>0.000000</td>\n",
       "      <td>0.000000</td>\n",
       "      <td>0.000000</td>\n",
       "      <td>0.000000</td>\n",
       "      <td>0.000000</td>\n",
       "    </tr>\n",
       "    <tr>\n",
       "      <th>75%</th>\n",
       "      <td>589.750000</td>\n",
       "      <td>119250.000000</td>\n",
       "      <td>142250.000000</td>\n",
       "      <td>128750.000000</td>\n",
       "      <td>0.268579</td>\n",
       "      <td>0.233800</td>\n",
       "      <td>0.000000</td>\n",
       "      <td>0.000000</td>\n",
       "      <td>0.000000</td>\n",
       "      <td>0.000000</td>\n",
       "      <td>...</td>\n",
       "      <td>1.000000</td>\n",
       "      <td>0.000000</td>\n",
       "      <td>0.000000</td>\n",
       "      <td>0.000000</td>\n",
       "      <td>1.0</td>\n",
       "      <td>1.000000</td>\n",
       "      <td>0.000000</td>\n",
       "      <td>0.000000</td>\n",
       "      <td>0.000000</td>\n",
       "      <td>0.000000</td>\n",
       "    </tr>\n",
       "    <tr>\n",
       "      <th>max</th>\n",
       "      <td>796.000000</td>\n",
       "      <td>260000.000000</td>\n",
       "      <td>260000.000000</td>\n",
       "      <td>260000.000000</td>\n",
       "      <td>0.753361</td>\n",
       "      <td>1.000000</td>\n",
       "      <td>1.000000</td>\n",
       "      <td>0.872952</td>\n",
       "      <td>0.860222</td>\n",
       "      <td>0.912043</td>\n",
       "      <td>...</td>\n",
       "      <td>1.000000</td>\n",
       "      <td>1.000000</td>\n",
       "      <td>1.000000</td>\n",
       "      <td>1.000000</td>\n",
       "      <td>1.0</td>\n",
       "      <td>1.000000</td>\n",
       "      <td>1.000000</td>\n",
       "      <td>1.000000</td>\n",
       "      <td>1.000000</td>\n",
       "      <td>1.000000</td>\n",
       "    </tr>\n",
       "  </tbody>\n",
       "</table>\n",
       "<p>8 rows × 5054 columns</p>\n",
       "</div>"
      ],
      "text/plain": [
       "            index     salary_low    salary_high    salary_mean  title_data  \\\n",
       "count  478.000000      98.000000      98.000000      98.000000  478.000000   \n",
       "mean   389.163180  101316.530612  118908.704082  110112.617347    0.153416   \n",
       "std    232.441987   36850.461484   39782.587953   37320.319603    0.225103   \n",
       "min      0.000000   30680.000000   30680.000000   30680.000000    0.000000   \n",
       "25%    195.250000   76471.500000   90000.000000   83495.875000    0.000000   \n",
       "50%    366.500000   94300.500000  116138.000000  105000.000000    0.000000   \n",
       "75%    589.750000  119250.000000  142250.000000  128750.000000    0.268579   \n",
       "max    796.000000  260000.000000  260000.000000  260000.000000    0.753361   \n",
       "\n",
       "       title_analyst  title_scientist  title_senior  title_engineer  \\\n",
       "count     478.000000       478.000000    478.000000      478.000000   \n",
       "mean        0.147104         0.102653      0.056888        0.045828   \n",
       "std         0.191373         0.227025      0.156744        0.146152   \n",
       "min         0.000000         0.000000      0.000000        0.000000   \n",
       "25%         0.000000         0.000000      0.000000        0.000000   \n",
       "50%         0.113161         0.000000      0.000000        0.000000   \n",
       "75%         0.233800         0.000000      0.000000        0.000000   \n",
       "max         1.000000         1.000000      0.872952        0.860222   \n",
       "\n",
       "       title_business     ...       skill_python  skill_spark  skill_hadoop  \\\n",
       "count      478.000000     ...         478.000000   478.000000    478.000000   \n",
       "mean         0.040662     ...           0.309623     0.098326      0.077406   \n",
       "std          0.165214     ...           0.462823     0.298067      0.267514   \n",
       "min          0.000000     ...           0.000000     0.000000      0.000000   \n",
       "25%          0.000000     ...           0.000000     0.000000      0.000000   \n",
       "50%          0.000000     ...           0.000000     0.000000      0.000000   \n",
       "75%          0.000000     ...           1.000000     0.000000      0.000000   \n",
       "max          0.912043     ...           1.000000     1.000000      1.000000   \n",
       "\n",
       "       skill_tableau  skill_r  skill_excel   skill_sas  skill_spss  \\\n",
       "count     478.000000    478.0   478.000000  478.000000  478.000000   \n",
       "mean        0.102510      1.0     0.497908    0.154812    0.027197   \n",
       "std         0.303636      0.0     0.500519    0.362104    0.162826   \n",
       "min         0.000000      1.0     0.000000    0.000000    0.000000   \n",
       "25%         0.000000      1.0     0.000000    0.000000    0.000000   \n",
       "50%         0.000000      1.0     0.000000    0.000000    0.000000   \n",
       "75%         0.000000      1.0     1.000000    0.000000    0.000000   \n",
       "max         1.000000      1.0     1.000000    1.000000    1.000000   \n",
       "\n",
       "        skill_aws  skill_kafka  \n",
       "count  478.000000   478.000000  \n",
       "mean     0.056485     0.033473  \n",
       "std      0.231098     0.180056  \n",
       "min      0.000000     0.000000  \n",
       "25%      0.000000     0.000000  \n",
       "50%      0.000000     0.000000  \n",
       "75%      0.000000     0.000000  \n",
       "max      1.000000     1.000000  \n",
       "\n",
       "[8 rows x 5054 columns]"
      ]
     },
     "execution_count": 111,
     "metadata": {},
     "output_type": "execute_result"
    }
   ],
   "source": [
    "#Let's begin by looking at the summary statistics\n",
    "jobs.describe()"
   ]
  },
  {
   "cell_type": "markdown",
   "metadata": {},
   "source": [
    "The summary statistics tell us a few things, particularly about salary information. Firstly, that only a minority of our data \n",
    "actually has salary information (90 records out of 441 total). This may be a limitation for our modelling and predictions.\n",
    "\n",
    "However, of the jobs that do list their salary information, a few descriptive statistics of note are apparent. Firstly, the \n",
    "average offered salary range for data science/analytics jobs in Australia is 95216 - 112513, with the average mean salary being 103864. Salary varies over a large range though, with the lowest paid jobs paying only 30680, while the highest amount potentially\n",
    "on offer is 312000."
   ]
  },
  {
   "cell_type": "markdown",
   "metadata": {},
   "source": [
    "# 3.3.2 Target variable distributions"
   ]
  },
  {
   "cell_type": "code",
   "execution_count": 112,
   "metadata": {},
   "outputs": [
    {
     "data": {
      "text/plain": [
       "(98, 5056)"
      ]
     },
     "execution_count": 112,
     "metadata": {},
     "output_type": "execute_result"
    }
   ],
   "source": [
    "#Before we can look at distributions for the salary data, we need to limit our rows only to those which have values for salary\n",
    "jobs_subset = jobs[jobs.salary_low.isnull() == False]\n",
    "jobs_subset.shape"
   ]
  },
  {
   "cell_type": "code",
   "execution_count": 113,
   "metadata": {},
   "outputs": [],
   "source": [
    "#How are the salary variables distributed?\n",
    "def distribution(values, xlabel, title):\n",
    "    fig = plt.figure(figsize=(6,4))\n",
    "    sns.distplot(values, bins = 20,kde=False)\n",
    "    plt.axvline(x=np.mean(values), linestyle='dashed', color='black', alpha=0.8)\n",
    "    plt.axvline(x=np.median(values), linestyle='dashed', color = 'r', alpha=0.8)\n",
    "    plt.ylabel('frequency')\n",
    "    plt.xlabel(xlabel)\n",
    "    plt.title(title)"
   ]
  },
  {
   "cell_type": "code",
   "execution_count": 114,
   "metadata": {},
   "outputs": [
    {
     "data": {
      "image/png": "[encoded data removed]",
      "text/plain": [
       "<matplotlib.figure.Figure at 0x23b49d1c198>"
      ]
     },
     "metadata": {},
     "output_type": "display_data"
    }
   ],
   "source": [
    "distribution(jobs_subset['salary_low'], 'minimum salary', 'distribution of minimum salary')"
   ]
  },
  {
   "cell_type": "code",
   "execution_count": 115,
   "metadata": {},
   "outputs": [
    {
     "data": {
      "image/png": "[encoded data removed]",
      "text/plain": [
       "<matplotlib.figure.Figure at 0x23b49d1c7b8>"
      ]
     },
     "metadata": {},
     "output_type": "display_data"
    }
   ],
   "source": [
    "distribution(jobs_subset['salary_high'], 'maximum salary', 'distribution of maximum salary')"
   ]
  },
  {
   "cell_type": "code",
   "execution_count": 116,
   "metadata": {},
   "outputs": [
    {
     "data": {
      "image/png": "[encoded data removed]",
      "text/plain": [
       "<matplotlib.figure.Figure at 0x23b46505b70>"
      ]
     },
     "metadata": {},
     "output_type": "display_data"
    }
   ],
   "source": [
    "distribution(jobs_subset['salary_mean'], 'mean salary', 'distribution of mean salary')"
   ]
  },
  {
   "cell_type": "markdown",
   "metadata": {},
   "source": [
    "Minimum, maximum and mean salary are all somewhat positively skewed. While most of the jobs listed are around the approximately \n",
    "100k average, there are a few that are considerably lower and several that are much higher. The distribution of salaries is also\n",
    "discontinuous, with some gaps where there are no jobs listed in that area. I will attempt linear regression to predict this \n",
    "variable but I may have more success if I bin the salary variable into categories and attempt to classify jobs into these \n",
    "categories.\n",
    "\n",
    "Let's look at some boxplots to get a closer look at these outliers."
   ]
  },
  {
   "cell_type": "code",
   "execution_count": 117,
   "metadata": {},
   "outputs": [
    {
     "data": {
      "text/plain": [
       "Text(0,0.5,'annual salary (AUD)')"
      ]
     },
     "execution_count": 117,
     "metadata": {},
     "output_type": "execute_result"
    },
    {
     "data": {
      "image/png": "[encoded data removed]",
      "text/plain": [
       "<matplotlib.figure.Figure at 0x23b4a3b9f28>"
      ]
     },
     "metadata": {},
     "output_type": "display_data"
    }
   ],
   "source": [
    "fig = plt.figure(figsize=(6,6))\n",
    "sns.boxplot(data=jobs_subset[['salary_low','salary_high','salary_mean']],orient='v', linewidth=3)\n",
    "plt.ylabel('annual salary (AUD)')"
   ]
  },
  {
   "cell_type": "markdown",
   "metadata": {},
   "source": [
    "The upper range of salaries has more extreme outliers than the other two variables, which makes sense. It's possible that higher-\n",
    "paid jobs have a wider pay range over which they are willing to negotiate. For this reason, I will stick with mean salary as my \n",
    "target variable."
   ]
  },
  {
   "cell_type": "markdown",
   "metadata": {},
   "source": [
    "# 3.3.3 Correlations"
   ]
  },
  {
   "cell_type": "code",
   "execution_count": 118,
   "metadata": {},
   "outputs": [
    {
     "data": {
      "text/plain": [
       "<matplotlib.axes._subplots.AxesSubplot at 0x23b49d38668>"
      ]
     },
     "execution_count": 118,
     "metadata": {},
     "output_type": "execute_result"
    },
    {
     "data": {
      "image/png": "[encoded data removed]",
      "text/plain": [
       "<matplotlib.figure.Figure at 0x23b46476080>"
      ]
     },
     "metadata": {},
     "output_type": "display_data"
    }
   ],
   "source": [
    "fig = plt.figure(figsize=(20,15))\n",
    "#Calculate a correlation matrix for the numerical variables\n",
    "correlations = jobs_subset.iloc[:,3:100].corr()\n",
    "# Generate a mask for the upper triangle\n",
    "mask = np.zeros_like(correlations, dtype=np.bool)\n",
    "mask[np.triu_indices_from(mask)] = True\n",
    "#Make the heatmap\n",
    "sns.heatmap(correlations, mask = mask, vmin=-1, linewidths=.5, vmax=1, cmap='seismic',cbar_kws={\"shrink\": .5})"
   ]
  },
  {
   "cell_type": "markdown",
   "metadata": {},
   "source": [
    "Firstly, the states negatively correlate with one another, which is to be expected given that a job is listed in one state only \n",
    "and so these values are mutually exclusive. There's not much we can do about this.\n",
    "\n",
    "The salary variables are all strongly collinear, this is also to be expected and will not be an issue as I'll only be using the \n",
    "salary_mean column as a target variable.\n",
    "\n",
    "A few other terms show collinearity that might be worth dealing with. Keywords 'machine' and 'learn' are highly correlated, \n",
    "suggesting that they're usually used in the phrase 'machine learning'. In this instance it might be a good idea to drop the \n",
    "'machine' keyword variable, as this doesn't capture as much information as 'learn' which has a few other potential connotations \n",
    "in a data job listing. 'Environmental' in the job title also seems to correlate quite strongly with 'environment' in the summary,\n",
    "unsurprisingly. I will drop the kw_environment column here. These seem to be the most extreme instances of collinearity, and \n",
    "should be alleviated by dropping the columns 'title_machine', 'kw_machin' and 'kw_environment'."
   ]
  },
  {
   "cell_type": "markdown",
   "metadata": {},
   "source": [
    "# 3.4 Question 1: Modelling factors that predict mean salary"
   ]
  },
  {
   "cell_type": "markdown",
   "metadata": {},
   "source": [
    "What keywords in the job title and job summary predict salary? Does the location affect salary? I will first attempt to construct\n",
    "a linear model to predict mean salary from these variables."
   ]
  },
  {
   "cell_type": "markdown",
   "metadata": {},
   "source": [
    "# 3.4.1 Define predictor matrix and target variable"
   ]
  },
  {
   "cell_type": "code",
   "execution_count": 119,
   "metadata": {},
   "outputs": [],
   "source": [
    "#We'll start by defining a predictor matrix\n",
    "X = jobs_subset.iloc[:,7:]\n",
    "#Dropping the columns we found above to be collinear\n",
    "dropcols = ['title_machine','kw_machin','kw_environment']\n",
    "X.drop(dropcols,axis=1,inplace=True)"
   ]
  },
  {
   "cell_type": "code",
   "execution_count": 120,
   "metadata": {},
   "outputs": [],
   "source": [
    "#And the target variable\n",
    "y = jobs_subset['salary_mean']"
   ]
  },
  {
   "cell_type": "code",
   "execution_count": 121,
   "metadata": {},
   "outputs": [],
   "source": [
    "#Now do a train-test split, leaving 1/3rd of the data in the test set\n",
    "X_train, X_test, y_train, y_test = train_test_split(X, y, test_size=0.5, random_state=11)"
   ]
  },
  {
   "cell_type": "code",
   "execution_count": 122,
   "metadata": {},
   "outputs": [],
   "source": [
    "#Standardize the predictors\n",
    "ss = StandardScaler()\n",
    "Xs_train = ss.fit_transform(X_train)\n",
    "Xs_test = ss.transform(X_test)"
   ]
  },
  {
   "cell_type": "markdown",
   "metadata": {},
   "source": [
    "# 3.4.2 Straightforward linear regression modelling"
   ]
  },
  {
   "cell_type": "markdown",
   "metadata": {},
   "source": [
    "Prior to any feature selection or regularization, how does a linear model perform on this data?"
   ]
  },
  {
   "cell_type": "code",
   "execution_count": 123,
   "metadata": {},
   "outputs": [
    {
     "data": {
      "text/plain": [
       "LinearRegression(copy_X=True, fit_intercept=True, n_jobs=1, normalize=False)"
      ]
     },
     "execution_count": 123,
     "metadata": {},
     "output_type": "execute_result"
    }
   ],
   "source": [
    "#Fit the training data to a linear regression\n",
    "lr = LinearRegression()\n",
    "lr.fit(Xs_train, y_train)"
   ]
  },
  {
   "cell_type": "code",
   "execution_count": 124,
   "metadata": {},
   "outputs": [],
   "source": [
    "#Define a function to get the r2 score for a given model and dataset\n",
    "def get_r2(model,X,y):\n",
    "    predictions = model.predict(X)\n",
    "    r2 = r2_score(y, predictions)\n",
    "    return r2"
   ]
  },
  {
   "cell_type": "code",
   "execution_count": 125,
   "metadata": {},
   "outputs": [
    {
     "data": {
      "text/plain": [
       "1.0"
      ]
     },
     "execution_count": 125,
     "metadata": {},
     "output_type": "execute_result"
    }
   ],
   "source": [
    "#How good is the fit on the training data?\n",
    "get_r2(lr, Xs_train, y_train)"
   ]
  },
  {
   "cell_type": "code",
   "execution_count": 126,
   "metadata": {},
   "outputs": [
    {
     "data": {
      "text/plain": [
       "0.2946065904147124"
      ]
     },
     "execution_count": 126,
     "metadata": {},
     "output_type": "execute_result"
    }
   ],
   "source": [
    "#Evaluate the model on test data\n",
    "get_r2(lr, Xs_test, y_test)"
   ]
  },
  {
   "cell_type": "markdown",
   "metadata": {},
   "source": [
    "Just going ahead and fitting these values to a linear regression model yielded a decent $r^2$ for the training data, but a much \n",
    "lower one fo the test data, suggesting the model is overfitting to the training data. Variance-reduction methods such as feature\n",
    "elimination or regularization may help with this issue."
   ]
  },
  {
   "cell_type": "markdown",
   "metadata": {},
   "source": [
    "# 3.4.3 Linear regression with regularization"
   ]
  },
  {
   "cell_type": "code",
   "execution_count": 127,
   "metadata": {},
   "outputs": [
    {
     "data": {
      "text/plain": [
       "1.0"
      ]
     },
     "execution_count": 127,
     "metadata": {},
     "output_type": "execute_result"
    }
   ],
   "source": [
    "#Starting with ridge regularization, find the optimal alpha value using CV\n",
    "ridge = RidgeCV(alphas=np.logspace(0,5,200),cv=10)\n",
    "ridge.fit(Xs_train,y_train)\n",
    "bestalpha = ridge.alpha_\n",
    "bestalpha"
   ]
  },
  {
   "cell_type": "code",
   "execution_count": 128,
   "metadata": {},
   "outputs": [
    {
     "data": {
      "text/plain": [
       "Ridge(alpha=1.0, copy_X=True, fit_intercept=True, max_iter=None,\n",
       "   normalize=False, random_state=None, solver='auto', tol=0.001)"
      ]
     },
     "execution_count": 128,
     "metadata": {},
     "output_type": "execute_result"
    }
   ],
   "source": [
    "optimalridge = Ridge(alpha = bestalpha)\n",
    "optimalridge.fit(Xs_train,y_train)"
   ]
  },
  {
   "cell_type": "code",
   "execution_count": 129,
   "metadata": {},
   "outputs": [
    {
     "data": {
      "text/plain": [
       "0.9999966918337211"
      ]
     },
     "execution_count": 129,
     "metadata": {},
     "output_type": "execute_result"
    }
   ],
   "source": [
    "#Training r2\n",
    "get_r2(optimalridge, Xs_train, y_train)"
   ]
  },
  {
   "cell_type": "code",
   "execution_count": 130,
   "metadata": {},
   "outputs": [
    {
     "data": {
      "text/plain": [
       "0.2953057190613424"
      ]
     },
     "execution_count": 130,
     "metadata": {},
     "output_type": "execute_result"
    }
   ],
   "source": [
    "#Testing r2\n",
    "get_r2(optimalridge, Xs_test, y_test)"
   ]
  },
  {
   "cell_type": "markdown",
   "metadata": {},
   "source": [
    "Ridge regression does not improve the model significantly."
   ]
  },
  {
   "cell_type": "code",
   "execution_count": 131,
   "metadata": {},
   "outputs": [
    {
     "name": "stderr",
     "output_type": "stream",
     "text": [
      "C:\\Users\\sreej\\Anaconda3\\lib\\site-packages\\sklearn\\linear_model\\coordinate_descent.py:491: ConvergenceWarning: Objective did not converge. You might want to increase the number of iterations. Fitting data with very small alpha may cause precision problems.\n",
      "  ConvergenceWarning)\n"
     ]
    },
    {
     "data": {
      "text/plain": [
       "1.0"
      ]
     },
     "execution_count": 131,
     "metadata": {},
     "output_type": "execute_result"
    }
   ],
   "source": [
    "#Lasso regularization\n",
    "lasso = LassoCV(alphas=np.logspace(0,5,200), cv=10)\n",
    "lasso.fit(Xs_train, y_train)\n",
    "bestalpha=lasso.alpha_\n",
    "bestalpha"
   ]
  },
  {
   "cell_type": "code",
   "execution_count": 132,
   "metadata": {},
   "outputs": [
    {
     "name": "stderr",
     "output_type": "stream",
     "text": [
      "C:\\Users\\sreej\\Anaconda3\\lib\\site-packages\\sklearn\\linear_model\\coordinate_descent.py:491: ConvergenceWarning: Objective did not converge. You might want to increase the number of iterations. Fitting data with very small alpha may cause precision problems.\n",
      "  ConvergenceWarning)\n"
     ]
    },
    {
     "data": {
      "text/plain": [
       "Lasso(alpha=1.0, copy_X=True, fit_intercept=True, max_iter=1000,\n",
       "   normalize=False, positive=False, precompute=False, random_state=None,\n",
       "   selection='cyclic', tol=0.0001, warm_start=False)"
      ]
     },
     "execution_count": 132,
     "metadata": {},
     "output_type": "execute_result"
    }
   ],
   "source": [
    "optimallasso = Lasso(alpha = bestalpha)\n",
    "optimallasso.fit(Xs_train, y_train)"
   ]
  },
  {
   "cell_type": "code",
   "execution_count": 133,
   "metadata": {},
   "outputs": [
    {
     "data": {
      "text/plain": [
       "0.9999999932807468"
      ]
     },
     "execution_count": 133,
     "metadata": {},
     "output_type": "execute_result"
    }
   ],
   "source": [
    "#Training r2\n",
    "get_r2(optimallasso, Xs_train, y_train)"
   ]
  },
  {
   "cell_type": "code",
   "execution_count": 134,
   "metadata": {},
   "outputs": [
    {
     "data": {
      "text/plain": [
       "-0.5304075299253463"
      ]
     },
     "execution_count": 134,
     "metadata": {},
     "output_type": "execute_result"
    }
   ],
   "source": [
    "#Testing r2\n",
    "get_r2(optimallasso, Xs_test, y_test)"
   ]
  },
  {
   "cell_type": "markdown",
   "metadata": {},
   "source": [
    "Lasso regression is not doing well either. Perhaps other approaches to feature elimination are needed."
   ]
  },
  {
   "cell_type": "markdown",
   "metadata": {},
   "source": [
    "# 3.4.4 Feature selection with Select K-best and Recursive feature elimination"
   ]
  },
  {
   "cell_type": "code",
   "execution_count": 135,
   "metadata": {},
   "outputs": [
    {
     "name": "stderr",
     "output_type": "stream",
     "text": [
      "C:\\Users\\sreej\\Anaconda3\\lib\\site-packages\\sklearn\\feature_selection\\univariate_selection.py:298: RuntimeWarning: invalid value encountered in true_divide\n",
      "  corr /= X_norms\n",
      "C:\\Users\\sreej\\Anaconda3\\lib\\site-packages\\scipy\\stats\\_distn_infrastructure.py:879: RuntimeWarning: invalid value encountered in greater\n",
      "  return (self.a < x) & (x < self.b)\n",
      "C:\\Users\\sreej\\Anaconda3\\lib\\site-packages\\scipy\\stats\\_distn_infrastructure.py:879: RuntimeWarning: invalid value encountered in less\n",
      "  return (self.a < x) & (x < self.b)\n",
      "C:\\Users\\sreej\\Anaconda3\\lib\\site-packages\\scipy\\stats\\_distn_infrastructure.py:1821: RuntimeWarning: invalid value encountered in less_equal\n",
      "  cond2 = cond0 & (x <= self.a)\n"
     ]
    },
    {
     "data": {
      "text/plain": [
       "SelectKBest(k=10, score_func=<function f_regression at 0x0000023B39F4DC80>)"
      ]
     },
     "execution_count": 135,
     "metadata": {},
     "output_type": "execute_result"
    }
   ],
   "source": [
    "#Start with select k-best\n",
    "select_f = SelectKBest(f_regression, k=10)\n",
    "select_f.fit(Xs_train, y_train)"
   ]
  },
  {
   "cell_type": "code",
   "execution_count": 136,
   "metadata": {},
   "outputs": [],
   "source": [
    "kbest = pd.DataFrame({'feature':list(X_train.columns), 'f_regression score':list(select_f.scores_)})"
   ]
  },
  {
   "cell_type": "code",
   "execution_count": 137,
   "metadata": {},
   "outputs": [
    {
     "data": {
      "text/html": [
       "<div>\n",
       "<style scoped>\n",
       "    .dataframe tbody tr th:only-of-type {\n",
       "        vertical-align: middle;\n",
       "    }\n",
       "\n",
       "    .dataframe tbody tr th {\n",
       "        vertical-align: top;\n",
       "    }\n",
       "\n",
       "    .dataframe thead th {\n",
       "        text-align: right;\n",
       "    }\n",
       "</style>\n",
       "<table border=\"1\" class=\"dataframe\">\n",
       "  <thead>\n",
       "    <tr style=\"text-align: right;\">\n",
       "      <th></th>\n",
       "      <th>f_regression score</th>\n",
       "      <th>feature</th>\n",
       "    </tr>\n",
       "  </thead>\n",
       "  <tbody>\n",
       "    <tr>\n",
       "      <th>222</th>\n",
       "      <td>21.394019</td>\n",
       "      <td>kw_cloud</td>\n",
       "    </tr>\n",
       "    <tr>\n",
       "      <th>102</th>\n",
       "      <td>21.172933</td>\n",
       "      <td>kw_sql</td>\n",
       "    </tr>\n",
       "    <tr>\n",
       "      <th>221</th>\n",
       "      <td>20.790907</td>\n",
       "      <td>kw_experienc</td>\n",
       "    </tr>\n",
       "    <tr>\n",
       "      <th>1683</th>\n",
       "      <td>19.644824</td>\n",
       "      <td>kw_storag</td>\n",
       "    </tr>\n",
       "    <tr>\n",
       "      <th>519</th>\n",
       "      <td>19.143371</td>\n",
       "      <td>kw_hadoop</td>\n",
       "    </tr>\n",
       "    <tr>\n",
       "      <th>207</th>\n",
       "      <td>18.989997</td>\n",
       "      <td>kw_analytics</td>\n",
       "    </tr>\n",
       "    <tr>\n",
       "      <th>159</th>\n",
       "      <td>18.930366</td>\n",
       "      <td>kw_assist</td>\n",
       "    </tr>\n",
       "    <tr>\n",
       "      <th>2380</th>\n",
       "      <td>17.628585</td>\n",
       "      <td>kw_perl</td>\n",
       "    </tr>\n",
       "    <tr>\n",
       "      <th>2017</th>\n",
       "      <td>17.628585</td>\n",
       "      <td>kw_hous</td>\n",
       "    </tr>\n",
       "    <tr>\n",
       "      <th>2570</th>\n",
       "      <td>17.628585</td>\n",
       "      <td>kw_cleansing</td>\n",
       "    </tr>\n",
       "    <tr>\n",
       "      <th>2484</th>\n",
       "      <td>17.628585</td>\n",
       "      <td>kw_storage</td>\n",
       "    </tr>\n",
       "    <tr>\n",
       "      <th>4050</th>\n",
       "      <td>17.628585</td>\n",
       "      <td>kw_loading</td>\n",
       "    </tr>\n",
       "    <tr>\n",
       "      <th>1257</th>\n",
       "      <td>17.628585</td>\n",
       "      <td>kw_architects</td>\n",
       "    </tr>\n",
       "    <tr>\n",
       "      <th>3133</th>\n",
       "      <td>17.628585</td>\n",
       "      <td>kw_etcexperi</td>\n",
       "    </tr>\n",
       "    <tr>\n",
       "      <th>2919</th>\n",
       "      <td>17.628585</td>\n",
       "      <td>kw_bash</td>\n",
       "    </tr>\n",
       "    <tr>\n",
       "      <th>1049</th>\n",
       "      <td>17.628585</td>\n",
       "      <td>kw_redshift</td>\n",
       "    </tr>\n",
       "    <tr>\n",
       "      <th>2721</th>\n",
       "      <td>17.628585</td>\n",
       "      <td>kw_db</td>\n",
       "    </tr>\n",
       "    <tr>\n",
       "      <th>4998</th>\n",
       "      <td>17.628585</td>\n",
       "      <td>kw_ssolid</td>\n",
       "    </tr>\n",
       "    <tr>\n",
       "      <th>4999</th>\n",
       "      <td>17.628585</td>\n",
       "      <td>kw_flatflles</td>\n",
       "    </tr>\n",
       "    <tr>\n",
       "      <th>4997</th>\n",
       "      <td>17.628585</td>\n",
       "      <td>kw_noncloud</td>\n",
       "    </tr>\n",
       "    <tr>\n",
       "      <th>5000</th>\n",
       "      <td>17.628585</td>\n",
       "      <td>kw_etcif</td>\n",
       "    </tr>\n",
       "    <tr>\n",
       "      <th>4996</th>\n",
       "      <td>17.628585</td>\n",
       "      <td>kw_awsetl</td>\n",
       "    </tr>\n",
       "    <tr>\n",
       "      <th>2933</th>\n",
       "      <td>17.628585</td>\n",
       "      <td>kw_retrial</td>\n",
       "    </tr>\n",
       "    <tr>\n",
       "      <th>1161</th>\n",
       "      <td>17.628585</td>\n",
       "      <td>kw_manipulation</td>\n",
       "    </tr>\n",
       "    <tr>\n",
       "      <th>5001</th>\n",
       "      <td>17.628585</td>\n",
       "      <td>kw_powershel</td>\n",
       "    </tr>\n",
       "    <tr>\n",
       "      <th>5002</th>\n",
       "      <td>17.628585</td>\n",
       "      <td>kw_gateway</td>\n",
       "    </tr>\n",
       "    <tr>\n",
       "      <th>5003</th>\n",
       "      <td>17.628585</td>\n",
       "      <td>kw_repositories</td>\n",
       "    </tr>\n",
       "    <tr>\n",
       "      <th>2173</th>\n",
       "      <td>16.817568</td>\n",
       "      <td>kw_google</td>\n",
       "    </tr>\n",
       "    <tr>\n",
       "      <th>1564</th>\n",
       "      <td>16.817568</td>\n",
       "      <td>kw_azure</td>\n",
       "    </tr>\n",
       "    <tr>\n",
       "      <th>210</th>\n",
       "      <td>16.573951</td>\n",
       "      <td>kw_autom</td>\n",
       "    </tr>\n",
       "    <tr>\n",
       "      <th>5036</th>\n",
       "      <td>15.719290</td>\n",
       "      <td>skill_python</td>\n",
       "    </tr>\n",
       "    <tr>\n",
       "      <th>927</th>\n",
       "      <td>15.184954</td>\n",
       "      <td>kw_analysts</td>\n",
       "    </tr>\n",
       "    <tr>\n",
       "      <th>725</th>\n",
       "      <td>15.118926</td>\n",
       "      <td>kw_api</td>\n",
       "    </tr>\n",
       "    <tr>\n",
       "      <th>66</th>\n",
       "      <td>14.946565</td>\n",
       "      <td>kw_technic</td>\n",
       "    </tr>\n",
       "    <tr>\n",
       "      <th>5038</th>\n",
       "      <td>13.867869</td>\n",
       "      <td>skill_hadoop</td>\n",
       "    </tr>\n",
       "    <tr>\n",
       "      <th>835</th>\n",
       "      <td>13.662107</td>\n",
       "      <td>kw_nosql</td>\n",
       "    </tr>\n",
       "    <tr>\n",
       "      <th>140</th>\n",
       "      <td>13.368327</td>\n",
       "      <td>kw_python</td>\n",
       "    </tr>\n",
       "    <tr>\n",
       "      <th>2307</th>\n",
       "      <td>11.669321</td>\n",
       "      <td>kw_valued</td>\n",
       "    </tr>\n",
       "    <tr>\n",
       "      <th>251</th>\n",
       "      <td>11.077103</td>\n",
       "      <td>kw_contract</td>\n",
       "    </tr>\n",
       "    <tr>\n",
       "      <th>945</th>\n",
       "      <td>11.059765</td>\n",
       "      <td>kw_backend</td>\n",
       "    </tr>\n",
       "    <tr>\n",
       "      <th>602</th>\n",
       "      <td>10.457822</td>\n",
       "      <td>kw_abov</td>\n",
       "    </tr>\n",
       "    <tr>\n",
       "      <th>1722</th>\n",
       "      <td>10.137231</td>\n",
       "      <td>kw_details</td>\n",
       "    </tr>\n",
       "    <tr>\n",
       "      <th>93</th>\n",
       "      <td>10.135199</td>\n",
       "      <td>kw_skills</td>\n",
       "    </tr>\n",
       "    <tr>\n",
       "      <th>547</th>\n",
       "      <td>9.554420</td>\n",
       "      <td>kw_web</td>\n",
       "    </tr>\n",
       "    <tr>\n",
       "      <th>54</th>\n",
       "      <td>9.301047</td>\n",
       "      <td>kw_includ</td>\n",
       "    </tr>\n",
       "    <tr>\n",
       "      <th>5044</th>\n",
       "      <td>8.441050</td>\n",
       "      <td>skill_aws</td>\n",
       "    </tr>\n",
       "    <tr>\n",
       "      <th>576</th>\n",
       "      <td>8.380562</td>\n",
       "      <td>kw_etl</td>\n",
       "    </tr>\n",
       "    <tr>\n",
       "      <th>1308</th>\n",
       "      <td>8.284947</td>\n",
       "      <td>kw_loyalti</td>\n",
       "    </tr>\n",
       "    <tr>\n",
       "      <th>1366</th>\n",
       "      <td>8.284947</td>\n",
       "      <td>kw_linear</td>\n",
       "    </tr>\n",
       "    <tr>\n",
       "      <th>37</th>\n",
       "      <td>7.935918</td>\n",
       "      <td>kw_data</td>\n",
       "    </tr>\n",
       "  </tbody>\n",
       "</table>\n",
       "</div>"
      ],
      "text/plain": [
       "      f_regression score          feature\n",
       "222            21.394019         kw_cloud\n",
       "102            21.172933           kw_sql\n",
       "221            20.790907     kw_experienc\n",
       "1683           19.644824        kw_storag\n",
       "519            19.143371        kw_hadoop\n",
       "207            18.989997     kw_analytics\n",
       "159            18.930366        kw_assist\n",
       "2380           17.628585          kw_perl\n",
       "2017           17.628585          kw_hous\n",
       "2570           17.628585     kw_cleansing\n",
       "2484           17.628585       kw_storage\n",
       "4050           17.628585       kw_loading\n",
       "1257           17.628585    kw_architects\n",
       "3133           17.628585     kw_etcexperi\n",
       "2919           17.628585          kw_bash\n",
       "1049           17.628585      kw_redshift\n",
       "2721           17.628585            kw_db\n",
       "4998           17.628585        kw_ssolid\n",
       "4999           17.628585     kw_flatflles\n",
       "4997           17.628585      kw_noncloud\n",
       "5000           17.628585         kw_etcif\n",
       "4996           17.628585        kw_awsetl\n",
       "2933           17.628585       kw_retrial\n",
       "1161           17.628585  kw_manipulation\n",
       "5001           17.628585     kw_powershel\n",
       "5002           17.628585       kw_gateway\n",
       "5003           17.628585  kw_repositories\n",
       "2173           16.817568        kw_google\n",
       "1564           16.817568         kw_azure\n",
       "210            16.573951         kw_autom\n",
       "5036           15.719290     skill_python\n",
       "927            15.184954      kw_analysts\n",
       "725            15.118926           kw_api\n",
       "66             14.946565       kw_technic\n",
       "5038           13.867869     skill_hadoop\n",
       "835            13.662107         kw_nosql\n",
       "140            13.368327        kw_python\n",
       "2307           11.669321        kw_valued\n",
       "251            11.077103      kw_contract\n",
       "945            11.059765       kw_backend\n",
       "602            10.457822          kw_abov\n",
       "1722           10.137231       kw_details\n",
       "93             10.135199        kw_skills\n",
       "547             9.554420           kw_web\n",
       "54              9.301047        kw_includ\n",
       "5044            8.441050        skill_aws\n",
       "576             8.380562           kw_etl\n",
       "1308            8.284947       kw_loyalti\n",
       "1366            8.284947        kw_linear\n",
       "37              7.935918          kw_data"
      ]
     },
     "execution_count": 137,
     "metadata": {},
     "output_type": "execute_result"
    }
   ],
   "source": [
    "#What are the highest ranked features for select k best?\n",
    "kbesttop30 = kbest.sort_values('f_regression score', ascending=False).head(50)\n",
    "#kbesttop30 = kbesttop30[kbesttop30['f_classif score'] != inf]\n",
    "kbesttop30"
   ]
  },
  {
   "cell_type": "markdown",
   "metadata": {},
   "source": [
    "Getting a lot of infinite values using select k best, perhaps RFECV will be a better approach."
   ]
  },
  {
   "cell_type": "code",
   "execution_count": 138,
   "metadata": {},
   "outputs": [],
   "source": [
    "#Now try RFECV\n",
    "lr = LinearRegression()\n",
    "selector = RFECV(lr, step=0.5, cv=10)\n",
    "selector.fit(Xs_train, y_train)\n",
    "\n",
    "rfe = pd.DataFrame({'feature':list(X_train.columns),'ranking':list(selector.ranking_),'support':list(selector.support_)})"
   ]
  },
  {
   "cell_type": "code",
   "execution_count": 139,
   "metadata": {},
   "outputs": [],
   "source": [
    "#We'll also look at the top 10 ranked features for rfe\n",
    "rfetop30 = rfe.sort_values('ranking',ascending=True).head(30)"
   ]
  },
  {
   "cell_type": "code",
   "execution_count": 140,
   "metadata": {},
   "outputs": [
    {
     "data": {
      "text/plain": [
       "2523"
      ]
     },
     "execution_count": 140,
     "metadata": {},
     "output_type": "execute_result"
    }
   ],
   "source": [
    "#Let's use the features supported by RFECV\n",
    "rfesupported = rfe[rfe['support']==True]\n",
    "len(rfesupported)"
   ]
  },
  {
   "cell_type": "code",
   "execution_count": 141,
   "metadata": {},
   "outputs": [
    {
     "name": "stdout",
     "output_type": "stream",
     "text": [
      "['kw_api', 'kw_hous', 'kw_gateway', 'kw_technic', 'kw_manipulation', 'kw_abov', 'kw_ssolid', 'kw_perl', 'kw_google', 'kw_loading', 'kw_autom', 'kw_details', 'kw_valued', 'kw_web', 'kw_etl', 'kw_bash', 'kw_awsetl', 'kw_assist', 'kw_repositories', 'kw_backend', 'kw_storag', 'kw_etcif', 'kw_experienc', 'kw_data', 'kw_contract', 'kw_powershel', 'kw_noncloud', 'kw_retrial', 'kw_azure', 'kw_cloud', 'kw_analytics', 'kw_db', 'kw_redshift', 'kw_hadoop', 'kw_architects', 'kw_skills', 'skill_aws', 'kw_analysts', 'skill_hadoop', 'kw_flatflles', 'kw_nosql', 'kw_python', 'kw_linear', 'kw_storage', 'kw_etcexperi', 'kw_loyalti', 'skill_python', 'kw_includ', 'kw_cleansing', 'kw_sql']\n"
     ]
    }
   ],
   "source": [
    "#We could also select features that appear in both lists\n",
    "combined_features = list(set(kbesttop30.feature).intersection(rfesupported.feature))\n",
    "print(combined_features)"
   ]
  },
  {
   "cell_type": "markdown",
   "metadata": {},
   "source": [
    "# 3.4.5 Re-try linear modelling after feature elimination"
   ]
  },
  {
   "cell_type": "code",
   "execution_count": 142,
   "metadata": {},
   "outputs": [],
   "source": [
    "#Define new predictor matrix\n",
    "Xsub = X[rfesupported.feature]\n",
    "#Xsub = X[combined_features]\n",
    "#Xsub = X[kbesttop30.feature]\n",
    "\n",
    "#I did a lot of trial and error here to decide which set of selected features to use, in the end using the features supported\n",
    "#by RFECV only yielded the best results."
   ]
  },
  {
   "cell_type": "code",
   "execution_count": 143,
   "metadata": {},
   "outputs": [],
   "source": [
    "#New test/train split\n",
    "Xsub_train, Xsub_test, y_train, y_test = train_test_split(Xsub, y, test_size=0.5, random_state=11)"
   ]
  },
  {
   "cell_type": "code",
   "execution_count": 144,
   "metadata": {},
   "outputs": [],
   "source": [
    "#Standardize new predictors\n",
    "ss = StandardScaler()\n",
    "Xsub_train = ss.fit_transform(Xsub_train)\n",
    "Xsub_test = ss.transform(Xsub_test)"
   ]
  },
  {
   "cell_type": "code",
   "execution_count": 145,
   "metadata": {},
   "outputs": [
    {
     "data": {
      "text/plain": [
       "LinearRegression(copy_X=True, fit_intercept=True, n_jobs=1, normalize=False)"
      ]
     },
     "execution_count": 145,
     "metadata": {},
     "output_type": "execute_result"
    }
   ],
   "source": [
    "#Fit on a linear regression model again\n",
    "lr = LinearRegression()\n",
    "lr.fit(Xsub_train, y_train)"
   ]
  },
  {
   "cell_type": "code",
   "execution_count": 146,
   "metadata": {},
   "outputs": [
    {
     "data": {
      "text/plain": [
       "1.0"
      ]
     },
     "execution_count": 146,
     "metadata": {},
     "output_type": "execute_result"
    }
   ],
   "source": [
    "#Training r2\n",
    "get_r2(lr, Xsub_train, y_train)"
   ]
  },
  {
   "cell_type": "code",
   "execution_count": 147,
   "metadata": {},
   "outputs": [
    {
     "data": {
      "text/plain": [
       "0.294536844174915"
      ]
     },
     "execution_count": 147,
     "metadata": {},
     "output_type": "execute_result"
    }
   ],
   "source": [
    "#Test r2\n",
    "get_r2(lr, Xsub_test, y_test)"
   ]
  },
  {
   "cell_type": "markdown",
   "metadata": {},
   "source": [
    "Still over-fitted to the training data. Maybe if we combine this smaller predictor matrix with regularization we can improve the\n",
    "test score."
   ]
  },
  {
   "cell_type": "code",
   "execution_count": 148,
   "metadata": {},
   "outputs": [
    {
     "data": {
      "text/plain": [
       "Ridge(alpha=1.0, copy_X=True, fit_intercept=True, max_iter=None,\n",
       "   normalize=False, random_state=None, solver='auto', tol=0.001)"
      ]
     },
     "execution_count": 148,
     "metadata": {},
     "output_type": "execute_result"
    }
   ],
   "source": [
    "#Ridge\n",
    "ridge = RidgeCV(alphas=np.logspace(0,5,200),cv=10)\n",
    "ridge.fit(Xsub_train,y_train)\n",
    "bestalpha = ridge.alpha_\n",
    "optimalridge = Ridge(alpha = bestalpha)\n",
    "optimalridge.fit(Xsub_train,y_train)"
   ]
  },
  {
   "cell_type": "code",
   "execution_count": 149,
   "metadata": {},
   "outputs": [
    {
     "name": "stdout",
     "output_type": "stream",
     "text": [
      "train r2:  0.9999966918337211\n",
      "test r2:  0.29530571906134184\n"
     ]
    }
   ],
   "source": [
    "#r2\n",
    "print('train r2: ', get_r2(optimalridge, Xsub_train, y_train))\n",
    "print('test r2: ', get_r2(optimalridge, Xsub_test, y_test))"
   ]
  },
  {
   "cell_type": "code",
   "execution_count": 150,
   "metadata": {},
   "outputs": [
    {
     "name": "stderr",
     "output_type": "stream",
     "text": [
      "C:\\Users\\sreej\\Anaconda3\\lib\\site-packages\\sklearn\\linear_model\\coordinate_descent.py:491: ConvergenceWarning: Objective did not converge. You might want to increase the number of iterations. Fitting data with very small alpha may cause precision problems.\n",
      "  ConvergenceWarning)\n"
     ]
    },
    {
     "data": {
      "text/plain": [
       "Lasso(alpha=1.0, copy_X=True, fit_intercept=True, max_iter=1000,\n",
       "   normalize=False, positive=False, precompute=False, random_state=None,\n",
       "   selection='cyclic', tol=0.0001, warm_start=False)"
      ]
     },
     "execution_count": 150,
     "metadata": {},
     "output_type": "execute_result"
    }
   ],
   "source": [
    "#Lasso\n",
    "lasso = LassoCV(alphas=np.logspace(0,5,200), cv=10)\n",
    "lasso.fit(Xsub_train, y_train)\n",
    "bestalpha=lasso.alpha_\n",
    "optimallasso = Lasso(alpha = bestalpha)\n",
    "optimallasso.fit(Xsub_train, y_train)"
   ]
  },
  {
   "cell_type": "code",
   "execution_count": 151,
   "metadata": {},
   "outputs": [
    {
     "name": "stdout",
     "output_type": "stream",
     "text": [
      "train r2:  0.9999999932807468\n",
      "test r2:  -0.5304075299253463\n"
     ]
    }
   ],
   "source": [
    "#r2\n",
    "print('train r2: ', get_r2(optimallasso, Xsub_train, y_train))\n",
    "print('test r2: ', get_r2(optimallasso, Xsub_test, y_test))"
   ]
  },
  {
   "cell_type": "code",
   "execution_count": 152,
   "metadata": {},
   "outputs": [
    {
     "data": {
      "text/plain": [
       "ElasticNet(alpha=23.705191487195634, copy_X=True, fit_intercept=True,\n",
       "      l1_ratio=0.9587500000000001, max_iter=1000, normalize=False,\n",
       "      positive=False, precompute=False, random_state=None,\n",
       "      selection='cyclic', tol=0.0001, warm_start=False)"
      ]
     },
     "execution_count": 152,
     "metadata": {},
     "output_type": "execute_result"
    }
   ],
   "source": [
    "#Elastic Net\n",
    "l1_ratios = np.linspace(0.01, 1.0, 25)\n",
    "elasticnet = ElasticNetCV(l1_ratio = l1_ratios,n_alphas = 200, cv=10)\n",
    "elasticnet.fit(Xsub_train,y_train)\n",
    "optimalenet = ElasticNet(alpha = elasticnet.alpha_, l1_ratio = elasticnet.l1_ratio_)\n",
    "optimalenet.fit(Xsub_train, y_train)"
   ]
  },
  {
   "cell_type": "code",
   "execution_count": 153,
   "metadata": {},
   "outputs": [
    {
     "name": "stdout",
     "output_type": "stream",
     "text": [
      "train r2:  0.9991463279424562\n",
      "test r2:  0.3015520352783161\n"
     ]
    }
   ],
   "source": [
    "#r2\n",
    "print('train r2: ', get_r2(optimalenet, Xsub_train, y_train))\n",
    "print('test r2: ', get_r2(optimalenet,Xsub_test, y_test))"
   ]
  },
  {
   "cell_type": "markdown",
   "metadata": {},
   "source": [
    "No matter what I do, I seem to be getting significantly lower $r^2$ values for my test data. The best result I could achieve with\n",
    "some trial and error ended up being elastic net using RFECV for feature elimination, and I will use this model for further \n",
    "validation and evaluation."
   ]
  },
  {
   "cell_type": "markdown",
   "metadata": {},
   "source": [
    "# 3.4.6 Is linear regression modelling appropriate?"
   ]
  },
  {
   "cell_type": "markdown",
   "metadata": {},
   "source": [
    "Some of these issues may be due to violations of the assumptions of linear regression modelling."
   ]
  },
  {
   "cell_type": "code",
   "execution_count": 154,
   "metadata": {},
   "outputs": [],
   "source": [
    "y_hat = optimalenet.predict(Xsub_test)\n",
    "residuals = y_test - y_hat"
   ]
  },
  {
   "cell_type": "code",
   "execution_count": 155,
   "metadata": {},
   "outputs": [
    {
     "name": "stderr",
     "output_type": "stream",
     "text": [
      "C:\\Users\\sreej\\Anaconda3\\lib\\site-packages\\scipy\\stats\\stats.py:1706: FutureWarning: Using a non-tuple sequence for multidimensional indexing is deprecated; use `arr[tuple(seq)]` instead of `arr[seq]`. In the future this will be interpreted as an array index, `arr[np.array(seq)]`, which will result either in an error or a different result.\n",
      "  return np.add.reduce(sorted[indexer] * weights, axis=axis) / sumval\n"
     ]
    },
    {
     "data": {
      "text/plain": [
       "<matplotlib.axes._subplots.AxesSubplot at 0x23b4a3d7860>"
      ]
     },
     "execution_count": 155,
     "metadata": {},
     "output_type": "execute_result"
    },
    {
     "data": {
      "image/png": "[encoded data removed]",
      "text/plain": [
       "<matplotlib.figure.Figure at 0x23b3b6015c0>"
      ]
     },
     "metadata": {},
     "output_type": "display_data"
    }
   ],
   "source": [
    "#Checking distribution of residuals\n",
    "sns.distplot(residuals, bins=12)"
   ]
  },
  {
   "cell_type": "markdown",
   "metadata": {},
   "source": [
    "The residuals of the target variable are slightly positively skewed but are still reasonably close to a normal distribution."
   ]
  },
  {
   "cell_type": "code",
   "execution_count": 156,
   "metadata": {},
   "outputs": [
    {
     "data": {
      "text/plain": [
       "(49,)"
      ]
     },
     "execution_count": 156,
     "metadata": {},
     "output_type": "execute_result"
    }
   ],
   "source": [
    "residuals.shape"
   ]
  },
  {
   "cell_type": "code",
   "execution_count": 157,
   "metadata": {},
   "outputs": [
    {
     "data": {
      "text/plain": [
       "<matplotlib.axes._subplots.AxesSubplot at 0x23b46506b00>"
      ]
     },
     "execution_count": 157,
     "metadata": {},
     "output_type": "execute_result"
    },
    {
     "data": {
      "image/png": "[encoded data removed]",
      "text/plain": [
       "<matplotlib.figure.Figure at 0x23b4a352978>"
      ]
     },
     "metadata": {},
     "output_type": "display_data"
    }
   ],
   "source": [
    "#Check for homoscedasticity.\n",
    "sns.regplot(residuals, X_test['kw_analysi'], fit_reg=False)"
   ]
  },
  {
   "cell_type": "markdown",
   "metadata": {},
   "source": [
    "Plotting residuals against various predictor variables doesn't show any obvious signs of heteroscedasticity, as there is no clear\n",
    "trend in the residuals as these variables increase. Suggesting the assumptions of linear regression aren't violated.\n",
    "\n",
    "We handled multicollinearity by excluding the variables with the highest correlation above. So it seems that the assumptions of \n",
    "linear regression are not violated here and that this is not the problem with my model."
   ]
  },
  {
   "cell_type": "markdown",
   "metadata": {},
   "source": [
    "# 3.4.7 How well is the model performing?"
   ]
  },
  {
   "cell_type": "markdown",
   "metadata": {},
   "source": [
    "While the model is clearly over-fit to the training data, in order to properly evaluate how well it performs in general we need \n",
    "to compare its performance to a dummy regressor model."
   ]
  },
  {
   "cell_type": "code",
   "execution_count": 158,
   "metadata": {},
   "outputs": [],
   "source": [
    "from sklearn.dummy import DummyRegressor"
   ]
  },
  {
   "cell_type": "code",
   "execution_count": 159,
   "metadata": {},
   "outputs": [
    {
     "data": {
      "text/plain": [
       "DummyRegressor(constant=None, quantile=None, strategy='mean')"
      ]
     },
     "execution_count": 159,
     "metadata": {},
     "output_type": "execute_result"
    }
   ],
   "source": [
    "dr = DummyRegressor()\n",
    "dr.fit(Xsub_train, y_train)"
   ]
  },
  {
   "cell_type": "code",
   "execution_count": 160,
   "metadata": {},
   "outputs": [
    {
     "name": "stdout",
     "output_type": "stream",
     "text": [
      "dummy r2:  -0.02980980137243594\n",
      "model r2:  0.3015520352783161\n"
     ]
    }
   ],
   "source": [
    "print('dummy r2: ', get_r2(dr, Xsub_test, y_test))\n",
    "print('model r2: ', get_r2(optimalenet, Xsub_test, y_test))"
   ]
  },
  {
   "cell_type": "code",
   "execution_count": 161,
   "metadata": {},
   "outputs": [
    {
     "name": "stderr",
     "output_type": "stream",
     "text": [
      "C:\\Users\\sreej\\Anaconda3\\lib\\site-packages\\scipy\\stats\\stats.py:1706: FutureWarning: Using a non-tuple sequence for multidimensional indexing is deprecated; use `arr[tuple(seq)]` instead of `arr[seq]`. In the future this will be interpreted as an array index, `arr[np.array(seq)]`, which will result either in an error or a different result.\n",
      "  return np.add.reduce(sorted[indexer] * weights, axis=axis) / sumval\n"
     ]
    },
    {
     "data": {
      "text/plain": [
       "Text(0,0.5,'predicted values')"
      ]
     },
     "execution_count": 161,
     "metadata": {},
     "output_type": "execute_result"
    },
    {
     "data": {
      "image/png": "[encoded data removed]",
      "text/plain": [
       "<matplotlib.figure.Figure at 0x23b3b601668>"
      ]
     },
     "metadata": {},
     "output_type": "display_data"
    }
   ],
   "source": [
    "sns.regplot(y_test, y_hat)\n",
    "plt.xlabel('true values')\n",
    "plt.ylabel('predicted values')"
   ]
  },
  {
   "cell_type": "markdown",
   "metadata": {},
   "source": [
    "In comparison to the dummy regressor, my linear model is performing relatively well, making predictions roughly 40% better than \n",
    "a baseline naive estimate."
   ]
  },
  {
   "cell_type": "markdown",
   "metadata": {},
   "source": [
    "# 3.4.8 What keywords have the greatest impact on salary?"
   ]
  },
  {
   "cell_type": "code",
   "execution_count": 162,
   "metadata": {},
   "outputs": [
    {
     "data": {
      "text/html": [
       "<div>\n",
       "<style scoped>\n",
       "    .dataframe tbody tr th:only-of-type {\n",
       "        vertical-align: middle;\n",
       "    }\n",
       "\n",
       "    .dataframe tbody tr th {\n",
       "        vertical-align: top;\n",
       "    }\n",
       "\n",
       "    .dataframe thead th {\n",
       "        text-align: right;\n",
       "    }\n",
       "</style>\n",
       "<table border=\"1\" class=\"dataframe\">\n",
       "  <thead>\n",
       "    <tr style=\"text-align: right;\">\n",
       "      <th></th>\n",
       "      <th>abs</th>\n",
       "      <th>coefficient</th>\n",
       "      <th>feature</th>\n",
       "    </tr>\n",
       "  </thead>\n",
       "  <tbody>\n",
       "    <tr>\n",
       "      <th>221</th>\n",
       "      <td>554.469968</td>\n",
       "      <td>554.469968</td>\n",
       "      <td>kw_experienc</td>\n",
       "    </tr>\n",
       "    <tr>\n",
       "      <th>159</th>\n",
       "      <td>552.156421</td>\n",
       "      <td>552.156421</td>\n",
       "      <td>kw_assist</td>\n",
       "    </tr>\n",
       "    <tr>\n",
       "      <th>102</th>\n",
       "      <td>532.965970</td>\n",
       "      <td>532.965970</td>\n",
       "      <td>kw_sql</td>\n",
       "    </tr>\n",
       "    <tr>\n",
       "      <th>2489</th>\n",
       "      <td>522.166852</td>\n",
       "      <td>522.166852</td>\n",
       "      <td>kw_repositories</td>\n",
       "    </tr>\n",
       "    <tr>\n",
       "      <th>2488</th>\n",
       "      <td>522.164214</td>\n",
       "      <td>522.164214</td>\n",
       "      <td>kw_gateway</td>\n",
       "    </tr>\n",
       "    <tr>\n",
       "      <th>2487</th>\n",
       "      <td>522.161285</td>\n",
       "      <td>522.161285</td>\n",
       "      <td>kw_powershel</td>\n",
       "    </tr>\n",
       "    <tr>\n",
       "      <th>2486</th>\n",
       "      <td>522.158082</td>\n",
       "      <td>522.158082</td>\n",
       "      <td>kw_etcif</td>\n",
       "    </tr>\n",
       "    <tr>\n",
       "      <th>2485</th>\n",
       "      <td>522.154627</td>\n",
       "      <td>522.154627</td>\n",
       "      <td>kw_flatflles</td>\n",
       "    </tr>\n",
       "    <tr>\n",
       "      <th>2484</th>\n",
       "      <td>522.150941</td>\n",
       "      <td>522.150941</td>\n",
       "      <td>kw_ssolid</td>\n",
       "    </tr>\n",
       "    <tr>\n",
       "      <th>2483</th>\n",
       "      <td>522.147049</td>\n",
       "      <td>522.147049</td>\n",
       "      <td>kw_noncloud</td>\n",
       "    </tr>\n",
       "    <tr>\n",
       "      <th>2482</th>\n",
       "      <td>522.142976</td>\n",
       "      <td>522.142976</td>\n",
       "      <td>kw_awsetl</td>\n",
       "    </tr>\n",
       "    <tr>\n",
       "      <th>2272</th>\n",
       "      <td>522.142468</td>\n",
       "      <td>522.142468</td>\n",
       "      <td>kw_loading</td>\n",
       "    </tr>\n",
       "    <tr>\n",
       "      <th>2055</th>\n",
       "      <td>522.132151</td>\n",
       "      <td>522.132151</td>\n",
       "      <td>kw_etcexperi</td>\n",
       "    </tr>\n",
       "    <tr>\n",
       "      <th>2009</th>\n",
       "      <td>522.124551</td>\n",
       "      <td>522.124551</td>\n",
       "      <td>kw_retrial</td>\n",
       "    </tr>\n",
       "    <tr>\n",
       "      <th>2003</th>\n",
       "      <td>522.119363</td>\n",
       "      <td>522.119363</td>\n",
       "      <td>kw_bash</td>\n",
       "    </tr>\n",
       "  </tbody>\n",
       "</table>\n",
       "</div>"
      ],
      "text/plain": [
       "             abs  coefficient          feature\n",
       "221   554.469968   554.469968     kw_experienc\n",
       "159   552.156421   552.156421        kw_assist\n",
       "102   532.965970   532.965970           kw_sql\n",
       "2489  522.166852   522.166852  kw_repositories\n",
       "2488  522.164214   522.164214       kw_gateway\n",
       "2487  522.161285   522.161285     kw_powershel\n",
       "2486  522.158082   522.158082         kw_etcif\n",
       "2485  522.154627   522.154627     kw_flatflles\n",
       "2484  522.150941   522.150941        kw_ssolid\n",
       "2483  522.147049   522.147049      kw_noncloud\n",
       "2482  522.142976   522.142976        kw_awsetl\n",
       "2272  522.142468   522.142468       kw_loading\n",
       "2055  522.132151   522.132151     kw_etcexperi\n",
       "2009  522.124551   522.124551       kw_retrial\n",
       "2003  522.119363   522.119363          kw_bash"
      ]
     },
     "execution_count": 162,
     "metadata": {},
     "output_type": "execute_result"
    }
   ],
   "source": [
    "optimalenet.coef_\n",
    "enetcoef = pd.DataFrame({'feature':Xsub.columns, 'coefficient':optimalenet.coef_, 'abs':abs(optimalenet.coef_)})\n",
    "enetcoef.sort_values('coefficient', ascending=False).head(15)"
   ]
  },
  {
   "cell_type": "markdown",
   "metadata": {},
   "source": [
    "The keywords that have the biggest positive impact on predicted mean salary are listed above. Job listings that score highly on \n",
    "the word 'experienced' were more likely to have a higher predicted mean salary than those that don't. ('Scoring highly' in \n",
    "this context means having a higher tf-idf score for this word, that is that the job summary used this word more frequently than \n",
    "other job summaries). Other words such as 'assistants', 'sql' and 'repositories' also \n",
    "predicted higher salary, suggesting that perhaps private and financial sector jobs tend to have higher salaries. Interesting jobs\n",
    "that scored highly for both 'major' and 'small' had higher predicted mean salaries. It is possible context is important in this \n",
    "case, and possibly using ngrams to look at the words in context would be a useful future step. Words that indicate a high-pressure \n",
    "environment like 'multitask', 'demanding' and 'tight' also predicted a higher salary, suggesting that if you want a high paying \n",
    "job, be prepared for stress."
   ]
  },
  {
   "cell_type": "code",
   "execution_count": 207,
   "metadata": {},
   "outputs": [
    {
     "data": {
      "text/html": [
       "<div>\n",
       "<style scoped>\n",
       "    .dataframe tbody tr th:only-of-type {\n",
       "        vertical-align: middle;\n",
       "    }\n",
       "\n",
       "    .dataframe tbody tr th {\n",
       "        vertical-align: top;\n",
       "    }\n",
       "\n",
       "    .dataframe thead th {\n",
       "        text-align: right;\n",
       "    }\n",
       "</style>\n",
       "<table border=\"1\" class=\"dataframe\">\n",
       "  <thead>\n",
       "    <tr style=\"text-align: right;\">\n",
       "      <th></th>\n",
       "      <th>abs</th>\n",
       "      <th>coefficient</th>\n",
       "      <th>feature</th>\n",
       "    </tr>\n",
       "  </thead>\n",
       "  <tbody>\n",
       "    <tr>\n",
       "      <th>2518</th>\n",
       "      <td>4633.625832</td>\n",
       "      <td>-4633.625832</td>\n",
       "      <td>skill_excel</td>\n",
       "    </tr>\n",
       "    <tr>\n",
       "      <th>29</th>\n",
       "      <td>2182.261109</td>\n",
       "      <td>-2182.261109</td>\n",
       "      <td>state_AUS</td>\n",
       "    </tr>\n",
       "    <tr>\n",
       "      <th>47</th>\n",
       "      <td>2153.080304</td>\n",
       "      <td>-2153.080304</td>\n",
       "      <td>kw_research</td>\n",
       "    </tr>\n",
       "    <tr>\n",
       "      <th>30</th>\n",
       "      <td>1998.850935</td>\n",
       "      <td>-1998.850935</td>\n",
       "      <td>state_NSW</td>\n",
       "    </tr>\n",
       "    <tr>\n",
       "      <th>5</th>\n",
       "      <td>1646.395467</td>\n",
       "      <td>-1646.395467</td>\n",
       "      <td>title_research</td>\n",
       "    </tr>\n",
       "    <tr>\n",
       "      <th>28</th>\n",
       "      <td>1625.152561</td>\n",
       "      <td>-1625.152561</td>\n",
       "      <td>state_ACT</td>\n",
       "    </tr>\n",
       "    <tr>\n",
       "      <th>2516</th>\n",
       "      <td>1455.842055</td>\n",
       "      <td>-1455.842055</td>\n",
       "      <td>skill_tableau</td>\n",
       "    </tr>\n",
       "    <tr>\n",
       "      <th>27</th>\n",
       "      <td>1427.568727</td>\n",
       "      <td>-1427.568727</td>\n",
       "      <td>title_intelligence</td>\n",
       "    </tr>\n",
       "    <tr>\n",
       "      <th>2520</th>\n",
       "      <td>1299.130593</td>\n",
       "      <td>-1299.130593</td>\n",
       "      <td>skill_spss</td>\n",
       "    </tr>\n",
       "    <tr>\n",
       "      <th>191</th>\n",
       "      <td>1269.521790</td>\n",
       "      <td>-1269.521790</td>\n",
       "      <td>kw_secur</td>\n",
       "    </tr>\n",
       "    <tr>\n",
       "      <th>2</th>\n",
       "      <td>1220.368153</td>\n",
       "      <td>-1220.368153</td>\n",
       "      <td>title_senior</td>\n",
       "    </tr>\n",
       "    <tr>\n",
       "      <th>788</th>\n",
       "      <td>1138.268473</td>\n",
       "      <td>-1138.268473</td>\n",
       "      <td>kw_geospati</td>\n",
       "    </tr>\n",
       "    <tr>\n",
       "      <th>0</th>\n",
       "      <td>1114.197539</td>\n",
       "      <td>-1114.197539</td>\n",
       "      <td>title_analyst</td>\n",
       "    </tr>\n",
       "    <tr>\n",
       "      <th>33</th>\n",
       "      <td>1052.411664</td>\n",
       "      <td>-1052.411664</td>\n",
       "      <td>state_SA</td>\n",
       "    </tr>\n",
       "    <tr>\n",
       "      <th>18</th>\n",
       "      <td>937.288713</td>\n",
       "      <td>-937.288713</td>\n",
       "      <td>title_graduate</td>\n",
       "    </tr>\n",
       "  </tbody>\n",
       "</table>\n",
       "</div>"
      ],
      "text/plain": [
       "              abs  coefficient             feature\n",
       "2518  4633.625832 -4633.625832         skill_excel\n",
       "29    2182.261109 -2182.261109           state_AUS\n",
       "47    2153.080304 -2153.080304         kw_research\n",
       "30    1998.850935 -1998.850935           state_NSW\n",
       "5     1646.395467 -1646.395467      title_research\n",
       "28    1625.152561 -1625.152561           state_ACT\n",
       "2516  1455.842055 -1455.842055       skill_tableau\n",
       "27    1427.568727 -1427.568727  title_intelligence\n",
       "2520  1299.130593 -1299.130593          skill_spss\n",
       "191   1269.521790 -1269.521790            kw_secur\n",
       "2     1220.368153 -1220.368153        title_senior\n",
       "788   1138.268473 -1138.268473         kw_geospati\n",
       "0     1114.197539 -1114.197539       title_analyst\n",
       "33    1052.411664 -1052.411664            state_SA\n",
       "18     937.288713  -937.288713      title_graduate"
      ]
     },
     "execution_count": 207,
     "metadata": {},
     "output_type": "execute_result"
    }
   ],
   "source": [
    "enetcoef.sort_values('coefficient', ascending=True).head(15)"
   ]
  },
  {
   "cell_type": "markdown",
   "metadata": {},
   "source": [
    "As for those keywords that had a negative impact on predicted salary, a few noticeable trends are present. Understandably, the \n",
    "word 'analyst' in both the summary and the job title predicted a lower salary. Amusingly, so did the words 'blue' and 'chip', \n",
    "suggesting that companies that self describe as 'blue chip' are perhaps not likely to pay as well. Disappointingly but in no way\n",
    "surprisingly, the keyword 'research' also predicted a lower mean salary, suggesting that research roles are not the most \n",
    "lucrative way to go in the data industry. It appears also that shorter-term contract work also negatively impacts predicted \n",
    "salary, with words like 'intelligence', 'senior' and 'graduate' all being negative predictors as well."
   ]
  },
  {
   "cell_type": "markdown",
   "metadata": {},
   "source": [
    "# 3.4.9 Does it make more sense to binarize the data?"
   ]
  },
  {
   "cell_type": "markdown",
   "metadata": {},
   "source": [
    "Would it make more sense to just look for the presence of a word in the title/summary, regardless of how many times it appears? \n",
    "For example, specific skills might be important but only be mentioned once in the summary. Taking the tf-idf scores may be \n",
    "masking the importance of one-off words."
   ]
  },
  {
   "cell_type": "code",
   "execution_count": 208,
   "metadata": {},
   "outputs": [],
   "source": [
    "def binarizer(x):\n",
    "    if x > 0:\n",
    "        v = 1\n",
    "    else:\n",
    "        v = 0\n",
    "    return v"
   ]
  },
  {
   "cell_type": "code",
   "execution_count": 209,
   "metadata": {},
   "outputs": [],
   "source": [
    "Xbin = pd.DataFrame([X[column].apply(binarizer) for column in X.columns]).transpose()"
   ]
  },
  {
   "cell_type": "code",
   "execution_count": 210,
   "metadata": {},
   "outputs": [],
   "source": [
    "Xbin_train, Xbin_test, y_train, y_test = train_test_split(Xsub, y, test_size=0.5, random_state=11)"
   ]
  },
  {
   "cell_type": "code",
   "execution_count": 211,
   "metadata": {},
   "outputs": [
    {
     "data": {
      "text/plain": [
       "ElasticNet(alpha=0.011630585780071746, copy_X=True, fit_intercept=True,\n",
       "      l1_ratio=0.051250000000000004, max_iter=1000, normalize=False,\n",
       "      positive=False, precompute=False, random_state=None,\n",
       "      selection='cyclic', tol=0.0001, warm_start=False)"
      ]
     },
     "execution_count": 211,
     "metadata": {},
     "output_type": "execute_result"
    }
   ],
   "source": [
    "l1_ratios = np.linspace(0.01, 1.0, 25)\n",
    "elasticnet = ElasticNetCV(l1_ratio = l1_ratios,n_alphas = 200, cv=10)\n",
    "elasticnet.fit(Xbin_train,y_train)\n",
    "optimalenet = ElasticNet(alpha = elasticnet.alpha_, l1_ratio = elasticnet.l1_ratio_)\n",
    "optimalenet.fit(Xbin_train, y_train)"
   ]
  },
  {
   "cell_type": "code",
   "execution_count": 212,
   "metadata": {},
   "outputs": [
    {
     "name": "stdout",
     "output_type": "stream",
     "text": [
      "train r2:  0.8831541025107928\n",
      "test r2:  0.04410890650104127\n"
     ]
    }
   ],
   "source": [
    "print('train r2: ', get_r2(optimalenet, Xbin_train, y_train))\n",
    "print('test r2: ', get_r2(optimalenet,Xbin_test, y_test))"
   ]
  },
  {
   "cell_type": "markdown",
   "metadata": {},
   "source": [
    "In terms of $r^2$ score, binarizing the data does not improve the performance of the model."
   ]
  },
  {
   "cell_type": "code",
   "execution_count": 213,
   "metadata": {},
   "outputs": [
    {
     "data": {
      "text/html": [
       "<div>\n",
       "<style scoped>\n",
       "    .dataframe tbody tr th:only-of-type {\n",
       "        vertical-align: middle;\n",
       "    }\n",
       "\n",
       "    .dataframe tbody tr th {\n",
       "        vertical-align: top;\n",
       "    }\n",
       "\n",
       "    .dataframe thead th {\n",
       "        text-align: right;\n",
       "    }\n",
       "</style>\n",
       "<table border=\"1\" class=\"dataframe\">\n",
       "  <thead>\n",
       "    <tr style=\"text-align: right;\">\n",
       "      <th></th>\n",
       "      <th>abs</th>\n",
       "      <th>coefficient</th>\n",
       "      <th>feature</th>\n",
       "    </tr>\n",
       "  </thead>\n",
       "  <tbody>\n",
       "    <tr>\n",
       "      <th>2513</th>\n",
       "      <td>0.889751</td>\n",
       "      <td>0.889751</td>\n",
       "      <td>skill_python</td>\n",
       "    </tr>\n",
       "    <tr>\n",
       "      <th>31</th>\n",
       "      <td>0.537187</td>\n",
       "      <td>0.537187</td>\n",
       "      <td>state_NT</td>\n",
       "    </tr>\n",
       "    <tr>\n",
       "      <th>8</th>\n",
       "      <td>0.528823</td>\n",
       "      <td>0.528823</td>\n",
       "      <td>title_learning</td>\n",
       "    </tr>\n",
       "    <tr>\n",
       "      <th>32</th>\n",
       "      <td>0.461811</td>\n",
       "      <td>0.461811</td>\n",
       "      <td>state_QLD</td>\n",
       "    </tr>\n",
       "    <tr>\n",
       "      <th>28</th>\n",
       "      <td>0.432492</td>\n",
       "      <td>-0.432492</td>\n",
       "      <td>state_ACT</td>\n",
       "    </tr>\n",
       "    <tr>\n",
       "      <th>4</th>\n",
       "      <td>0.425282</td>\n",
       "      <td>0.425282</td>\n",
       "      <td>title_business</td>\n",
       "    </tr>\n",
       "    <tr>\n",
       "      <th>1158</th>\n",
       "      <td>0.399334</td>\n",
       "      <td>0.399334</td>\n",
       "      <td>kw_blockchain</td>\n",
       "    </tr>\n",
       "    <tr>\n",
       "      <th>5</th>\n",
       "      <td>0.373673</td>\n",
       "      <td>-0.373673</td>\n",
       "      <td>title_research</td>\n",
       "    </tr>\n",
       "    <tr>\n",
       "      <th>47</th>\n",
       "      <td>0.369103</td>\n",
       "      <td>-0.369103</td>\n",
       "      <td>kw_research</td>\n",
       "    </tr>\n",
       "    <tr>\n",
       "      <th>2520</th>\n",
       "      <td>0.331513</td>\n",
       "      <td>-0.331513</td>\n",
       "      <td>skill_spss</td>\n",
       "    </tr>\n",
       "    <tr>\n",
       "      <th>2519</th>\n",
       "      <td>0.327307</td>\n",
       "      <td>-0.327307</td>\n",
       "      <td>skill_sas</td>\n",
       "    </tr>\n",
       "    <tr>\n",
       "      <th>3</th>\n",
       "      <td>0.326271</td>\n",
       "      <td>-0.326271</td>\n",
       "      <td>title_engineer</td>\n",
       "    </tr>\n",
       "    <tr>\n",
       "      <th>27</th>\n",
       "      <td>0.305205</td>\n",
       "      <td>-0.305205</td>\n",
       "      <td>title_intelligence</td>\n",
       "    </tr>\n",
       "    <tr>\n",
       "      <th>788</th>\n",
       "      <td>0.292004</td>\n",
       "      <td>-0.292004</td>\n",
       "      <td>kw_geospati</td>\n",
       "    </tr>\n",
       "    <tr>\n",
       "      <th>11</th>\n",
       "      <td>0.289266</td>\n",
       "      <td>0.289266</td>\n",
       "      <td>title_product</td>\n",
       "    </tr>\n",
       "    <tr>\n",
       "      <th>16</th>\n",
       "      <td>0.279732</td>\n",
       "      <td>-0.279732</td>\n",
       "      <td>title_reporting</td>\n",
       "    </tr>\n",
       "    <tr>\n",
       "      <th>18</th>\n",
       "      <td>0.275348</td>\n",
       "      <td>-0.275348</td>\n",
       "      <td>title_graduate</td>\n",
       "    </tr>\n",
       "    <tr>\n",
       "      <th>33</th>\n",
       "      <td>0.267688</td>\n",
       "      <td>-0.267688</td>\n",
       "      <td>state_SA</td>\n",
       "    </tr>\n",
       "    <tr>\n",
       "      <th>21</th>\n",
       "      <td>0.259002</td>\n",
       "      <td>-0.259002</td>\n",
       "      <td>title_manager</td>\n",
       "    </tr>\n",
       "    <tr>\n",
       "      <th>45</th>\n",
       "      <td>0.234404</td>\n",
       "      <td>0.234404</td>\n",
       "      <td>kw_product</td>\n",
       "    </tr>\n",
       "  </tbody>\n",
       "</table>\n",
       "</div>"
      ],
      "text/plain": [
       "           abs  coefficient             feature\n",
       "2513  0.889751     0.889751        skill_python\n",
       "31    0.537187     0.537187            state_NT\n",
       "8     0.528823     0.528823      title_learning\n",
       "32    0.461811     0.461811           state_QLD\n",
       "28    0.432492    -0.432492           state_ACT\n",
       "4     0.425282     0.425282      title_business\n",
       "1158  0.399334     0.399334       kw_blockchain\n",
       "5     0.373673    -0.373673      title_research\n",
       "47    0.369103    -0.369103         kw_research\n",
       "2520  0.331513    -0.331513          skill_spss\n",
       "2519  0.327307    -0.327307           skill_sas\n",
       "3     0.326271    -0.326271      title_engineer\n",
       "27    0.305205    -0.305205  title_intelligence\n",
       "788   0.292004    -0.292004         kw_geospati\n",
       "11    0.289266     0.289266       title_product\n",
       "16    0.279732    -0.279732     title_reporting\n",
       "18    0.275348    -0.275348      title_graduate\n",
       "33    0.267688    -0.267688            state_SA\n",
       "21    0.259002    -0.259002       title_manager\n",
       "45    0.234404     0.234404          kw_product"
      ]
     },
     "execution_count": 213,
     "metadata": {},
     "output_type": "execute_result"
    }
   ],
   "source": [
    "optimalenet.coef_\n",
    "enetcoef = pd.DataFrame({'feature':Xsub.columns, 'coefficient':optimalenet.coef_, 'abs':abs(optimalenet.coef_)})\n",
    "enetcoef.sort_values('abs', ascending=False).head(20)"
   ]
  },
  {
   "cell_type": "markdown",
   "metadata": {},
   "source": [
    "Overall, binarizing the data led to a model that does much better in terms of overfitting to the training data, but its overall \n",
    "performance is worse. Oddly, the only two features that impacted the prediction were being in the state NSW and listing python \n",
    "as a desired skill. Apparently this model predicts that if a job is in NSW and requires python skills, it's much more likely to \n",
    "pay well."
   ]
  },
  {
   "cell_type": "markdown",
   "metadata": {},
   "source": [
    "# 3.5 Classification modelling"
   ]
  },
  {
   "cell_type": "markdown",
   "metadata": {},
   "source": [
    "Regression modelling led to some interesting observations, but I had some doubts about the efficacy of the model. Given the \n",
    "discontinuous distribution of the salary data, is it easier to predict salary if we define three categories: low, medium and high?"
   ]
  },
  {
   "cell_type": "code",
   "execution_count": 170,
   "metadata": {},
   "outputs": [],
   "source": [
    "#Create a function to classify salary as high (2), medium (1) or low (0)\n",
    "def salary_classifier(salary):\n",
    "    if salary > 120000:\n",
    "        c = 2\n",
    "    elif salary > 80000:\n",
    "        c = 1\n",
    "    else:\n",
    "        c = 0\n",
    "    return c"
   ]
  },
  {
   "cell_type": "code",
   "execution_count": 171,
   "metadata": {},
   "outputs": [
    {
     "name": "stderr",
     "output_type": "stream",
     "text": [
      "C:\\Users\\sreej\\Anaconda3\\lib\\site-packages\\ipykernel_launcher.py:2: SettingWithCopyWarning: \n",
      "A value is trying to be set on a copy of a slice from a DataFrame.\n",
      "Try using .loc[row_indexer,col_indexer] = value instead\n",
      "\n",
      "See the caveats in the documentation: http://pandas.pydata.org/pandas-docs/stable/indexing.html#indexing-view-versus-copy\n",
      "  \n"
     ]
    }
   ],
   "source": [
    "#Create a new column by applying this function to the mean salary column\n",
    "jobs_subset['salary_class'] = jobs_subset['salary_mean'].apply(salary_classifier)"
   ]
  },
  {
   "cell_type": "code",
   "execution_count": 172,
   "metadata": {},
   "outputs": [
    {
     "data": {
      "text/plain": [
       "1    45\n",
       "2    32\n",
       "0    21\n",
       "Name: salary_class, dtype: int64"
      ]
     },
     "execution_count": 172,
     "metadata": {},
     "output_type": "execute_result"
    }
   ],
   "source": [
    "#Are the classes balanced?\n",
    "jobs_subset['salary_class'].value_counts()"
   ]
  },
  {
   "cell_type": "code",
   "execution_count": 173,
   "metadata": {},
   "outputs": [
    {
     "data": {
      "text/plain": [
       "0.45918367346938777"
      ]
     },
     "execution_count": 173,
     "metadata": {},
     "output_type": "execute_result"
    }
   ],
   "source": [
    "#What's the baseline accuracy?\n",
    "baseline = len(jobs_subset[jobs_subset['salary_class'] == 1]) / len(jobs_subset['salary_class'])\n",
    "baseline"
   ]
  },
  {
   "cell_type": "markdown",
   "metadata": {},
   "source": [
    "# 3.5.1 Define variables for classification"
   ]
  },
  {
   "cell_type": "code",
   "execution_count": 214,
   "metadata": {},
   "outputs": [],
   "source": [
    "#Define new predictor variable\n",
    "y = jobs_subset['salary_class']"
   ]
  },
  {
   "cell_type": "code",
   "execution_count": 215,
   "metadata": {},
   "outputs": [],
   "source": [
    "#Create train/test split\n",
    "X_train, X_test, y_train, y_test = train_test_split(X, y, test_size = 0.5, random_state = 11, stratify=jobs_subset['salary_class'])"
   ]
  },
  {
   "cell_type": "code",
   "execution_count": 216,
   "metadata": {},
   "outputs": [],
   "source": [
    "#Standardise X_train/X_test\n",
    "ss = StandardScaler()\n",
    "X_train = ss.fit_transform(X_train)\n",
    "X_test = ss.transform(X_test)"
   ]
  },
  {
   "cell_type": "markdown",
   "metadata": {},
   "source": [
    "# 3.5.2 Classification with K-nearest neighbors"
   ]
  },
  {
   "cell_type": "code",
   "execution_count": 217,
   "metadata": {},
   "outputs": [
    {
     "data": {
      "text/plain": [
       "GridSearchCV(cv=5, error_score='raise',\n",
       "       estimator=KNeighborsClassifier(algorithm='auto', leaf_size=30, metric='minkowski',\n",
       "           metric_params=None, n_jobs=1, n_neighbors=5, p=2,\n",
       "           weights='uniform'),\n",
       "       fit_params=None, iid=True, n_jobs=1,\n",
       "       param_grid={'n_neighbors': [1, 3, 5, 9, 15, 18, 21, 25], 'weights': ['uniform', 'distance'], 'metric': ['euclidean', 'manhattan']},\n",
       "       pre_dispatch='2*n_jobs', refit=True, return_train_score='warn',\n",
       "       scoring=None, verbose=0)"
      ]
     },
     "execution_count": 217,
     "metadata": {},
     "output_type": "execute_result"
    }
   ],
   "source": [
    "#Conduct a GridSearch to find optimal hyperparameters for KNN\n",
    "knn_params = {'n_neighbors':[1,3,5,9,15,18,21,25],\n",
    "             'weights':['uniform','distance'],\n",
    "             'metric':['euclidean','manhattan']}\n",
    "knn_gs = GridSearchCV(KNeighborsClassifier(), knn_params, cv=5)\n",
    "knn_gs.fit(X_train, y_train)"
   ]
  },
  {
   "cell_type": "code",
   "execution_count": 218,
   "metadata": {},
   "outputs": [
    {
     "name": "stdout",
     "output_type": "stream",
     "text": [
      "{'metric': 'euclidean', 'n_neighbors': 15, 'weights': 'distance'}\n"
     ]
    }
   ],
   "source": [
    "#Fit a K-nearest neighbours model\n",
    "knn = knn_gs.best_estimator_\n",
    "print(knn_gs.best_params_)"
   ]
  },
  {
   "cell_type": "code",
   "execution_count": 219,
   "metadata": {},
   "outputs": [
    {
     "name": "stdout",
     "output_type": "stream",
     "text": [
      "model accuracy:  0.5306122448979592\n",
      "baseline accuracy:  0.45918367346938777\n"
     ]
    }
   ],
   "source": [
    "#Compare knn model accuracy to baseline\n",
    "knn_pred = knn.predict(X_test)\n",
    "knn_score = knn.score(X_test, y_test)\n",
    "print('model accuracy: ', knn.score(X_test, y_test))\n",
    "print('baseline accuracy: ', baseline)"
   ]
  },
  {
   "cell_type": "code",
   "execution_count": 220,
   "metadata": {},
   "outputs": [
    {
     "data": {
      "text/plain": [
       "<matplotlib.axes._subplots.AxesSubplot at 0x23b4693c860>"
      ]
     },
     "execution_count": 220,
     "metadata": {},
     "output_type": "execute_result"
    },
    {
     "data": {
      "image/png": "[encoded data removed]",
      "text/plain": [
       "<matplotlib.figure.Figure at 0x23b460e6278>"
      ]
     },
     "metadata": {},
     "output_type": "display_data"
    }
   ],
   "source": [
    "cm1 = confusion_matrix(y_test, knn_pred)\n",
    "sns.heatmap(cm1, annot=True, fmt = '.1f', cmap = 'Blues', vmax = 30, vmin = 0, \n",
    "            xticklabels = ['Predicted Low','Predicted Medium','Predicted High'], \n",
    "            yticklabels = ['Actual Low', 'Actual Medium', 'Actual High'])"
   ]
  },
  {
   "cell_type": "markdown",
   "metadata": {},
   "source": [
    "The KNN model accuracy is slightly better than baseline."
   ]
  },
  {
   "cell_type": "markdown",
   "metadata": {},
   "source": [
    "# 3.5.3 Classification with support vector machine"
   ]
  },
  {
   "cell_type": "code",
   "execution_count": 225,
   "metadata": {},
   "outputs": [
    {
     "data": {
      "text/plain": [
       "GridSearchCV(cv=5, error_score='raise',\n",
       "       estimator=SVC(C=1.0, cache_size=200, class_weight=None, coef0=0.0,\n",
       "  decision_function_shape='ovr', degree=3, gamma='auto', kernel='rbf',\n",
       "  max_iter=-1, probability=False, random_state=None, shrinking=True,\n",
       "  tol=0.001, verbose=False),\n",
       "       fit_params=None, iid=True, n_jobs=1,\n",
       "       param_grid={'gamma': array([1.00000e-05, 2.33572e-05, 5.45559e-05, 1.27427e-04, 2.97635e-04,\n",
       "       6.95193e-04, 1.62378e-03, 3.79269e-03, 8.85867e-03, 2.06914e-02,\n",
       "       4.83293e-02, 1.12884e-01, 2.63665e-01, 6.15848e-01, 1.43845e+00,\n",
       "       3.35982e+00, 7.84760e+00, 1.83298e+01, 4.28133e+01, 1.00....15443e+00, 7.74264e+00, 2.78256e+01, 1.00000e+02]), 'kernel': ['rbf', 'sigmoid', 'linear', 'poly']},\n",
       "       pre_dispatch='2*n_jobs', refit=True, return_train_score='warn',\n",
       "       scoring='accuracy', verbose=0)"
      ]
     },
     "execution_count": 225,
     "metadata": {},
     "output_type": "execute_result"
    }
   ],
   "source": [
    "#Gridsearch for optimal hyperparameters\n",
    "svm = SVC()\n",
    "gammas = np.logspace(-5, 2, 20)\n",
    "Cs = np.logspace(-3, 2, 10)\n",
    "kernels = ['rbf', 'sigmoid', 'linear', 'poly']\n",
    "params = dict(gamma=gammas, C=Cs, kernel=kernels)\n",
    "svm_gs = GridSearchCV(svm, params, cv=5, scoring='accuracy')\n",
    "svm_gs.fit(X_train, y_train)"
   ]
  },
  {
   "cell_type": "code",
   "execution_count": 226,
   "metadata": {},
   "outputs": [
    {
     "name": "stdout",
     "output_type": "stream",
     "text": [
      "{'C': 7.742636826811277, 'gamma': 1.438449888287663, 'kernel': 'sigmoid'}\n"
     ]
    }
   ],
   "source": [
    "svm_best = svm_gs.best_estimator_\n",
    "print(svm_gs.best_params_)"
   ]
  },
  {
   "cell_type": "code",
   "execution_count": 227,
   "metadata": {},
   "outputs": [
    {
     "name": "stdout",
     "output_type": "stream",
     "text": [
      "model accuracy:  0.3469387755102041\n",
      "baseline accuracy:  0.45918367346938777\n"
     ]
    }
   ],
   "source": [
    "svm_pred = svm_best.predict(X_test)\n",
    "svm_score = svm_best.score(X_test, y_test)\n",
    "print('model accuracy: ', svm_best.score(X_test, y_test))\n",
    "print('baseline accuracy: ', baseline)"
   ]
  },
  {
   "cell_type": "code",
   "execution_count": 228,
   "metadata": {},
   "outputs": [
    {
     "data": {
      "text/plain": [
       "<matplotlib.axes._subplots.AxesSubplot at 0x23b3d629eb8>"
      ]
     },
     "execution_count": 228,
     "metadata": {},
     "output_type": "execute_result"
    },
    {
     "data": {
      "image/png": "[encoded data removed]",
      "text/plain": [
       "<matplotlib.figure.Figure at 0x23b3b928f98>"
      ]
     },
     "metadata": {},
     "output_type": "display_data"
    }
   ],
   "source": [
    "cm1 = confusion_matrix(y_test, svm_pred)\n",
    "sns.heatmap(cm1, annot=True, fmt = '.1f', cmap = 'Blues', vmax = 30, vmin = 0, \n",
    "            xticklabels = ['Predicted Low','Predicted Medium','Predicted High'], \n",
    "            yticklabels = ['Actual Low', 'Actual Medium', 'Actual High'])"
   ]
  },
  {
   "cell_type": "markdown",
   "metadata": {},
   "source": [
    "# 3.5.4 Classification with decision trees"
   ]
  },
  {
   "cell_type": "code",
   "execution_count": 229,
   "metadata": {},
   "outputs": [
    {
     "data": {
      "text/plain": [
       "GridSearchCV(cv=5, error_score='raise',\n",
       "       estimator=DecisionTreeClassifier(class_weight=None, criterion='gini', max_depth=None,\n",
       "            max_features=None, max_leaf_nodes=None,\n",
       "            min_impurity_decrease=0.0, min_impurity_split=None,\n",
       "            min_samples_leaf=1, min_samples_split=2,\n",
       "            min_weight_fraction_leaf=0.0, presort=False, random_state=None,\n",
       "            splitter='best'),\n",
       "       fit_params=None, iid=True, n_jobs=1,\n",
       "       param_grid={'max_depth': [3, 4, 5], 'max_leaf_nodes': [2, 3, 4], 'min_samples_split': [2, 3, 4, 5, 10, 15, 25], 'max_features': [5, 10, 50, 100, 500]},\n",
       "       pre_dispatch='2*n_jobs', refit=True, return_train_score='warn',\n",
       "       scoring=None, verbose=0)"
      ]
     },
     "execution_count": 229,
     "metadata": {},
     "output_type": "execute_result"
    }
   ],
   "source": [
    "#Gridsearch again for hyperparameters\n",
    "params = {'max_depth':[3,4,5],\n",
    "         'max_leaf_nodes':[2,3,4],\n",
    "         'min_samples_split':[2,3,4,5,10,15,25],\n",
    "         'max_features':[5,10,50,100,500]}\n",
    "dtc_gs = GridSearchCV(DecisionTreeClassifier(), params, cv=5)\n",
    "dtc_gs.fit(X_train, y_train)"
   ]
  },
  {
   "cell_type": "code",
   "execution_count": 230,
   "metadata": {},
   "outputs": [
    {
     "name": "stdout",
     "output_type": "stream",
     "text": [
      "{'max_depth': 3, 'max_features': 100, 'max_leaf_nodes': 4, 'min_samples_split': 3}\n"
     ]
    }
   ],
   "source": [
    "dtc = dtc_gs.best_estimator_\n",
    "print(dtc_gs.best_params_)"
   ]
  },
  {
   "cell_type": "code",
   "execution_count": 231,
   "metadata": {},
   "outputs": [
    {
     "name": "stdout",
     "output_type": "stream",
     "text": [
      "model accuracy:  0.46938775510204084\n",
      "baseline accuracy:  0.45918367346938777\n"
     ]
    }
   ],
   "source": [
    "dtc_pred = dtc.predict(X_test)\n",
    "dtc_score = dtc.score(X_test, y_test)\n",
    "print('model accuracy: ', dtc.score(X_test, y_test))\n",
    "print('baseline accuracy: ', baseline)"
   ]
  },
  {
   "cell_type": "code",
   "execution_count": 232,
   "metadata": {},
   "outputs": [
    {
     "data": {
      "text/plain": [
       "<matplotlib.axes._subplots.AxesSubplot at 0x23b3d5f8e10>"
      ]
     },
     "execution_count": 232,
     "metadata": {},
     "output_type": "execute_result"
    },
    {
     "data": {
      "image/png": "[encoded data removed]",
      "text/plain": [
       "<matplotlib.figure.Figure at 0x23b3d5f8128>"
      ]
     },
     "metadata": {},
     "output_type": "display_data"
    }
   ],
   "source": [
    "cm1 = confusion_matrix(y_test, dtc_pred)\n",
    "sns.heatmap(cm1, annot=True, fmt = '.1f', cmap = 'Blues', vmax = 30, vmin = 0, \n",
    "            xticklabels = ['Predicted Low','Predicted Medium','Predicted High'], \n",
    "            yticklabels = ['Actual Low', 'Actual Medium', 'Actual High'])"
   ]
  },
  {
   "cell_type": "code",
   "execution_count": 233,
   "metadata": {},
   "outputs": [
    {
     "data": {
      "text/plain": [
       "BaggingClassifier(base_estimator=DecisionTreeClassifier(class_weight=None, criterion='gini', max_depth=3,\n",
       "            max_features=100, max_leaf_nodes=4, min_impurity_decrease=0.0,\n",
       "            min_impurity_split=None, min_samples_leaf=1,\n",
       "            min_samples_split=3, min_weight_fraction_leaf=0.0,\n",
       "            presort=False, random_state=None, splitter='best'),\n",
       "         bootstrap=True, bootstrap_features=False, max_features=1.0,\n",
       "         max_samples=1.0, n_estimators=10, n_jobs=1, oob_score=False,\n",
       "         random_state=5, verbose=0, warm_start=False)"
      ]
     },
     "execution_count": 233,
     "metadata": {},
     "output_type": "execute_result"
    }
   ],
   "source": [
    "#With bagging\n",
    "bag = BaggingClassifier(dtc, max_samples=1.0,random_state=5)\n",
    "bag.fit(X_train, y_train)"
   ]
  },
  {
   "cell_type": "code",
   "execution_count": 234,
   "metadata": {},
   "outputs": [
    {
     "name": "stdout",
     "output_type": "stream",
     "text": [
      "model accuracy:  0.5102040816326531\n",
      "baseline accuracy:  0.45918367346938777\n"
     ]
    }
   ],
   "source": [
    "bag_pred = bag.predict(X_test)\n",
    "bag_score = bag.score(X_test, y_test)\n",
    "print('model accuracy: ', bag.score(X_test, y_test))\n",
    "print('baseline accuracy: ', baseline)"
   ]
  },
  {
   "cell_type": "code",
   "execution_count": 235,
   "metadata": {},
   "outputs": [
    {
     "name": "stdout",
     "output_type": "stream",
     "text": [
      "             precision    recall  f1-score   support\n",
      "\n",
      "          0       0.00      0.00      0.00        10\n",
      "          1       0.51      0.91      0.66        23\n",
      "          2       0.50      0.25      0.33        16\n",
      "\n",
      "avg / total       0.40      0.51      0.42        49\n",
      "\n"
     ]
    },
    {
     "name": "stderr",
     "output_type": "stream",
     "text": [
      "C:\\Users\\sreej\\Anaconda3\\lib\\site-packages\\sklearn\\metrics\\classification.py:1135: UndefinedMetricWarning: Precision and F-score are ill-defined and being set to 0.0 in labels with no predicted samples.\n",
      "  'precision', 'predicted', average, warn_for)\n"
     ]
    },
    {
     "data": {
      "image/png": "[encoded data removed]",
      "text/plain": [
       "<matplotlib.figure.Figure at 0x23b3d618ac8>"
      ]
     },
     "metadata": {},
     "output_type": "display_data"
    }
   ],
   "source": [
    "cm1 = confusion_matrix(y_test, bag_pred)\n",
    "sns.heatmap(cm1, annot=True, fmt = '.1f', cmap = 'Blues', vmax = 30, vmin = 0, \n",
    "            xticklabels = ['Predicted Low','Predicted Medium','Predicted High'], \n",
    "            yticklabels = ['Actual Low', 'Actual Medium', 'Actual High'])\n",
    "print(classification_report(y_test,bag_pred))"
   ]
  },
  {
   "cell_type": "code",
   "execution_count": 236,
   "metadata": {},
   "outputs": [
    {
     "name": "stdout",
     "output_type": "stream",
     "text": [
      "{'max_features': 50, 'min_samples_leaf': 5, 'min_samples_split': 2, 'n_estimators': 30}\n"
     ]
    }
   ],
   "source": [
    "rf_params = {'n_estimators': [5,10,15,30,50],\n",
    "            'max_features':[5,20,50,100,250,500],\n",
    "            'min_samples_leaf':[1,5,10],\n",
    "            'min_samples_split':[2,5,20,25]\n",
    "            }\n",
    "\n",
    "rf_gs = GridSearchCV(RandomForestClassifier(), rf_params, cv=5)\n",
    "rf_gs.fit(X_train, y_train)\n",
    "rf = rf_gs.best_estimator_\n",
    "print(rf_gs.best_params_)"
   ]
  },
  {
   "cell_type": "code",
   "execution_count": 237,
   "metadata": {},
   "outputs": [
    {
     "name": "stdout",
     "output_type": "stream",
     "text": [
      "model accuracy:  0.4897959183673469\n",
      "baseline accuracy:  0.45918367346938777\n"
     ]
    }
   ],
   "source": [
    "rf_pred = rf.predict(X_test)\n",
    "rf_score = rf.score(X_test, y_test)\n",
    "print('model accuracy: ', rf.score(X_test, y_test))\n",
    "print('baseline accuracy: ', baseline)"
   ]
  },
  {
   "cell_type": "code",
   "execution_count": 238,
   "metadata": {},
   "outputs": [
    {
     "name": "stdout",
     "output_type": "stream",
     "text": [
      "             precision    recall  f1-score   support\n",
      "\n",
      "          0       0.00      0.00      0.00        10\n",
      "          1       0.49      0.87      0.62        23\n",
      "          2       0.50      0.25      0.33        16\n",
      "\n",
      "avg / total       0.39      0.49      0.40        49\n",
      "\n"
     ]
    },
    {
     "name": "stderr",
     "output_type": "stream",
     "text": [
      "C:\\Users\\sreej\\Anaconda3\\lib\\site-packages\\sklearn\\metrics\\classification.py:1135: UndefinedMetricWarning: Precision and F-score are ill-defined and being set to 0.0 in labels with no predicted samples.\n",
      "  'precision', 'predicted', average, warn_for)\n"
     ]
    },
    {
     "data": {
      "image/png": "[encoded data removed]",
      "text/plain": [
       "<matplotlib.figure.Figure at 0x23b3d66bf60>"
      ]
     },
     "metadata": {},
     "output_type": "display_data"
    }
   ],
   "source": [
    "cm1 = confusion_matrix(y_test, rf_pred)\n",
    "sns.heatmap(cm1, annot=True, fmt = '.1f', cmap = 'Blues', vmax = 30, vmin = 0, \n",
    "            xticklabels = ['Predicted Low','Predicted Medium','Predicted High'], \n",
    "            yticklabels = ['Actual Low', 'Actual Medium', 'Actual High'])\n",
    "print(classification_report(y_test,rf_pred))"
   ]
  },
  {
   "cell_type": "markdown",
   "metadata": {},
   "source": [
    "# 3.5.5 Classification model summary"
   ]
  },
  {
   "cell_type": "code",
   "execution_count": 239,
   "metadata": {},
   "outputs": [],
   "source": [
    "models = ['KNN','SVM','DecisionTree','Bagging','RandomForest','Baseline']\n",
    "accuracy = [knn_score, svm_score, dtc_score, bag_score,rf_score, baseline]\n",
    "class_summary = pd.DataFrame({'Model':models, 'Accuracy':accuracy})\n",
    "class_summary = class_summary.set_index('Model')"
   ]
  },
  {
   "cell_type": "code",
   "execution_count": 240,
   "metadata": {},
   "outputs": [
    {
     "data": {
      "text/html": [
       "<div>\n",
       "<style scoped>\n",
       "    .dataframe tbody tr th:only-of-type {\n",
       "        vertical-align: middle;\n",
       "    }\n",
       "\n",
       "    .dataframe tbody tr th {\n",
       "        vertical-align: top;\n",
       "    }\n",
       "\n",
       "    .dataframe thead th {\n",
       "        text-align: right;\n",
       "    }\n",
       "</style>\n",
       "<table border=\"1\" class=\"dataframe\">\n",
       "  <thead>\n",
       "    <tr style=\"text-align: right;\">\n",
       "      <th></th>\n",
       "      <th>Accuracy</th>\n",
       "    </tr>\n",
       "    <tr>\n",
       "      <th>Model</th>\n",
       "      <th></th>\n",
       "    </tr>\n",
       "  </thead>\n",
       "  <tbody>\n",
       "    <tr>\n",
       "      <th>KNN</th>\n",
       "      <td>0.530612</td>\n",
       "    </tr>\n",
       "    <tr>\n",
       "      <th>SVM</th>\n",
       "      <td>0.346939</td>\n",
       "    </tr>\n",
       "    <tr>\n",
       "      <th>DecisionTree</th>\n",
       "      <td>0.469388</td>\n",
       "    </tr>\n",
       "    <tr>\n",
       "      <th>Bagging</th>\n",
       "      <td>0.510204</td>\n",
       "    </tr>\n",
       "    <tr>\n",
       "      <th>RandomForest</th>\n",
       "      <td>0.489796</td>\n",
       "    </tr>\n",
       "    <tr>\n",
       "      <th>Baseline</th>\n",
       "      <td>0.459184</td>\n",
       "    </tr>\n",
       "  </tbody>\n",
       "</table>\n",
       "</div>"
      ],
      "text/plain": [
       "              Accuracy\n",
       "Model                 \n",
       "KNN           0.530612\n",
       "SVM           0.346939\n",
       "DecisionTree  0.469388\n",
       "Bagging       0.510204\n",
       "RandomForest  0.489796\n",
       "Baseline      0.459184"
      ]
     },
     "execution_count": 240,
     "metadata": {},
     "output_type": "execute_result"
    }
   ],
   "source": [
    "class_summary"
   ]
  },
  {
   "cell_type": "markdown",
   "metadata": {},
   "source": [
    "KNN achieved the highest accuracy, with an ensemble bagging classifier achieving the second-highest accuracy. All of the classification models peformed better than baseline, otherthan SVM.\n",
    "\n",
    "Unforunately, there is no simple way to extract feature weights or importances for either DecisionTree or RandomForest classifier. The random forest model was the next most accurate so I will look at the feature importances from this model."
   ]
  },
  {
   "cell_type": "code",
   "execution_count": 241,
   "metadata": {},
   "outputs": [
    {
     "data": {
      "text/html": [
       "<div>\n",
       "<style scoped>\n",
       "    .dataframe tbody tr th:only-of-type {\n",
       "        vertical-align: middle;\n",
       "    }\n",
       "\n",
       "    .dataframe tbody tr th {\n",
       "        vertical-align: top;\n",
       "    }\n",
       "\n",
       "    .dataframe thead th {\n",
       "        text-align: right;\n",
       "    }\n",
       "</style>\n",
       "<table border=\"1\" class=\"dataframe\">\n",
       "  <thead>\n",
       "    <tr style=\"text-align: right;\">\n",
       "      <th></th>\n",
       "      <th>feature</th>\n",
       "      <th>importance</th>\n",
       "    </tr>\n",
       "  </thead>\n",
       "  <tbody>\n",
       "    <tr>\n",
       "      <th>217</th>\n",
       "      <td>kw_au</td>\n",
       "      <td>0.044463</td>\n",
       "    </tr>\n",
       "    <tr>\n",
       "      <th>108</th>\n",
       "      <td>kw_candid</td>\n",
       "      <td>0.041677</td>\n",
       "    </tr>\n",
       "    <tr>\n",
       "      <th>120</th>\n",
       "      <td>kw_drive</td>\n",
       "      <td>0.038194</td>\n",
       "    </tr>\n",
       "    <tr>\n",
       "      <th>128</th>\n",
       "      <td>kw_base</td>\n",
       "      <td>0.033333</td>\n",
       "    </tr>\n",
       "    <tr>\n",
       "      <th>65</th>\n",
       "      <td>kw_process</td>\n",
       "      <td>0.033333</td>\n",
       "    </tr>\n",
       "    <tr>\n",
       "      <th>538</th>\n",
       "      <td>kw_view</td>\n",
       "      <td>0.032732</td>\n",
       "    </tr>\n",
       "    <tr>\n",
       "      <th>40</th>\n",
       "      <td>kw_analyt</td>\n",
       "      <td>0.028606</td>\n",
       "    </tr>\n",
       "    <tr>\n",
       "      <th>59</th>\n",
       "      <td>kw_servic</td>\n",
       "      <td>0.028094</td>\n",
       "    </tr>\n",
       "    <tr>\n",
       "      <th>228</th>\n",
       "      <td>kw_thi</td>\n",
       "      <td>0.024381</td>\n",
       "    </tr>\n",
       "    <tr>\n",
       "      <th>114</th>\n",
       "      <td>kw_relat</td>\n",
       "      <td>0.022855</td>\n",
       "    </tr>\n",
       "  </tbody>\n",
       "</table>\n",
       "</div>"
      ],
      "text/plain": [
       "        feature  importance\n",
       "217       kw_au    0.044463\n",
       "108   kw_candid    0.041677\n",
       "120    kw_drive    0.038194\n",
       "128     kw_base    0.033333\n",
       "65   kw_process    0.033333\n",
       "538     kw_view    0.032732\n",
       "40    kw_analyt    0.028606\n",
       "59    kw_servic    0.028094\n",
       "228      kw_thi    0.024381\n",
       "114    kw_relat    0.022855"
      ]
     },
     "execution_count": 241,
     "metadata": {},
     "output_type": "execute_result"
    }
   ],
   "source": [
    "importance = rf.feature_importances_\n",
    "importance_df = pd.DataFrame({'feature':X.columns, 'importance':importance}).sort_values('importance', ascending= False)\n",
    "importance_df.head(10)"
   ]
  },
  {
   "cell_type": "markdown",
   "metadata": {},
   "source": [
    "Both 'learning' in the job title and 'model' in the job summary appear to be important for classifying the salary level of the \n",
    "job, suggesting that carrying out machine learning and modelling affects the level of pay. 'Scientist' also appears in the list,\n",
    "suggesting that perhaps data scientist jobs (where one would likely be doing more machine learning) are typically in a different\n",
    "pay grade to other jobs. The keyword 'head' also appears, unsurprisingly, suggesting that leadership positions also have an \n",
    "impact on salary class."
   ]
  },
  {
   "cell_type": "markdown",
   "metadata": {},
   "source": [
    "# 3.6 Imputing values for full dataset"
   ]
  },
  {
   "cell_type": "markdown",
   "metadata": {},
   "source": [
    "Since a large number of rows in my original dataset were missing information for the salary, I can use the models above to \n",
    "attempt to impute values. One caveat here is that I am attempting to impute values to a large number of rows using models built \n",
    "on only a small minority of the total rows. Furthermore, none of my models achieved above 64% accuracy, so a large number of the\n",
    "predicted rows can be expected to be incorrect. While I will still go ahead and impute this data, I may elect to drop these \n",
    "variables in future modelling."
   ]
  },
  {
   "cell_type": "code",
   "execution_count": 242,
   "metadata": {},
   "outputs": [],
   "source": [
    "#Imputing mean salary using linear regression.\n",
    "#Define null-value predictors\n",
    "null_salary = jobs[jobs['salary_mean'].isnull()==True]\n",
    "Xnull = null_salary.iloc[:,7:]\n",
    "dropcols = ['title_machine','kw_machin','kw_environment']\n",
    "Xnull.drop(dropcols, axis=1, inplace=True)\n",
    "Xnull_sub = Xnull[rfesupported.feature]"
   ]
  },
  {
   "cell_type": "code",
   "execution_count": 243,
   "metadata": {},
   "outputs": [
    {
     "data": {
      "text/plain": [
       "ElasticNet(alpha=27.010545670198585, copy_X=True, fit_intercept=True,\n",
       "      l1_ratio=0.01, max_iter=1000, normalize=False, positive=False,\n",
       "      precompute=False, random_state=None, selection='cyclic', tol=0.0001,\n",
       "      warm_start=False)"
      ]
     },
     "execution_count": 243,
     "metadata": {},
     "output_type": "execute_result"
    }
   ],
   "source": [
    "#Predict mean salary using elastic net regression model\n",
    "l1_ratios = np.linspace(0.01, 1.0, 25)\n",
    "elasticnet = ElasticNetCV(l1_ratio = l1_ratios,n_alphas = 200, cv=10)\n",
    "elasticnet.fit(Xsub_train,y_train)\n",
    "optimalenet = ElasticNet(alpha = elasticnet.alpha_, l1_ratio = elasticnet.l1_ratio_)\n",
    "optimalenet.fit(Xsub_train, y_train)"
   ]
  },
  {
   "cell_type": "code",
   "execution_count": 244,
   "metadata": {},
   "outputs": [],
   "source": [
    "predicted = optimalenet.predict(Xnull_sub)"
   ]
  },
  {
   "cell_type": "code",
   "execution_count": 245,
   "metadata": {},
   "outputs": [
    {
     "name": "stderr",
     "output_type": "stream",
     "text": [
      "C:\\Users\\sreej\\Anaconda3\\lib\\site-packages\\ipykernel_launcher.py:2: SettingWithCopyWarning: \n",
      "A value is trying to be set on a copy of a slice from a DataFrame.\n",
      "Try using .loc[row_indexer,col_indexer] = value instead\n",
      "\n",
      "See the caveats in the documentation: http://pandas.pydata.org/pandas-docs/stable/indexing.html#indexing-view-versus-copy\n",
      "  \n"
     ]
    }
   ],
   "source": [
    "#Impute these values to the mean salary column\n",
    "null_salary['salary_mean'] = predicted*100000"
   ]
  },
  {
   "cell_type": "code",
   "execution_count": 246,
   "metadata": {},
   "outputs": [],
   "source": [
    "#Predict salary classes using bag ensemble model\n",
    "predicted_class = svm_best.predict(Xnull)"
   ]
  },
  {
   "cell_type": "code",
   "execution_count": 247,
   "metadata": {},
   "outputs": [
    {
     "name": "stderr",
     "output_type": "stream",
     "text": [
      "C:\\Users\\sreej\\Anaconda3\\lib\\site-packages\\ipykernel_launcher.py:2: SettingWithCopyWarning: \n",
      "A value is trying to be set on a copy of a slice from a DataFrame.\n",
      "Try using .loc[row_indexer,col_indexer] = value instead\n",
      "\n",
      "See the caveats in the documentation: http://pandas.pydata.org/pandas-docs/stable/indexing.html#indexing-view-versus-copy\n",
      "  \n"
     ]
    },
    {
     "data": {
      "text/plain": [
       "2    152\n",
       "1    126\n",
       "0    102\n",
       "Name: salary_class, dtype: int64"
      ]
     },
     "execution_count": 247,
     "metadata": {},
     "output_type": "execute_result"
    }
   ],
   "source": [
    "#Impute to data frame\n",
    "null_salary['salary_class'] = predicted_class\n",
    "null_salary['salary_class'].value_counts()\n",
    "#This is just applying one class to everything. This will not be useful for clustering and will likely be dropped."
   ]
  },
  {
   "cell_type": "code",
   "execution_count": 248,
   "metadata": {},
   "outputs": [],
   "source": [
    "#Concatenate these with the rows that had pre-existing salary information to form a full dataset.\n",
    "jobs_full = pd.concat([null_salary, jobs_subset])\n",
    "jobs_full.set_index('index', inplace=True)"
   ]
  },
  {
   "cell_type": "code",
   "execution_count": 249,
   "metadata": {},
   "outputs": [
    {
     "data": {
      "text/html": [
       "<div>\n",
       "<style scoped>\n",
       "    .dataframe tbody tr th:only-of-type {\n",
       "        vertical-align: middle;\n",
       "    }\n",
       "\n",
       "    .dataframe tbody tr th {\n",
       "        vertical-align: top;\n",
       "    }\n",
       "\n",
       "    .dataframe thead th {\n",
       "        text-align: right;\n",
       "    }\n",
       "</style>\n",
       "<table border=\"1\" class=\"dataframe\">\n",
       "  <thead>\n",
       "    <tr style=\"text-align: right;\">\n",
       "      <th></th>\n",
       "      <th>company</th>\n",
       "      <th>title</th>\n",
       "      <th>salary_low</th>\n",
       "      <th>salary_high</th>\n",
       "      <th>salary_mean</th>\n",
       "      <th>title_data</th>\n",
       "      <th>title_analyst</th>\n",
       "      <th>title_scientist</th>\n",
       "      <th>title_senior</th>\n",
       "      <th>title_engineer</th>\n",
       "      <th>...</th>\n",
       "      <th>skill_spark</th>\n",
       "      <th>skill_hadoop</th>\n",
       "      <th>skill_tableau</th>\n",
       "      <th>skill_r</th>\n",
       "      <th>skill_excel</th>\n",
       "      <th>skill_sas</th>\n",
       "      <th>skill_spss</th>\n",
       "      <th>skill_aws</th>\n",
       "      <th>skill_kafka</th>\n",
       "      <th>salary_class</th>\n",
       "    </tr>\n",
       "    <tr>\n",
       "      <th>index</th>\n",
       "      <th></th>\n",
       "      <th></th>\n",
       "      <th></th>\n",
       "      <th></th>\n",
       "      <th></th>\n",
       "      <th></th>\n",
       "      <th></th>\n",
       "      <th></th>\n",
       "      <th></th>\n",
       "      <th></th>\n",
       "      <th></th>\n",
       "      <th></th>\n",
       "      <th></th>\n",
       "      <th></th>\n",
       "      <th></th>\n",
       "      <th></th>\n",
       "      <th></th>\n",
       "      <th></th>\n",
       "      <th></th>\n",
       "      <th></th>\n",
       "      <th></th>\n",
       "    </tr>\n",
       "  </thead>\n",
       "  <tbody>\n",
       "    <tr>\n",
       "      <th>0</th>\n",
       "      <td>Allianz</td>\n",
       "      <td>DATA SCIENTIST</td>\n",
       "      <td>NaN</td>\n",
       "      <td>NaN</td>\n",
       "      <td>110204.081633</td>\n",
       "      <td>0.601265</td>\n",
       "      <td>0.0</td>\n",
       "      <td>0.799049</td>\n",
       "      <td>0.0</td>\n",
       "      <td>0.0</td>\n",
       "      <td>...</td>\n",
       "      <td>0</td>\n",
       "      <td>0</td>\n",
       "      <td>0</td>\n",
       "      <td>1</td>\n",
       "      <td>0</td>\n",
       "      <td>1</td>\n",
       "      <td>0</td>\n",
       "      <td>0</td>\n",
       "      <td>0</td>\n",
       "      <td>1</td>\n",
       "    </tr>\n",
       "    <tr>\n",
       "      <th>1</th>\n",
       "      <td>Teradata</td>\n",
       "      <td>Data Scientist</td>\n",
       "      <td>NaN</td>\n",
       "      <td>NaN</td>\n",
       "      <td>110204.081633</td>\n",
       "      <td>0.601265</td>\n",
       "      <td>0.0</td>\n",
       "      <td>0.799049</td>\n",
       "      <td>0.0</td>\n",
       "      <td>0.0</td>\n",
       "      <td>...</td>\n",
       "      <td>1</td>\n",
       "      <td>1</td>\n",
       "      <td>0</td>\n",
       "      <td>1</td>\n",
       "      <td>1</td>\n",
       "      <td>0</td>\n",
       "      <td>0</td>\n",
       "      <td>0</td>\n",
       "      <td>0</td>\n",
       "      <td>2</td>\n",
       "    </tr>\n",
       "    <tr>\n",
       "      <th>2</th>\n",
       "      <td>carsales.com.au</td>\n",
       "      <td>Data Scientist - 12 month contract</td>\n",
       "      <td>NaN</td>\n",
       "      <td>NaN</td>\n",
       "      <td>110204.081633</td>\n",
       "      <td>0.202216</td>\n",
       "      <td>0.0</td>\n",
       "      <td>0.268734</td>\n",
       "      <td>0.0</td>\n",
       "      <td>0.0</td>\n",
       "      <td>...</td>\n",
       "      <td>0</td>\n",
       "      <td>0</td>\n",
       "      <td>0</td>\n",
       "      <td>1</td>\n",
       "      <td>1</td>\n",
       "      <td>1</td>\n",
       "      <td>1</td>\n",
       "      <td>0</td>\n",
       "      <td>0</td>\n",
       "      <td>1</td>\n",
       "    </tr>\n",
       "    <tr>\n",
       "      <th>3</th>\n",
       "      <td>EY</td>\n",
       "      <td>Data Scientist - Melbourne</td>\n",
       "      <td>NaN</td>\n",
       "      <td>NaN</td>\n",
       "      <td>110204.081633</td>\n",
       "      <td>0.323487</td>\n",
       "      <td>0.0</td>\n",
       "      <td>0.429897</td>\n",
       "      <td>0.0</td>\n",
       "      <td>0.0</td>\n",
       "      <td>...</td>\n",
       "      <td>0</td>\n",
       "      <td>0</td>\n",
       "      <td>1</td>\n",
       "      <td>1</td>\n",
       "      <td>0</td>\n",
       "      <td>1</td>\n",
       "      <td>1</td>\n",
       "      <td>0</td>\n",
       "      <td>0</td>\n",
       "      <td>2</td>\n",
       "    </tr>\n",
       "    <tr>\n",
       "      <th>4</th>\n",
       "      <td>Culture Amp</td>\n",
       "      <td>Data Scientist</td>\n",
       "      <td>NaN</td>\n",
       "      <td>NaN</td>\n",
       "      <td>110204.081633</td>\n",
       "      <td>0.601265</td>\n",
       "      <td>0.0</td>\n",
       "      <td>0.799049</td>\n",
       "      <td>0.0</td>\n",
       "      <td>0.0</td>\n",
       "      <td>...</td>\n",
       "      <td>1</td>\n",
       "      <td>1</td>\n",
       "      <td>0</td>\n",
       "      <td>1</td>\n",
       "      <td>0</td>\n",
       "      <td>0</td>\n",
       "      <td>0</td>\n",
       "      <td>0</td>\n",
       "      <td>0</td>\n",
       "      <td>2</td>\n",
       "    </tr>\n",
       "  </tbody>\n",
       "</table>\n",
       "<p>5 rows × 5056 columns</p>\n",
       "</div>"
      ],
      "text/plain": [
       "               company                               title  salary_low  \\\n",
       "index                                                                    \n",
       "0              Allianz                      DATA SCIENTIST         NaN   \n",
       "1             Teradata                      Data Scientist         NaN   \n",
       "2      carsales.com.au  Data Scientist - 12 month contract         NaN   \n",
       "3                   EY          Data Scientist - Melbourne         NaN   \n",
       "4          Culture Amp                      Data Scientist         NaN   \n",
       "\n",
       "       salary_high    salary_mean  title_data  title_analyst  title_scientist  \\\n",
       "index                                                                           \n",
       "0              NaN  110204.081633    0.601265            0.0         0.799049   \n",
       "1              NaN  110204.081633    0.601265            0.0         0.799049   \n",
       "2              NaN  110204.081633    0.202216            0.0         0.268734   \n",
       "3              NaN  110204.081633    0.323487            0.0         0.429897   \n",
       "4              NaN  110204.081633    0.601265            0.0         0.799049   \n",
       "\n",
       "       title_senior  title_engineer      ...       skill_spark  skill_hadoop  \\\n",
       "index                                    ...                                   \n",
       "0               0.0             0.0      ...                 0             0   \n",
       "1               0.0             0.0      ...                 1             1   \n",
       "2               0.0             0.0      ...                 0             0   \n",
       "3               0.0             0.0      ...                 0             0   \n",
       "4               0.0             0.0      ...                 1             1   \n",
       "\n",
       "       skill_tableau  skill_r  skill_excel  skill_sas  skill_spss  skill_aws  \\\n",
       "index                                                                          \n",
       "0                  0        1            0          1           0          0   \n",
       "1                  0        1            1          0           0          0   \n",
       "2                  0        1            1          1           1          0   \n",
       "3                  1        1            0          1           1          0   \n",
       "4                  0        1            0          0           0          0   \n",
       "\n",
       "       skill_kafka  salary_class  \n",
       "index                             \n",
       "0                0             1  \n",
       "1                0             2  \n",
       "2                0             1  \n",
       "3                0             2  \n",
       "4                0             2  \n",
       "\n",
       "[5 rows x 5056 columns]"
      ]
     },
     "execution_count": 249,
     "metadata": {},
     "output_type": "execute_result"
    }
   ],
   "source": [
    "jobs_full.head()"
   ]
  },
  {
   "cell_type": "code",
   "execution_count": 250,
   "metadata": {},
   "outputs": [],
   "source": [
    "#Export to a .csv file for use in question 2\n",
    "filename = 'jobs_full.csv'\n",
    "jobs_full.to_csv(filename)"
   ]
  }
 ],
 "metadata": {
  "kernelspec": {
   "display_name": "Python 3",
   "language": "python",
   "name": "python3"
  },
  "language_info": {
   "codemirror_mode": {
    "name": "ipython",
    "version": 3
   },
   "file_extension": ".py",
   "mimetype": "text/x-python",
   "name": "python",
   "nbconvert_exporter": "python",
   "pygments_lexer": "ipython3",
   "version": "3.6.3"
  }
 },
 "nbformat": 4,
 "nbformat_minor": 2
}
